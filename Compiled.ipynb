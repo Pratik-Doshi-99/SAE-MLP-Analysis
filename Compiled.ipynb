{
  "cells": [
    {
      "cell_type": "code",
      "execution_count": null,
      "id": "6fdecf9f-d78d-410b-96e0-e3ca8d039f9e",
      "metadata": {
        "scrolled": true,
        "id": "6fdecf9f-d78d-410b-96e0-e3ca8d039f9e",
        "outputId": "e9326d4d-a5f3-403a-eb83-381a02d2f489",
        "colab": {
          "base_uri": "https://localhost:8080/"
        },
        "collapsed": true
      },
      "outputs": [
        {
          "output_type": "stream",
          "name": "stdout",
          "text": [
            "Requirement already satisfied: sae-lens in /usr/local/lib/python3.10/dist-packages (3.18.2)\n",
            "Requirement already satisfied: transformer-lens in /usr/local/lib/python3.10/dist-packages (2.4.0)\n",
            "Requirement already satisfied: circuitsvis in /usr/local/lib/python3.10/dist-packages (1.43.2)\n",
            "Requirement already satisfied: automated-interpretability<1.0.0,>=0.0.5 in /usr/local/lib/python3.10/dist-packages (from sae-lens) (0.0.6)\n",
            "Requirement already satisfied: babe<0.0.8,>=0.0.7 in /usr/local/lib/python3.10/dist-packages (from sae-lens) (0.0.7)\n",
            "Requirement already satisfied: datasets<3.0.0,>=2.17.1 in /usr/local/lib/python3.10/dist-packages (from sae-lens) (2.21.0)\n",
            "Requirement already satisfied: matplotlib<4.0.0,>=3.8.3 in /usr/local/lib/python3.10/dist-packages (from sae-lens) (3.9.2)\n",
            "Requirement already satisfied: matplotlib-inline<0.2.0,>=0.1.6 in /usr/local/lib/python3.10/dist-packages (from sae-lens) (0.1.7)\n",
            "Requirement already satisfied: nltk<4.0.0,>=3.8.1 in /usr/local/lib/python3.10/dist-packages (from sae-lens) (3.8.1)\n",
            "Requirement already satisfied: plotly<6.0.0,>=5.19.0 in /usr/local/lib/python3.10/dist-packages (from sae-lens) (5.23.0)\n",
            "Requirement already satisfied: plotly-express<0.5.0,>=0.4.1 in /usr/local/lib/python3.10/dist-packages (from sae-lens) (0.4.1)\n",
            "Requirement already satisfied: pytest-profiling<2.0.0,>=1.7.0 in /usr/local/lib/python3.10/dist-packages (from sae-lens) (1.7.0)\n",
            "Requirement already satisfied: python-dotenv<2.0.0,>=1.0.1 in /usr/local/lib/python3.10/dist-packages (from sae-lens) (1.0.1)\n",
            "Requirement already satisfied: pyyaml<7.0.0,>=6.0.1 in /usr/local/lib/python3.10/dist-packages (from sae-lens) (6.0.2)\n",
            "Requirement already satisfied: pyzmq==26.0.0 in /usr/local/lib/python3.10/dist-packages (from sae-lens) (26.0.0)\n",
            "Requirement already satisfied: safetensors<0.5.0,>=0.4.2 in /usr/local/lib/python3.10/dist-packages (from sae-lens) (0.4.4)\n",
            "Requirement already satisfied: transformers<5.0.0,>=4.38.1 in /usr/local/lib/python3.10/dist-packages (from sae-lens) (4.42.4)\n",
            "Requirement already satisfied: typer<0.13.0,>=0.12.3 in /usr/local/lib/python3.10/dist-packages (from sae-lens) (0.12.5)\n",
            "Requirement already satisfied: typing-extensions<5.0.0,>=4.10.0 in /usr/local/lib/python3.10/dist-packages (from sae-lens) (4.12.2)\n",
            "Requirement already satisfied: zstandard<0.23.0,>=0.22.0 in /usr/local/lib/python3.10/dist-packages (from sae-lens) (0.22.0)\n",
            "Requirement already satisfied: accelerate>=0.23.0 in /usr/local/lib/python3.10/dist-packages (from transformer-lens) (0.32.1)\n",
            "Requirement already satisfied: beartype<0.15.0,>=0.14.1 in /usr/local/lib/python3.10/dist-packages (from transformer-lens) (0.14.1)\n",
            "Requirement already satisfied: better-abc<0.0.4,>=0.0.3 in /usr/local/lib/python3.10/dist-packages (from transformer-lens) (0.0.3)\n",
            "Requirement already satisfied: einops>=0.6.0 in /usr/local/lib/python3.10/dist-packages (from transformer-lens) (0.8.0)\n",
            "Requirement already satisfied: fancy-einsum>=0.0.3 in /usr/local/lib/python3.10/dist-packages (from transformer-lens) (0.0.3)\n",
            "Requirement already satisfied: jaxtyping>=0.2.11 in /usr/local/lib/python3.10/dist-packages (from transformer-lens) (0.2.33)\n",
            "Requirement already satisfied: numpy>=1.24 in /usr/local/lib/python3.10/dist-packages (from transformer-lens) (1.26.4)\n",
            "Requirement already satisfied: pandas>=1.1.5 in /usr/local/lib/python3.10/dist-packages (from transformer-lens) (2.1.4)\n",
            "Requirement already satisfied: rich>=12.6.0 in /usr/local/lib/python3.10/dist-packages (from transformer-lens) (13.8.0)\n",
            "Requirement already satisfied: sentencepiece in /usr/local/lib/python3.10/dist-packages (from transformer-lens) (0.1.99)\n",
            "Requirement already satisfied: torch>=1.10 in /usr/local/lib/python3.10/dist-packages (from transformer-lens) (2.4.0+cu121)\n",
            "Requirement already satisfied: tqdm>=4.64.1 in /usr/local/lib/python3.10/dist-packages (from transformer-lens) (4.66.5)\n",
            "Requirement already satisfied: wandb>=0.13.5 in /usr/local/lib/python3.10/dist-packages (from transformer-lens) (0.17.8)\n",
            "Requirement already satisfied: importlib-metadata>=5.1.0 in /usr/local/lib/python3.10/dist-packages (from circuitsvis) (8.4.0)\n",
            "Requirement already satisfied: nvidia-cublas-cu12==12.1.3.1 in /usr/local/lib/python3.10/dist-packages (from circuitsvis) (12.1.3.1)\n",
            "Requirement already satisfied: nvidia-cuda-cupti-cu12==12.1.105 in /usr/local/lib/python3.10/dist-packages (from circuitsvis) (12.1.105)\n",
            "Requirement already satisfied: nvidia-cuda-nvrtc-cu12==12.1.105 in /usr/local/lib/python3.10/dist-packages (from circuitsvis) (12.1.105)\n",
            "Requirement already satisfied: nvidia-cuda-runtime-cu12==12.1.105 in /usr/local/lib/python3.10/dist-packages (from circuitsvis) (12.1.105)\n",
            "Requirement already satisfied: nvidia-cudnn-cu12==8.9.2.26 in /usr/local/lib/python3.10/dist-packages (from circuitsvis) (8.9.2.26)\n",
            "Requirement already satisfied: nvidia-cufft-cu12==11.0.2.54 in /usr/local/lib/python3.10/dist-packages (from circuitsvis) (11.0.2.54)\n",
            "Requirement already satisfied: nvidia-curand-cu12==10.3.2.106 in /usr/local/lib/python3.10/dist-packages (from circuitsvis) (10.3.2.106)\n",
            "Requirement already satisfied: nvidia-cusolver-cu12==11.4.5.107 in /usr/local/lib/python3.10/dist-packages (from circuitsvis) (11.4.5.107)\n",
            "Requirement already satisfied: nvidia-cusparse-cu12==12.1.0.106 in /usr/local/lib/python3.10/dist-packages (from circuitsvis) (12.1.0.106)\n",
            "Requirement already satisfied: nvidia-nccl-cu12==2.18.1 in /usr/local/lib/python3.10/dist-packages (from circuitsvis) (2.18.1)\n",
            "Requirement already satisfied: nvidia-nvtx-cu12==12.1.105 in /usr/local/lib/python3.10/dist-packages (from circuitsvis) (12.1.105)\n",
            "Requirement already satisfied: triton==2.1.0 in /usr/local/lib/python3.10/dist-packages (from circuitsvis) (2.1.0)\n",
            "Requirement already satisfied: nvidia-nvjitlink-cu12 in /usr/local/lib/python3.10/dist-packages (from nvidia-cusolver-cu12==11.4.5.107->circuitsvis) (12.6.20)\n",
            "Requirement already satisfied: filelock in /usr/local/lib/python3.10/dist-packages (from triton==2.1.0->circuitsvis) (3.15.4)\n",
            "Requirement already satisfied: packaging>=20.0 in /usr/local/lib/python3.10/dist-packages (from accelerate>=0.23.0->transformer-lens) (24.1)\n",
            "Requirement already satisfied: psutil in /usr/local/lib/python3.10/dist-packages (from accelerate>=0.23.0->transformer-lens) (5.9.5)\n",
            "Requirement already satisfied: huggingface-hub in /usr/local/lib/python3.10/dist-packages (from accelerate>=0.23.0->transformer-lens) (0.23.5)\n",
            "Requirement already satisfied: blobfile<3.0.0,>=2.1.1 in /usr/local/lib/python3.10/dist-packages (from automated-interpretability<1.0.0,>=0.0.5->sae-lens) (2.1.1)\n",
            "Requirement already satisfied: boostedblob<0.16.0,>=0.15.3 in /usr/local/lib/python3.10/dist-packages (from automated-interpretability<1.0.0,>=0.0.5->sae-lens) (0.15.4)\n",
            "Requirement already satisfied: httpx<0.28.0,>=0.27.0 in /usr/local/lib/python3.10/dist-packages (from automated-interpretability<1.0.0,>=0.0.5->sae-lens) (0.27.2)\n",
            "Requirement already satisfied: orjson<4.0.0,>=3.10.1 in /usr/local/lib/python3.10/dist-packages (from automated-interpretability<1.0.0,>=0.0.5->sae-lens) (3.10.7)\n",
            "Requirement already satisfied: scikit-learn<2.0.0,>=1.2.0 in /usr/local/lib/python3.10/dist-packages (from automated-interpretability<1.0.0,>=0.0.5->sae-lens) (1.3.2)\n",
            "Requirement already satisfied: tiktoken<0.7.0,>=0.6.0 in /usr/local/lib/python3.10/dist-packages (from automated-interpretability<1.0.0,>=0.0.5->sae-lens) (0.6.0)\n",
            "Requirement already satisfied: py2store in /usr/local/lib/python3.10/dist-packages (from babe<0.0.8,>=0.0.7->sae-lens) (0.1.20)\n",
            "Requirement already satisfied: graze in /usr/local/lib/python3.10/dist-packages (from babe<0.0.8,>=0.0.7->sae-lens) (0.1.24)\n",
            "Requirement already satisfied: pyarrow>=15.0.0 in /usr/local/lib/python3.10/dist-packages (from datasets<3.0.0,>=2.17.1->sae-lens) (17.0.0)\n",
            "Requirement already satisfied: dill<0.3.9,>=0.3.0 in /usr/local/lib/python3.10/dist-packages (from datasets<3.0.0,>=2.17.1->sae-lens) (0.3.8)\n",
            "Requirement already satisfied: requests>=2.32.2 in /usr/local/lib/python3.10/dist-packages (from datasets<3.0.0,>=2.17.1->sae-lens) (2.32.3)\n",
            "Requirement already satisfied: xxhash in /usr/local/lib/python3.10/dist-packages (from datasets<3.0.0,>=2.17.1->sae-lens) (3.5.0)\n",
            "Requirement already satisfied: multiprocess in /usr/local/lib/python3.10/dist-packages (from datasets<3.0.0,>=2.17.1->sae-lens) (0.70.16)\n",
            "Requirement already satisfied: fsspec<=2024.6.1,>=2023.1.0 in /usr/local/lib/python3.10/dist-packages (from fsspec[http]<=2024.6.1,>=2023.1.0->datasets<3.0.0,>=2.17.1->sae-lens) (2024.6.1)\n",
            "Requirement already satisfied: aiohttp in /usr/local/lib/python3.10/dist-packages (from datasets<3.0.0,>=2.17.1->sae-lens) (3.10.5)\n",
            "Requirement already satisfied: zipp>=0.5 in /usr/local/lib/python3.10/dist-packages (from importlib-metadata>=5.1.0->circuitsvis) (3.20.1)\n",
            "Requirement already satisfied: typeguard==2.13.3 in /usr/local/lib/python3.10/dist-packages (from jaxtyping>=0.2.11->transformer-lens) (2.13.3)\n",
            "Requirement already satisfied: contourpy>=1.0.1 in /usr/local/lib/python3.10/dist-packages (from matplotlib<4.0.0,>=3.8.3->sae-lens) (1.2.1)\n",
            "Requirement already satisfied: cycler>=0.10 in /usr/local/lib/python3.10/dist-packages (from matplotlib<4.0.0,>=3.8.3->sae-lens) (0.12.1)\n",
            "Requirement already satisfied: fonttools>=4.22.0 in /usr/local/lib/python3.10/dist-packages (from matplotlib<4.0.0,>=3.8.3->sae-lens) (4.53.1)\n",
            "Requirement already satisfied: kiwisolver>=1.3.1 in /usr/local/lib/python3.10/dist-packages (from matplotlib<4.0.0,>=3.8.3->sae-lens) (1.4.5)\n",
            "Requirement already satisfied: pillow>=8 in /usr/local/lib/python3.10/dist-packages (from matplotlib<4.0.0,>=3.8.3->sae-lens) (9.4.0)\n",
            "Requirement already satisfied: pyparsing>=2.3.1 in /usr/local/lib/python3.10/dist-packages (from matplotlib<4.0.0,>=3.8.3->sae-lens) (3.1.4)\n",
            "Requirement already satisfied: python-dateutil>=2.7 in /usr/local/lib/python3.10/dist-packages (from matplotlib<4.0.0,>=3.8.3->sae-lens) (2.8.2)\n",
            "Requirement already satisfied: traitlets in /usr/local/lib/python3.10/dist-packages (from matplotlib-inline<0.2.0,>=0.1.6->sae-lens) (5.7.1)\n",
            "Requirement already satisfied: click in /usr/local/lib/python3.10/dist-packages (from nltk<4.0.0,>=3.8.1->sae-lens) (8.1.7)\n",
            "Requirement already satisfied: joblib in /usr/local/lib/python3.10/dist-packages (from nltk<4.0.0,>=3.8.1->sae-lens) (1.4.2)\n",
            "Requirement already satisfied: regex>=2021.8.3 in /usr/local/lib/python3.10/dist-packages (from nltk<4.0.0,>=3.8.1->sae-lens) (2024.5.15)\n",
            "Requirement already satisfied: pytz>=2020.1 in /usr/local/lib/python3.10/dist-packages (from pandas>=1.1.5->transformer-lens) (2024.1)\n",
            "Requirement already satisfied: tzdata>=2022.1 in /usr/local/lib/python3.10/dist-packages (from pandas>=1.1.5->transformer-lens) (2024.1)\n",
            "Requirement already satisfied: tenacity>=6.2.0 in /usr/local/lib/python3.10/dist-packages (from plotly<6.0.0,>=5.19.0->sae-lens) (9.0.0)\n",
            "Requirement already satisfied: statsmodels>=0.9.0 in /usr/local/lib/python3.10/dist-packages (from plotly-express<0.5.0,>=0.4.1->sae-lens) (0.14.2)\n",
            "Requirement already satisfied: scipy>=0.18 in /usr/local/lib/python3.10/dist-packages (from plotly-express<0.5.0,>=0.4.1->sae-lens) (1.13.1)\n",
            "Requirement already satisfied: patsy>=0.5 in /usr/local/lib/python3.10/dist-packages (from plotly-express<0.5.0,>=0.4.1->sae-lens) (0.5.6)\n",
            "Requirement already satisfied: six in /usr/local/lib/python3.10/dist-packages (from pytest-profiling<2.0.0,>=1.7.0->sae-lens) (1.16.0)\n",
            "Requirement already satisfied: pytest in /usr/local/lib/python3.10/dist-packages (from pytest-profiling<2.0.0,>=1.7.0->sae-lens) (7.4.4)\n",
            "Requirement already satisfied: gprof2dot in /usr/local/lib/python3.10/dist-packages (from pytest-profiling<2.0.0,>=1.7.0->sae-lens) (2024.6.6)\n",
            "Requirement already satisfied: markdown-it-py>=2.2.0 in /usr/local/lib/python3.10/dist-packages (from rich>=12.6.0->transformer-lens) (3.0.0)\n",
            "Requirement already satisfied: pygments<3.0.0,>=2.13.0 in /usr/local/lib/python3.10/dist-packages (from rich>=12.6.0->transformer-lens) (2.16.1)\n",
            "Requirement already satisfied: sympy in /usr/local/lib/python3.10/dist-packages (from torch>=1.10->transformer-lens) (1.13.2)\n",
            "Requirement already satisfied: networkx in /usr/local/lib/python3.10/dist-packages (from torch>=1.10->transformer-lens) (3.3)\n",
            "Requirement already satisfied: jinja2 in /usr/local/lib/python3.10/dist-packages (from torch>=1.10->transformer-lens) (3.1.4)\n",
            "Requirement already satisfied: tokenizers<0.20,>=0.19 in /usr/local/lib/python3.10/dist-packages (from transformers<5.0.0,>=4.38.1->sae-lens) (0.19.1)\n",
            "Requirement already satisfied: shellingham>=1.3.0 in /usr/local/lib/python3.10/dist-packages (from typer<0.13.0,>=0.12.3->sae-lens) (1.5.4)\n",
            "Requirement already satisfied: docker-pycreds>=0.4.0 in /usr/local/lib/python3.10/dist-packages (from wandb>=0.13.5->transformer-lens) (0.4.0)\n",
            "Requirement already satisfied: gitpython!=3.1.29,>=1.0.0 in /usr/local/lib/python3.10/dist-packages (from wandb>=0.13.5->transformer-lens) (3.1.43)\n",
            "Requirement already satisfied: platformdirs in /usr/local/lib/python3.10/dist-packages (from wandb>=0.13.5->transformer-lens) (4.2.2)\n",
            "Requirement already satisfied: protobuf!=4.21.0,<6,>=3.19.0 in /usr/local/lib/python3.10/dist-packages (from wandb>=0.13.5->transformer-lens) (3.20.3)\n",
            "Requirement already satisfied: sentry-sdk>=1.0.0 in /usr/local/lib/python3.10/dist-packages (from wandb>=0.13.5->transformer-lens) (2.13.0)\n",
            "Requirement already satisfied: setproctitle in /usr/local/lib/python3.10/dist-packages (from wandb>=0.13.5->transformer-lens) (1.3.3)\n",
            "Requirement already satisfied: setuptools in /usr/local/lib/python3.10/dist-packages (from wandb>=0.13.5->transformer-lens) (71.0.4)\n",
            "Requirement already satisfied: pycryptodomex~=3.8 in /usr/local/lib/python3.10/dist-packages (from blobfile<3.0.0,>=2.1.1->automated-interpretability<1.0.0,>=0.0.5->sae-lens) (3.20.0)\n",
            "Requirement already satisfied: urllib3<3,>=1.25.3 in /usr/local/lib/python3.10/dist-packages (from blobfile<3.0.0,>=2.1.1->automated-interpretability<1.0.0,>=0.0.5->sae-lens) (2.0.7)\n",
            "Requirement already satisfied: lxml~=4.9 in /usr/local/lib/python3.10/dist-packages (from blobfile<3.0.0,>=2.1.1->automated-interpretability<1.0.0,>=0.0.5->sae-lens) (4.9.4)\n",
            "Requirement already satisfied: uvloop>=0.16.0 in /usr/local/lib/python3.10/dist-packages (from boostedblob<0.16.0,>=0.15.3->automated-interpretability<1.0.0,>=0.0.5->sae-lens) (0.20.0)\n",
            "Requirement already satisfied: aiohappyeyeballs>=2.3.0 in /usr/local/lib/python3.10/dist-packages (from aiohttp->datasets<3.0.0,>=2.17.1->sae-lens) (2.4.0)\n",
            "Requirement already satisfied: aiosignal>=1.1.2 in /usr/local/lib/python3.10/dist-packages (from aiohttp->datasets<3.0.0,>=2.17.1->sae-lens) (1.3.1)\n",
            "Requirement already satisfied: attrs>=17.3.0 in /usr/local/lib/python3.10/dist-packages (from aiohttp->datasets<3.0.0,>=2.17.1->sae-lens) (24.2.0)\n",
            "Requirement already satisfied: frozenlist>=1.1.1 in /usr/local/lib/python3.10/dist-packages (from aiohttp->datasets<3.0.0,>=2.17.1->sae-lens) (1.4.1)\n",
            "Requirement already satisfied: multidict<7.0,>=4.5 in /usr/local/lib/python3.10/dist-packages (from aiohttp->datasets<3.0.0,>=2.17.1->sae-lens) (6.0.5)\n",
            "Requirement already satisfied: yarl<2.0,>=1.0 in /usr/local/lib/python3.10/dist-packages (from aiohttp->datasets<3.0.0,>=2.17.1->sae-lens) (1.9.4)\n",
            "Requirement already satisfied: async-timeout<5.0,>=4.0 in /usr/local/lib/python3.10/dist-packages (from aiohttp->datasets<3.0.0,>=2.17.1->sae-lens) (4.0.3)\n",
            "Requirement already satisfied: gitdb<5,>=4.0.1 in /usr/local/lib/python3.10/dist-packages (from gitpython!=3.1.29,>=1.0.0->wandb>=0.13.5->transformer-lens) (4.0.11)\n",
            "Requirement already satisfied: anyio in /usr/local/lib/python3.10/dist-packages (from httpx<0.28.0,>=0.27.0->automated-interpretability<1.0.0,>=0.0.5->sae-lens) (3.7.1)\n",
            "Requirement already satisfied: certifi in /usr/local/lib/python3.10/dist-packages (from httpx<0.28.0,>=0.27.0->automated-interpretability<1.0.0,>=0.0.5->sae-lens) (2024.7.4)\n",
            "Requirement already satisfied: httpcore==1.* in /usr/local/lib/python3.10/dist-packages (from httpx<0.28.0,>=0.27.0->automated-interpretability<1.0.0,>=0.0.5->sae-lens) (1.0.5)\n",
            "Requirement already satisfied: idna in /usr/local/lib/python3.10/dist-packages (from httpx<0.28.0,>=0.27.0->automated-interpretability<1.0.0,>=0.0.5->sae-lens) (3.8)\n",
            "Requirement already satisfied: sniffio in /usr/local/lib/python3.10/dist-packages (from httpx<0.28.0,>=0.27.0->automated-interpretability<1.0.0,>=0.0.5->sae-lens) (1.3.1)\n",
            "Requirement already satisfied: h11<0.15,>=0.13 in /usr/local/lib/python3.10/dist-packages (from httpcore==1.*->httpx<0.28.0,>=0.27.0->automated-interpretability<1.0.0,>=0.0.5->sae-lens) (0.14.0)\n",
            "Requirement already satisfied: mdurl~=0.1 in /usr/local/lib/python3.10/dist-packages (from markdown-it-py>=2.2.0->rich>=12.6.0->transformer-lens) (0.1.2)\n",
            "Requirement already satisfied: charset-normalizer<4,>=2 in /usr/local/lib/python3.10/dist-packages (from requests>=2.32.2->datasets<3.0.0,>=2.17.1->sae-lens) (3.3.2)\n",
            "Requirement already satisfied: threadpoolctl>=2.0.0 in /usr/local/lib/python3.10/dist-packages (from scikit-learn<2.0.0,>=1.2.0->automated-interpretability<1.0.0,>=0.0.5->sae-lens) (3.5.0)\n",
            "Requirement already satisfied: dol in /usr/local/lib/python3.10/dist-packages (from graze->babe<0.0.8,>=0.0.7->sae-lens) (0.2.68)\n",
            "Requirement already satisfied: MarkupSafe>=2.0 in /usr/local/lib/python3.10/dist-packages (from jinja2->torch>=1.10->transformer-lens) (2.1.5)\n",
            "Requirement already satisfied: config2py in /usr/local/lib/python3.10/dist-packages (from py2store->babe<0.0.8,>=0.0.7->sae-lens) (0.1.36)\n",
            "Requirement already satisfied: importlib-resources in /usr/local/lib/python3.10/dist-packages (from py2store->babe<0.0.8,>=0.0.7->sae-lens) (6.4.4)\n",
            "Requirement already satisfied: iniconfig in /usr/local/lib/python3.10/dist-packages (from pytest->pytest-profiling<2.0.0,>=1.7.0->sae-lens) (2.0.0)\n",
            "Requirement already satisfied: pluggy<2.0,>=0.12 in /usr/local/lib/python3.10/dist-packages (from pytest->pytest-profiling<2.0.0,>=1.7.0->sae-lens) (1.5.0)\n",
            "Requirement already satisfied: exceptiongroup>=1.0.0rc8 in /usr/local/lib/python3.10/dist-packages (from pytest->pytest-profiling<2.0.0,>=1.7.0->sae-lens) (1.2.2)\n",
            "Requirement already satisfied: tomli>=1.0.0 in /usr/local/lib/python3.10/dist-packages (from pytest->pytest-profiling<2.0.0,>=1.7.0->sae-lens) (2.0.1)\n",
            "Requirement already satisfied: mpmath<1.4,>=1.1.0 in /usr/local/lib/python3.10/dist-packages (from sympy->torch>=1.10->transformer-lens) (1.3.0)\n",
            "Requirement already satisfied: smmap<6,>=3.0.1 in /usr/local/lib/python3.10/dist-packages (from gitdb<5,>=4.0.1->gitpython!=3.1.29,>=1.0.0->wandb>=0.13.5->transformer-lens) (5.0.1)\n",
            "Requirement already satisfied: i2 in /usr/local/lib/python3.10/dist-packages (from config2py->py2store->babe<0.0.8,>=0.0.7->sae-lens) (0.1.31)\n"
          ]
        }
      ],
      "source": [
        "try:\n",
        "    #import google.colab # type: ignore\n",
        "    #from google.colab import output\n",
        "    %pip install sae-lens transformer-lens circuitsvis\n",
        "except:\n",
        "    from IPython import get_ipython # type: ignore\n",
        "    ipython = get_ipython(); assert ipython is not None\n",
        "    ipython.run_line_magic(\"load_ext\", \"autoreload\")\n",
        "    ipython.run_line_magic(\"autoreload\", \"2\")"
      ]
    },
    {
      "cell_type": "code",
      "execution_count": null,
      "id": "7bdf58ad-ac66-4282-8edc-63c7479f1ed4",
      "metadata": {
        "id": "7bdf58ad-ac66-4282-8edc-63c7479f1ed4"
      },
      "outputs": [],
      "source": [
        "import transformer_lens\n",
        "import torch\n",
        "import pandas as pd\n",
        "import matplotlib.pyplot as plt"
      ]
    },
    {
      "cell_type": "markdown",
      "id": "2580140b-8d85-4a5f-b213-95495702a1a0",
      "metadata": {
        "id": "2580140b-8d85-4a5f-b213-95495702a1a0"
      },
      "source": [
        "## Loading the Annotated Dataset"
      ]
    },
    {
      "cell_type": "code",
      "execution_count": null,
      "id": "85ac8d3a-757b-4e11-ba3d-b2b09ce69662",
      "metadata": {
        "id": "85ac8d3a-757b-4e11-ba3d-b2b09ce69662",
        "outputId": "87669edc-77e9-42cc-89a7-13c4da1037ce",
        "colab": {
          "base_uri": "https://localhost:8080/",
          "height": 363
        }
      },
      "outputs": [
        {
          "output_type": "execute_result",
          "data": {
            "text/plain": [
              "          Word  Gender     Category\n",
              "0      Abigail  Female         Name\n",
              "1      Adeline  Female         Name\n",
              "2      Admiral    Male  Common Noun\n",
              "3  Adventuress  Female  Common Noun\n",
              "4      Alethea  Female         Name\n",
              "5    Alexander    Male         Name\n",
              "6       Alexis  Female         Name\n",
              "7        Alice  Female         Name\n",
              "8   Ambassador    Male  Common Noun\n",
              "9       Amelia  Female         Name"
            ],
            "text/html": [
              "\n",
              "  <div id=\"df-70e26662-8820-4d64-acf4-93ac5cd4f888\" class=\"colab-df-container\">\n",
              "    <div>\n",
              "<style scoped>\n",
              "    .dataframe tbody tr th:only-of-type {\n",
              "        vertical-align: middle;\n",
              "    }\n",
              "\n",
              "    .dataframe tbody tr th {\n",
              "        vertical-align: top;\n",
              "    }\n",
              "\n",
              "    .dataframe thead th {\n",
              "        text-align: right;\n",
              "    }\n",
              "</style>\n",
              "<table border=\"1\" class=\"dataframe\">\n",
              "  <thead>\n",
              "    <tr style=\"text-align: right;\">\n",
              "      <th></th>\n",
              "      <th>Word</th>\n",
              "      <th>Gender</th>\n",
              "      <th>Category</th>\n",
              "    </tr>\n",
              "  </thead>\n",
              "  <tbody>\n",
              "    <tr>\n",
              "      <th>0</th>\n",
              "      <td>Abigail</td>\n",
              "      <td>Female</td>\n",
              "      <td>Name</td>\n",
              "    </tr>\n",
              "    <tr>\n",
              "      <th>1</th>\n",
              "      <td>Adeline</td>\n",
              "      <td>Female</td>\n",
              "      <td>Name</td>\n",
              "    </tr>\n",
              "    <tr>\n",
              "      <th>2</th>\n",
              "      <td>Admiral</td>\n",
              "      <td>Male</td>\n",
              "      <td>Common Noun</td>\n",
              "    </tr>\n",
              "    <tr>\n",
              "      <th>3</th>\n",
              "      <td>Adventuress</td>\n",
              "      <td>Female</td>\n",
              "      <td>Common Noun</td>\n",
              "    </tr>\n",
              "    <tr>\n",
              "      <th>4</th>\n",
              "      <td>Alethea</td>\n",
              "      <td>Female</td>\n",
              "      <td>Name</td>\n",
              "    </tr>\n",
              "    <tr>\n",
              "      <th>5</th>\n",
              "      <td>Alexander</td>\n",
              "      <td>Male</td>\n",
              "      <td>Name</td>\n",
              "    </tr>\n",
              "    <tr>\n",
              "      <th>6</th>\n",
              "      <td>Alexis</td>\n",
              "      <td>Female</td>\n",
              "      <td>Name</td>\n",
              "    </tr>\n",
              "    <tr>\n",
              "      <th>7</th>\n",
              "      <td>Alice</td>\n",
              "      <td>Female</td>\n",
              "      <td>Name</td>\n",
              "    </tr>\n",
              "    <tr>\n",
              "      <th>8</th>\n",
              "      <td>Ambassador</td>\n",
              "      <td>Male</td>\n",
              "      <td>Common Noun</td>\n",
              "    </tr>\n",
              "    <tr>\n",
              "      <th>9</th>\n",
              "      <td>Amelia</td>\n",
              "      <td>Female</td>\n",
              "      <td>Name</td>\n",
              "    </tr>\n",
              "  </tbody>\n",
              "</table>\n",
              "</div>\n",
              "    <div class=\"colab-df-buttons\">\n",
              "\n",
              "  <div class=\"colab-df-container\">\n",
              "    <button class=\"colab-df-convert\" onclick=\"convertToInteractive('df-70e26662-8820-4d64-acf4-93ac5cd4f888')\"\n",
              "            title=\"Convert this dataframe to an interactive table.\"\n",
              "            style=\"display:none;\">\n",
              "\n",
              "  <svg xmlns=\"http://www.w3.org/2000/svg\" height=\"24px\" viewBox=\"0 -960 960 960\">\n",
              "    <path d=\"M120-120v-720h720v720H120Zm60-500h600v-160H180v160Zm220 220h160v-160H400v160Zm0 220h160v-160H400v160ZM180-400h160v-160H180v160Zm440 0h160v-160H620v160ZM180-180h160v-160H180v160Zm440 0h160v-160H620v160Z\"/>\n",
              "  </svg>\n",
              "    </button>\n",
              "\n",
              "  <style>\n",
              "    .colab-df-container {\n",
              "      display:flex;\n",
              "      gap: 12px;\n",
              "    }\n",
              "\n",
              "    .colab-df-convert {\n",
              "      background-color: #E8F0FE;\n",
              "      border: none;\n",
              "      border-radius: 50%;\n",
              "      cursor: pointer;\n",
              "      display: none;\n",
              "      fill: #1967D2;\n",
              "      height: 32px;\n",
              "      padding: 0 0 0 0;\n",
              "      width: 32px;\n",
              "    }\n",
              "\n",
              "    .colab-df-convert:hover {\n",
              "      background-color: #E2EBFA;\n",
              "      box-shadow: 0px 1px 2px rgba(60, 64, 67, 0.3), 0px 1px 3px 1px rgba(60, 64, 67, 0.15);\n",
              "      fill: #174EA6;\n",
              "    }\n",
              "\n",
              "    .colab-df-buttons div {\n",
              "      margin-bottom: 4px;\n",
              "    }\n",
              "\n",
              "    [theme=dark] .colab-df-convert {\n",
              "      background-color: #3B4455;\n",
              "      fill: #D2E3FC;\n",
              "    }\n",
              "\n",
              "    [theme=dark] .colab-df-convert:hover {\n",
              "      background-color: #434B5C;\n",
              "      box-shadow: 0px 1px 3px 1px rgba(0, 0, 0, 0.15);\n",
              "      filter: drop-shadow(0px 1px 2px rgba(0, 0, 0, 0.3));\n",
              "      fill: #FFFFFF;\n",
              "    }\n",
              "  </style>\n",
              "\n",
              "    <script>\n",
              "      const buttonEl =\n",
              "        document.querySelector('#df-70e26662-8820-4d64-acf4-93ac5cd4f888 button.colab-df-convert');\n",
              "      buttonEl.style.display =\n",
              "        google.colab.kernel.accessAllowed ? 'block' : 'none';\n",
              "\n",
              "      async function convertToInteractive(key) {\n",
              "        const element = document.querySelector('#df-70e26662-8820-4d64-acf4-93ac5cd4f888');\n",
              "        const dataTable =\n",
              "          await google.colab.kernel.invokeFunction('convertToInteractive',\n",
              "                                                    [key], {});\n",
              "        if (!dataTable) return;\n",
              "\n",
              "        const docLinkHtml = 'Like what you see? Visit the ' +\n",
              "          '<a target=\"_blank\" href=https://colab.research.google.com/notebooks/data_table.ipynb>data table notebook</a>'\n",
              "          + ' to learn more about interactive tables.';\n",
              "        element.innerHTML = '';\n",
              "        dataTable['output_type'] = 'display_data';\n",
              "        await google.colab.output.renderOutput(dataTable, element);\n",
              "        const docLink = document.createElement('div');\n",
              "        docLink.innerHTML = docLinkHtml;\n",
              "        element.appendChild(docLink);\n",
              "      }\n",
              "    </script>\n",
              "  </div>\n",
              "\n",
              "\n",
              "<div id=\"df-8df70fee-a414-4c27-83e1-73f285c9dd97\">\n",
              "  <button class=\"colab-df-quickchart\" onclick=\"quickchart('df-8df70fee-a414-4c27-83e1-73f285c9dd97')\"\n",
              "            title=\"Suggest charts\"\n",
              "            style=\"display:none;\">\n",
              "\n",
              "<svg xmlns=\"http://www.w3.org/2000/svg\" height=\"24px\"viewBox=\"0 0 24 24\"\n",
              "     width=\"24px\">\n",
              "    <g>\n",
              "        <path d=\"M19 3H5c-1.1 0-2 .9-2 2v14c0 1.1.9 2 2 2h14c1.1 0 2-.9 2-2V5c0-1.1-.9-2-2-2zM9 17H7v-7h2v7zm4 0h-2V7h2v10zm4 0h-2v-4h2v4z\"/>\n",
              "    </g>\n",
              "</svg>\n",
              "  </button>\n",
              "\n",
              "<style>\n",
              "  .colab-df-quickchart {\n",
              "      --bg-color: #E8F0FE;\n",
              "      --fill-color: #1967D2;\n",
              "      --hover-bg-color: #E2EBFA;\n",
              "      --hover-fill-color: #174EA6;\n",
              "      --disabled-fill-color: #AAA;\n",
              "      --disabled-bg-color: #DDD;\n",
              "  }\n",
              "\n",
              "  [theme=dark] .colab-df-quickchart {\n",
              "      --bg-color: #3B4455;\n",
              "      --fill-color: #D2E3FC;\n",
              "      --hover-bg-color: #434B5C;\n",
              "      --hover-fill-color: #FFFFFF;\n",
              "      --disabled-bg-color: #3B4455;\n",
              "      --disabled-fill-color: #666;\n",
              "  }\n",
              "\n",
              "  .colab-df-quickchart {\n",
              "    background-color: var(--bg-color);\n",
              "    border: none;\n",
              "    border-radius: 50%;\n",
              "    cursor: pointer;\n",
              "    display: none;\n",
              "    fill: var(--fill-color);\n",
              "    height: 32px;\n",
              "    padding: 0;\n",
              "    width: 32px;\n",
              "  }\n",
              "\n",
              "  .colab-df-quickchart:hover {\n",
              "    background-color: var(--hover-bg-color);\n",
              "    box-shadow: 0 1px 2px rgba(60, 64, 67, 0.3), 0 1px 3px 1px rgba(60, 64, 67, 0.15);\n",
              "    fill: var(--button-hover-fill-color);\n",
              "  }\n",
              "\n",
              "  .colab-df-quickchart-complete:disabled,\n",
              "  .colab-df-quickchart-complete:disabled:hover {\n",
              "    background-color: var(--disabled-bg-color);\n",
              "    fill: var(--disabled-fill-color);\n",
              "    box-shadow: none;\n",
              "  }\n",
              "\n",
              "  .colab-df-spinner {\n",
              "    border: 2px solid var(--fill-color);\n",
              "    border-color: transparent;\n",
              "    border-bottom-color: var(--fill-color);\n",
              "    animation:\n",
              "      spin 1s steps(1) infinite;\n",
              "  }\n",
              "\n",
              "  @keyframes spin {\n",
              "    0% {\n",
              "      border-color: transparent;\n",
              "      border-bottom-color: var(--fill-color);\n",
              "      border-left-color: var(--fill-color);\n",
              "    }\n",
              "    20% {\n",
              "      border-color: transparent;\n",
              "      border-left-color: var(--fill-color);\n",
              "      border-top-color: var(--fill-color);\n",
              "    }\n",
              "    30% {\n",
              "      border-color: transparent;\n",
              "      border-left-color: var(--fill-color);\n",
              "      border-top-color: var(--fill-color);\n",
              "      border-right-color: var(--fill-color);\n",
              "    }\n",
              "    40% {\n",
              "      border-color: transparent;\n",
              "      border-right-color: var(--fill-color);\n",
              "      border-top-color: var(--fill-color);\n",
              "    }\n",
              "    60% {\n",
              "      border-color: transparent;\n",
              "      border-right-color: var(--fill-color);\n",
              "    }\n",
              "    80% {\n",
              "      border-color: transparent;\n",
              "      border-right-color: var(--fill-color);\n",
              "      border-bottom-color: var(--fill-color);\n",
              "    }\n",
              "    90% {\n",
              "      border-color: transparent;\n",
              "      border-bottom-color: var(--fill-color);\n",
              "    }\n",
              "  }\n",
              "</style>\n",
              "\n",
              "  <script>\n",
              "    async function quickchart(key) {\n",
              "      const quickchartButtonEl =\n",
              "        document.querySelector('#' + key + ' button');\n",
              "      quickchartButtonEl.disabled = true;  // To prevent multiple clicks.\n",
              "      quickchartButtonEl.classList.add('colab-df-spinner');\n",
              "      try {\n",
              "        const charts = await google.colab.kernel.invokeFunction(\n",
              "            'suggestCharts', [key], {});\n",
              "      } catch (error) {\n",
              "        console.error('Error during call to suggestCharts:', error);\n",
              "      }\n",
              "      quickchartButtonEl.classList.remove('colab-df-spinner');\n",
              "      quickchartButtonEl.classList.add('colab-df-quickchart-complete');\n",
              "    }\n",
              "    (() => {\n",
              "      let quickchartButtonEl =\n",
              "        document.querySelector('#df-8df70fee-a414-4c27-83e1-73f285c9dd97 button');\n",
              "      quickchartButtonEl.style.display =\n",
              "        google.colab.kernel.accessAllowed ? 'block' : 'none';\n",
              "    })();\n",
              "  </script>\n",
              "</div>\n",
              "\n",
              "    </div>\n",
              "  </div>\n"
            ],
            "application/vnd.google.colaboratory.intrinsic+json": {
              "type": "dataframe",
              "variable_name": "gendered_data",
              "summary": "{\n  \"name\": \"gendered_data\",\n  \"rows\": 312,\n  \"fields\": [\n    {\n      \"column\": \"Word\",\n      \"properties\": {\n        \"dtype\": \"string\",\n        \"num_unique_values\": 312,\n        \"samples\": [\n          \"Patroness\",\n          \"Amelia\",\n          \"Clio\"\n        ],\n        \"semantic_type\": \"\",\n        \"description\": \"\"\n      }\n    },\n    {\n      \"column\": \"Gender\",\n      \"properties\": {\n        \"dtype\": \"category\",\n        \"num_unique_values\": 2,\n        \"samples\": [\n          \"Male\",\n          \"Female\"\n        ],\n        \"semantic_type\": \"\",\n        \"description\": \"\"\n      }\n    },\n    {\n      \"column\": \"Category\",\n      \"properties\": {\n        \"dtype\": \"category\",\n        \"num_unique_values\": 3,\n        \"samples\": [\n          \"Name\",\n          \"Common Noun\"\n        ],\n        \"semantic_type\": \"\",\n        \"description\": \"\"\n      }\n    }\n  ]\n}"
            }
          },
          "metadata": {},
          "execution_count": 62
        }
      ],
      "source": [
        "gendered_data = pd.read_csv('https://pratik-doshi-99.github.io/data_files/gender_data.csv')\n",
        "gendered_data.head(10)"
      ]
    },
    {
      "cell_type": "code",
      "execution_count": null,
      "id": "0aca1d6d-57cd-47d9-a9c9-98694472232c",
      "metadata": {
        "id": "0aca1d6d-57cd-47d9-a9c9-98694472232c",
        "outputId": "e2ec21ba-5459-4073-980d-5192935a67f7",
        "colab": {
          "base_uri": "https://localhost:8080/"
        }
      },
      "outputs": [
        {
          "output_type": "execute_result",
          "data": {
            "text/plain": [
              "(312, 3)"
            ]
          },
          "metadata": {},
          "execution_count": 63
        }
      ],
      "source": [
        "gendered_data.shape"
      ]
    },
    {
      "cell_type": "markdown",
      "id": "40a86ffd-05f1-493c-b7d6-c00886ce02d9",
      "metadata": {
        "id": "40a86ffd-05f1-493c-b7d6-c00886ce02d9"
      },
      "source": [
        "## Loading Pre-trained Model"
      ]
    },
    {
      "cell_type": "code",
      "execution_count": null,
      "id": "d176d56f-5722-413e-b4fa-3497a20f635c",
      "metadata": {
        "scrolled": true,
        "id": "d176d56f-5722-413e-b4fa-3497a20f635c",
        "outputId": "3398b52c-7101-422b-db40-7e360b6af275",
        "colab": {
          "base_uri": "https://localhost:8080/"
        }
      },
      "outputs": [
        {
          "output_type": "stream",
          "name": "stdout",
          "text": [
            "Loaded pretrained model tiny-stories-1L-21M into HookedTransformer\n"
          ]
        }
      ],
      "source": [
        "# Load the pre-trained \"tiny-stories-1L-21M\" model\n",
        "model_name = \"tiny-stories-1L-21M\"  # Replace this with the actual model name\n",
        "raw_model = transformer_lens.HookedTransformer.from_pretrained(model_name)"
      ]
    },
    {
      "cell_type": "code",
      "execution_count": null,
      "id": "1aaefa96-87f8-4325-8994-bf2e93a5a87c",
      "metadata": {
        "id": "1aaefa96-87f8-4325-8994-bf2e93a5a87c",
        "outputId": "e21b1876-bd6d-4d11-ea6d-5537284dcf2c",
        "colab": {
          "base_uri": "https://localhost:8080/",
          "height": 126
        }
      },
      "outputs": [
        {
          "output_type": "display_data",
          "data": {
            "text/plain": [
              "'Once upon a time, there was a little girl named Mary. She loved to play outside and explore the world. One day, she decided to go on an adventure. She packed her bag and set off.\\n\\nAs she walked through the forest, she saw lots'"
            ],
            "application/vnd.google.colaboratory.intrinsic+json": {
              "type": "string"
            }
          },
          "metadata": {}
        },
        {
          "output_type": "display_data",
          "data": {
            "text/plain": [
              "'Once upon a time there was a little girl named Daisy. She was three years old and loved to explore. One day she decided to go on an adventure. She packed her bag and set off.\\n\\nAs Daisy walked through the woods, she saw a big,'"
            ],
            "application/vnd.google.colaboratory.intrinsic+json": {
              "type": "string"
            }
          },
          "metadata": {}
        },
        {
          "output_type": "display_data",
          "data": {
            "text/plain": [
              "'Once upon a time, there was a little girl called Daisy. She was three years old and loved to explore. One day, Daisy was walking in the garden when she saw a big, tall tree. She wanted to climb it, so she asked her mom if she'"
            ],
            "application/vnd.google.colaboratory.intrinsic+json": {
              "type": "string"
            }
          },
          "metadata": {}
        },
        {
          "output_type": "display_data",
          "data": {
            "text/plain": [
              "'Once upon a time, there was a little girl named Lucy. She was very curious and loved to explore. One day, she decided to go on an adventure. She wanted to see what was beyond the horizon.\\n\\nSo she put on her shoes and started walking'"
            ],
            "application/vnd.google.colaboratory.intrinsic+json": {
              "type": "string"
            }
          },
          "metadata": {}
        },
        {
          "output_type": "display_data",
          "data": {
            "text/plain": [
              "'Once upon a time, there was a little girl named Jane. She was only three years old and she loved to do things. She especially loved to play with her toys.\\n\\nOne day, Jane wanted to play with her toy car. She asked her mom if'"
            ],
            "application/vnd.google.colaboratory.intrinsic+json": {
              "type": "string"
            }
          },
          "metadata": {}
        }
      ],
      "source": [
        "# here we use generate to get 10 completeions with temperature 1. Feel free to play with the prompt to make it more interesting.\n",
        "for i in range(5):\n",
        "    display(\n",
        "        raw_model.generate(\n",
        "            \"Once upon a time\",\n",
        "            stop_at_eos=False,  # avoids a bug on MPS\n",
        "            temperature=0.5,\n",
        "            verbose=False,\n",
        "            max_new_tokens=50,\n",
        "        )\n",
        "    )"
      ]
    },
    {
      "cell_type": "markdown",
      "id": "16fae527-a37d-4288-8d51-13c1fde45066",
      "metadata": {
        "jp-MarkdownHeadingCollapsed": true,
        "id": "16fae527-a37d-4288-8d51-13c1fde45066"
      },
      "source": [
        "## Tokenizing the prompts and Setting Up Hooks"
      ]
    },
    {
      "cell_type": "code",
      "execution_count": null,
      "id": "4815dc0e-51ae-40f6-b41e-583c7c515159",
      "metadata": {
        "id": "4815dc0e-51ae-40f6-b41e-583c7c515159",
        "outputId": "987b000b-7716-4b6e-de71-847da95d354a",
        "colab": {
          "base_uri": "https://localhost:8080/"
        }
      },
      "outputs": [
        {
          "output_type": "execute_result",
          "data": {
            "text/plain": [
              "torch.Size([312, 4])"
            ]
          },
          "metadata": {},
          "execution_count": 66
        }
      ],
      "source": [
        "prompts = list(gendered_data['Word'])\n",
        "batch_tokens = raw_model.tokenizer(prompts, return_tensors=\"pt\", padding=True)['input_ids']\n",
        "batch_tokens.shape # batch dimension, time dimension"
      ]
    },
    {
      "cell_type": "code",
      "execution_count": null,
      "id": "2ee0aa14-f517-468b-b14c-7474ac848b4f",
      "metadata": {
        "id": "2ee0aa14-f517-468b-b14c-7474ac848b4f"
      },
      "outputs": [],
      "source": [
        "mlp_activations = []\n",
        "def capture_mlp_activations(module, ip, output):\n",
        "    #print(ip)\n",
        "    mlp_activations.append(output.detach().cpu())\n",
        "\n",
        "# Register hooks to capture MLP activations at each layer\n",
        "# Assuming the MLP layers are named \"mlp\" in the model (adjust if necessary)\n",
        "for layer_index in range(raw_model.cfg.n_layers):\n",
        "    raw_model.blocks[layer_index].mlp.register_forward_hook(capture_mlp_activations)"
      ]
    },
    {
      "cell_type": "markdown",
      "id": "55bed822-b291-4294-8244-286392c0dfdf",
      "metadata": {
        "jp-MarkdownHeadingCollapsed": true,
        "id": "55bed822-b291-4294-8244-286392c0dfdf"
      },
      "source": [
        "## Model Token Context Testing (Not important)"
      ]
    },
    {
      "cell_type": "markdown",
      "id": "cf38b236-7871-4b42-9919-07daee35ed66",
      "metadata": {
        "id": "cf38b236-7871-4b42-9919-07daee35ed66"
      },
      "source": [
        "This section is not important. It was written to play around with the model and get a clear picture of how context works in the forward pass."
      ]
    },
    {
      "cell_type": "code",
      "execution_count": null,
      "id": "9267fbe5-9496-4a17-b9b8-a5e570312c63",
      "metadata": {
        "id": "9267fbe5-9496-4a17-b9b8-a5e570312c63"
      },
      "outputs": [],
      "source": [
        "eg_token = batch_tokens[0]"
      ]
    },
    {
      "cell_type": "code",
      "execution_count": null,
      "id": "34ff954b-73cb-4a9e-857a-c50d50660b6f",
      "metadata": {
        "id": "34ff954b-73cb-4a9e-857a-c50d50660b6f",
        "outputId": "3ae5c153-b897-48d8-9fd0-a2d75af77314",
        "colab": {
          "base_uri": "https://localhost:8080/"
        }
      },
      "outputs": [
        {
          "output_type": "stream",
          "name": "stdout",
          "text": [
            "torch.Size([4, 1, 1024])\n",
            "torch.Size([4, 1024])\n"
          ]
        }
      ],
      "source": [
        "mlp_activations = []\n",
        "no_context_embedding = eg_token.reshape(len(eg_token),-1)\n",
        "no_context_embedding\n",
        "\n",
        "with torch.no_grad():\n",
        "    raw_model(no_context_embedding)\n",
        "\n",
        "print(mlp_activations[0].shape) #shape of output tensor\n",
        "exp1 = mlp_activations[0].squeeze(1)\n",
        "print(exp1.shape) # batch * sample * embedding dimensions"
      ]
    },
    {
      "cell_type": "code",
      "execution_count": null,
      "id": "b49102fe-c1ea-46f7-86c1-bea2ad04f67a",
      "metadata": {
        "id": "b49102fe-c1ea-46f7-86c1-bea2ad04f67a",
        "outputId": "65c2c6ee-b235-46cf-8238-1cb4ea027ae3",
        "colab": {
          "base_uri": "https://localhost:8080/"
        }
      },
      "outputs": [
        {
          "output_type": "stream",
          "name": "stdout",
          "text": [
            "[]\n",
            "[tensor([[[-0.4515,  0.4032, -0.1441,  ...,  0.1154,  0.5834,  0.2643],\n",
            "         [ 0.3742,  0.0929, -0.2444,  ...,  0.3709,  1.2639,  0.4193],\n",
            "         [ 0.0167,  0.6710, -0.4912,  ...,  0.0497,  1.1304,  0.1132],\n",
            "         [-0.8192,  0.3767, -0.4370,  ...,  0.0478,  0.3139, -0.1156]]])]\n",
            "torch.Size([1, 4, 1024])\n",
            "torch.Size([4, 1024])\n"
          ]
        }
      ],
      "source": [
        "mlp_activations = []\n",
        "context_embedding = eg_token.clone()\n",
        "mlp_activations = []\n",
        "print(mlp_activations)\n",
        "with torch.no_grad():\n",
        "    raw_model(context_embedding)\n",
        "print(mlp_activations)\n",
        "print(mlp_activations[0].shape)\n",
        "exp2 = mlp_activations[0].squeeze(0)\n",
        "print(exp2.shape) # batch * sample * embedding dimensions"
      ]
    },
    {
      "cell_type": "code",
      "execution_count": null,
      "id": "9aca1ea9-5511-4e1f-8257-973985998b31",
      "metadata": {
        "id": "9aca1ea9-5511-4e1f-8257-973985998b31",
        "outputId": "56c9bc17-5fa8-4339-ed4e-ae09797d10d7",
        "colab": {
          "base_uri": "https://localhost:8080/"
        }
      },
      "outputs": [
        {
          "output_type": "stream",
          "name": "stdout",
          "text": [
            "Without Previous Token Context: tensor([-1.8401, -0.4987,  0.7532,  ..., -0.8744,  0.6383, -0.2679])\n",
            "With Previous Token Context: tensor([-0.8192,  0.3767, -0.4370,  ...,  0.0478,  0.3139, -0.1156])\n"
          ]
        }
      ],
      "source": [
        "print('Without Previous Token Context:',exp1[-1])\n",
        "print('With Previous Token Context:',exp2[-1])"
      ]
    },
    {
      "cell_type": "markdown",
      "id": "a3e2fbf2-4d35-4c0e-aff2-17af6bb2ed56",
      "metadata": {
        "jp-MarkdownHeadingCollapsed": true,
        "id": "a3e2fbf2-4d35-4c0e-aff2-17af6bb2ed56"
      },
      "source": [
        "## Computing Activations for Gendered Words"
      ]
    },
    {
      "cell_type": "code",
      "execution_count": null,
      "id": "da79ba29-45fa-4cc5-abe9-ea7bd3e1bcab",
      "metadata": {
        "id": "da79ba29-45fa-4cc5-abe9-ea7bd3e1bcab",
        "outputId": "c12ebd8a-92ef-4458-9f52-32aa062eceae",
        "colab": {
          "base_uri": "https://localhost:8080/"
        }
      },
      "outputs": [
        {
          "output_type": "stream",
          "name": "stdout",
          "text": [
            "Layer 0 MLP activations: torch.Size([312, 4, 1024])\n",
            "Final Activations: torch.Size([312, 1024])\n"
          ]
        }
      ],
      "source": [
        "#Forward pass over the model to capture MLP activations\n",
        "mlp_activations = []\n",
        "with torch.no_grad():\n",
        "    raw_model(batch_tokens)\n",
        "\n",
        "# Print out the collected MLP activations\n",
        "for i, activation in enumerate(mlp_activations):\n",
        "    print(f\"Layer {i} MLP activations: {activation.shape}\")\n",
        "\n",
        "activations = torch.mean(mlp_activations[0],dim=1)\n",
        "print('Final Activations:', activations.shape)"
      ]
    },
    {
      "cell_type": "markdown",
      "id": "c355d62a-750e-4bcb-b8b5-1dd0012485e3",
      "metadata": {
        "jp-MarkdownHeadingCollapsed": true,
        "id": "c355d62a-750e-4bcb-b8b5-1dd0012485e3"
      },
      "source": [
        "## Training the SAE on Tiny Stories"
      ]
    },
    {
      "cell_type": "markdown",
      "id": "51b9f82a-aeeb-4d83-85db-efefad8685f9",
      "metadata": {
        "id": "51b9f82a-aeeb-4d83-85db-efefad8685f9"
      },
      "source": [
        "Code Taken from: [Basic SAE Training Tutorial](https://colab.research.google.com/github/jbloomAus/SAELens/blob/main/tutorials/training_a_sparse_autoencoder.ipynb)"
      ]
    },
    {
      "cell_type": "code",
      "execution_count": null,
      "id": "f25e1e5a-8a46-420f-b178-13a7cb4ce08f",
      "metadata": {
        "id": "f25e1e5a-8a46-420f-b178-13a7cb4ce08f",
        "outputId": "29928361-92da-4530-dc14-74a418d6786b"
      },
      "outputs": [
        {
          "name": "stdout",
          "output_type": "stream",
          "text": [
            "Using device: cuda\n"
          ]
        }
      ],
      "source": [
        "import torch\n",
        "import os\n",
        "\n",
        "from sae_lens import LanguageModelSAERunnerConfig, SAETrainingRunner\n",
        "\n",
        "if torch.cuda.is_available():\n",
        "    device = \"cuda\"\n",
        "elif torch.backends.mps.is_available():\n",
        "    device = \"mps\"\n",
        "else:\n",
        "    device = \"cpu\"\n",
        "\n",
        "print(\"Using device:\", device)\n",
        "os.environ[\"TOKENIZERS_PARALLELISM\"] = \"false\""
      ]
    },
    {
      "cell_type": "code",
      "execution_count": null,
      "id": "ab565664-e327-4b7d-bb99-82215a56ab6a",
      "metadata": {
        "id": "ab565664-e327-4b7d-bb99-82215a56ab6a",
        "outputId": "91974f4b-a5f9-4455-ef80-6bdadf943d8f"
      },
      "outputs": [
        {
          "name": "stdout",
          "output_type": "stream",
          "text": [
            "Loaded pretrained model tiny-stories-1L-21M into HookedTransformer\n"
          ]
        }
      ],
      "source": [
        "from transformer_lens import HookedTransformer\n",
        "\n",
        "model = HookedTransformer.from_pretrained(\n",
        "    \"tiny-stories-1L-21M\"\n",
        ")  # This will wrap huggingface models and has lots of nice utilities."
      ]
    },
    {
      "cell_type": "code",
      "execution_count": null,
      "id": "aed48ab1-f32f-4085-864e-4af996fac022",
      "metadata": {
        "id": "aed48ab1-f32f-4085-864e-4af996fac022",
        "outputId": "05721f61-9654-4e6c-8ab7-4893e61348a4"
      },
      "outputs": [
        {
          "data": {
            "text/plain": [
              "'Once upon a time, a nice dragon came and burned down the hill and made a fire. Everyone was scared, so the doctor helped put it out.\\nThe dragon then said, \"Let\\'s start the day - it\\'s wonderful!\" Everyone was so happy that the'"
            ]
          },
          "metadata": {},
          "output_type": "display_data"
        },
        {
          "data": {
            "text/plain": [
              "'Once upon a time there was a rat namededy. Sammy loved to hide and make noise. He thought he was the best friend of all - a quiet call from his boss.\\n\\nSo, Sammy agreed to show off his great hiding spot and started making the leash'"
            ]
          },
          "metadata": {},
          "output_type": "display_data"
        },
        {
          "data": {
            "text/plain": [
              "\"Once upon a time, there was a smelly uncle. He was very busy and worked around the zoo. One day he had visitors to see the elephants, but he still couldn't hear them. As he approached the rhinoceros noticed him looking very sick.\""
            ]
          },
          "metadata": {},
          "output_type": "display_data"
        },
        {
          "data": {
            "text/plain": [
              "'Once upon a time, in a very cold ship sailed far. The water was cold, and it was very cold.\\n\\nThe ship sailed out of the cold sea and graceful.\\n\\nSuddenly, he saw a big dark cloud in the sky. He knew this'"
            ]
          },
          "metadata": {},
          "output_type": "display_data"
        },
        {
          "data": {
            "text/plain": [
              "\"Once upon a time, there was a angel. He was a kind and compassionate man. The angel was Lisa's best friend!\\n\\nOne day Tom found a special magical ring. It was a shiny medal! When the angel touched it, it started to glow!\""
            ]
          },
          "metadata": {},
          "output_type": "display_data"
        }
      ],
      "source": [
        "# here we use generate to get 10 completeions with temperature 1. Feel free to play with the prompt to make it more interesting.\n",
        "for i in range(5):\n",
        "    display(\n",
        "        model.generate(\n",
        "            \"Once upon a time\",\n",
        "            stop_at_eos=False,  # avoids a bug on MPS\n",
        "            temperature=1,\n",
        "            verbose=False,\n",
        "            max_new_tokens=50,\n",
        "        )\n",
        "    )"
      ]
    },
    {
      "cell_type": "code",
      "execution_count": null,
      "id": "288e964c-483e-41bd-bc79-d4078d8716b6",
      "metadata": {
        "id": "288e964c-483e-41bd-bc79-d4078d8716b6",
        "outputId": "58d1e9b7-91f1-406e-ad89-1bbfd10d32f8"
      },
      "outputs": [
        {
          "name": "stdout",
          "output_type": "stream",
          "text": [
            "Tokenized prompt: ['<|endoftext|>', 'Once', ' upon', ' a', ' time', ',', ' there', ' was', ' a', ' little', ' girl', ' named', ' Lily', '.', ' She', ' lived', ' in', ' a', ' big', ',', ' happy', ' little', ' girl', '.', ' On', ' her', ' big', ' adventure', ',']\n",
            "Tokenized answer: [' Lily']\n"
          ]
        },
        {
          "data": {
            "text/html": [
              "<pre style=\"white-space:pre;overflow-x:auto;line-height:normal;font-family:Menlo,'DejaVu Sans Mono',consolas,'Courier New',monospace\">Performance on answer token:\n",
              "<span style=\"font-weight: bold\">Rank: </span><span style=\"color: #008080; text-decoration-color: #008080; font-weight: bold\">1</span><span style=\"font-weight: bold\">        Logit: </span><span style=\"color: #008080; text-decoration-color: #008080; font-weight: bold\">18.81</span><span style=\"font-weight: bold\"> Prob: </span><span style=\"color: #008080; text-decoration-color: #008080; font-weight: bold\">13.46</span><span style=\"font-weight: bold\">% Token: | Lily|</span>\n",
              "</pre>\n"
            ],
            "text/plain": [
              "Performance on answer token:\n",
              "\u001b[1mRank: \u001b[0m\u001b[1;36m1\u001b[0m\u001b[1m        Logit: \u001b[0m\u001b[1;36m18.81\u001b[0m\u001b[1m Prob: \u001b[0m\u001b[1;36m13.46\u001b[0m\u001b[1m% Token: | Lily|\u001b[0m\n"
            ]
          },
          "metadata": {},
          "output_type": "display_data"
        },
        {
          "name": "stdout",
          "output_type": "stream",
          "text": [
            "Top 0th token. Logit: 20.48 Prob: 71.06% Token: | she|\n",
            "Top 1th token. Logit: 18.81 Prob: 13.46% Token: | Lily|\n",
            "Top 2th token. Logit: 17.35 Prob:  3.11% Token: | the|\n",
            "Top 3th token. Logit: 17.26 Prob:  2.86% Token: | her|\n",
            "Top 4th token. Logit: 16.74 Prob:  1.70% Token: | there|\n",
            "Top 5th token. Logit: 16.43 Prob:  1.25% Token: | they|\n",
            "Top 6th token. Logit: 15.80 Prob:  0.66% Token: | all|\n",
            "Top 7th token. Logit: 15.64 Prob:  0.56% Token: | things|\n",
            "Top 8th token. Logit: 15.28 Prob:  0.39% Token: | one|\n",
            "Top 9th token. Logit: 15.24 Prob:  0.38% Token: | lived|\n"
          ]
        },
        {
          "data": {
            "text/html": [
              "<pre style=\"white-space:pre;overflow-x:auto;line-height:normal;font-family:Menlo,'DejaVu Sans Mono',consolas,'Courier New',monospace\"><span style=\"font-weight: bold\">Ranks of the answer tokens:</span> <span style=\"font-weight: bold\">[(</span><span style=\"color: #008000; text-decoration-color: #008000\">' Lily'</span>, <span style=\"color: #008080; text-decoration-color: #008080; font-weight: bold\">1</span><span style=\"font-weight: bold\">)]</span>\n",
              "</pre>\n"
            ],
            "text/plain": [
              "\u001b[1mRanks of the answer tokens:\u001b[0m \u001b[1m[\u001b[0m\u001b[1m(\u001b[0m\u001b[32m' Lily'\u001b[0m, \u001b[1;36m1\u001b[0m\u001b[1m)\u001b[0m\u001b[1m]\u001b[0m\n"
            ]
          },
          "metadata": {},
          "output_type": "display_data"
        }
      ],
      "source": [
        "from transformer_lens.utils import test_prompt\n",
        "\n",
        "# Test the model with a prompt\n",
        "test_prompt(\n",
        "    \"Once upon a time, there was a little girl named Lily. She lived in a big, happy little girl. On her big adventure,\",\n",
        "    \" Lily\",\n",
        "    model,\n",
        "    prepend_space_to_answer=False,\n",
        ")"
      ]
    },
    {
      "cell_type": "code",
      "execution_count": null,
      "id": "b69347fb-eff7-4a38-aca7-3be0f2e6c54b",
      "metadata": {
        "scrolled": true,
        "id": "b69347fb-eff7-4a38-aca7-3be0f2e6c54b",
        "outputId": "7982b40a-4f34-47f5-f1c3-a6bb6fae29a5"
      },
      "outputs": [
        {
          "data": {
            "text/html": [
              "<div id=\"circuits-vis-e3613324-536f\" style=\"margin: 15px 0;\"/>\n",
              "    <script crossorigin type=\"module\">\n",
              "    import { render, TokenLogProbs } from \"https://unpkg.com/circuitsvis@1.43.2/dist/cdn/esm.js\";\n",
              "    render(\n",
              "      \"circuits-vis-e3613324-536f\",\n",
              "      TokenLogProbs,\n",
              "      {\"prompt\": [\"<|endoftext|>\", \"Hi\", \",\", \" how\", \" are\", \" you\", \" doing\", \" this\", \"?\", \" I\", \"'m\", \" really\", \" enjoying\", \" your\", \" posts\"], \"topKLogProbs\": [[-0.020237978547811508, -6.1045026779174805, -7.070319175720215, -7.073498725891113, -7.178891181945801, -7.389693260192871, -7.525322914123535, -7.588586807250977, -7.763058662414551, -8.22431468963623], [-1.1883888244628906, -3.468374252319336, -3.4808387756347656, -3.489609718322754, -3.500032424926758, -3.5543651580810547, -4.017881393432617, -4.030543327331543, -4.298168182373047, -4.418174743652344], [-2.9201438426971436, -3.3794877529144287, -3.4266765117645264, -3.5317609310150146, -3.9561660289764404, -4.2560577392578125, -4.443936347961426, -4.444850921630859, -4.559979438781738, -4.583313941955566], [-0.9917500019073486, -2.9286720752716064, -3.257525682449341, -3.317983865737915, -3.47405743598938, -3.6419098377227783, -3.867502450942993, -3.8686439990997314, -3.8917133808135986, -4.0052900314331055], [-0.03712325915694237, -4.683346271514893, -4.972259998321533, -5.85427713394165, -5.942131519317627, -6.388037204742432, -6.394087314605713, -6.498579502105713, -6.593414783477783, -7.869243144989014], [-0.23486250638961792, -2.3354275226593018, -2.947484254837036, -5.052802085876465, -5.07857608795166, -5.102744102478027, -5.116311073303223, -5.737273216247559, -5.768454551696777, -5.893771171569824], [-0.4488535523414612, -2.0766992568969727, -3.4335832595825195, -3.6450815200805664, -3.7033777236938477, -4.046269416809082, -4.096989631652832, -4.2097673416137695, -4.518969535827637, -4.961882591247559], [-0.46094462275505066, -2.7377562522888184, -3.1589083671569824, -3.686807155609131, -4.416439533233643, -4.448531627655029, -4.571944713592529, -4.669158458709717, -4.6953816413879395, -4.748208522796631], [-0.9866073727607727, -1.834975004196167, -2.4600284099578857, -2.511580228805542, -3.115633726119995, -3.419489622116089, -3.5203731060028076, -3.804987668991089, -4.003089904785156, -4.25826358795166], [-1.3091998100280762, -1.6338858604431152, -1.786811351776123, -2.631619930267334, -3.4602808952331543, -3.615842342376709, -4.0200419425964355, -4.0932841300964355, -4.177457332611084, -4.309237957000732], [-1.995233416557312, -2.5565385818481445, -2.6455516815185547, -2.8948307037353516, -3.110441207885742, -3.3945579528808594, -3.731107711791992, -3.8203372955322266, -3.9679031372070312, -4.026362419128418], [-1.0431058406829834, -1.9594666957855225, -3.050779104232788, -3.421495199203491, -3.4801290035247803, -3.489845037460327, -3.6020009517669678, -4.332505226135254, -4.492426872253418, -4.517631530761719], [-1.5123969316482544, -2.0202760696411133, -2.2232847213745117, -2.2493200302124023, -3.3765172958374023, -3.9217042922973633, -3.9798288345336914, -4.199250221252441, -4.265364646911621, -4.66158390045166], [-3.1887450218200684, -3.1920504570007324, -3.4252209663391113, -3.494189739227295, -3.7325968742370605, -3.7353157997131348, -3.7357096672058105, -3.833967685699463, -4.233705043792725, -4.26570463180542]], \"topKTokens\": [[\"\\n\", \",\", \"Words\", \"Summary\", \"\\n\\n\", \"<|endoftext|>\", \" \", \"Features\", \"Random\", \" the\"], [\",\", \" Tim\", \" bird\", \"!\", \" little\", \" Lily\", \" Tom\", \"!\\\"\", \" Max\", \" tree\"], [\" cat\", \" a\", \" bird\", \" little\", \" I\", \"\\n\", \" dog\", \" but\", \" frog\", \" sw\"], [\" are\", \" I\", \" was\", \" do\", \" fast\", \" big\", \" did\", \" to\", \" he\", \" old\"], [\" you\", \" we\", \" they\", \" the\", \" Lily\", \" your\", \" I\", \" Tim\", \" friends\", \" those\"], [\"?\\\"\", \" today\", \"?\", \" and\", \".\", \",\", \" doing\", \" going\", \" up\", \"?\\\".\"], [\"?\\\"\", \" this\", \" today\", \"?\", \" here\", \" a\", \" it\", \" these\", \".\", \" in\"], [\"?\\\"\", \"?\", \" great\", \" so\", \" job\", \" puzzle\", \" task\", \" very\", \".\", \" amazing\"], [\"\\ufffd\", \" You\", \" I\", \" It\", \" We\", \" Can\", \"\\n\", \" This\", \" Do\", \" Are\"], [\"'m\", \" am\", \" want\", \" like\", \" know\", \" have\", \" love\", \" can\", \" just\", \" hope\"], [\" a\", \" so\", \" very\", \" trying\", \" going\", \" an\", \" looking\", \" just\", \" making\", \" playing\"], [\" good\", \" hungry\", \" enjoying\", \" a\", \" tired\", \" proud\", \" happy\", \" excited\", \" busy\", \" glad\"], [\" the\", \" it\", \" this\", \" my\", \" a\", \" your\", \" playing\", \" some\", \" these\", \" myself\"], [\" meal\", \" food\", \" day\", \" ice\", \" sandwich\", \" delicious\", \" new\", \" dance\", \" cake\", \" time\"]], \"correctTokenRank\": [1718, 0, 675, 0, 0, 6, 1, 1, 2, 0, 23, 2, 5, 10036], \"correctTokenLogProb\": [-13.814955711364746, -1.1883888244628906, -8.445570945739746, -0.9917500019073486, -0.03712325915694237, -5.116311073303223, -2.0766992568969727, -2.7377562522888184, -2.4600284099578857, -1.3091998100280762, -4.860555648803711, -3.050779104232788, -3.9217042922973633, -17.039505004882812]}\n",
              "    )\n",
              "    </script>"
            ],
            "text/plain": [
              "<circuitsvis.utils.render.RenderedHTML at 0x7feaafa7a3e0>"
            ]
          },
          "execution_count": 10,
          "metadata": {},
          "output_type": "execute_result"
        }
      ],
      "source": [
        "import circuitsvis as cv  # optional dep, install with pip install circuitsvis\n",
        "\n",
        "# Let's make a longer prompt and see the log probabilities of the tokens\n",
        "example_prompt = \"\"\"Hi, how are you doing this? I'm really enjoying your posts\"\"\"\n",
        "logits, cache = model.run_with_cache(example_prompt)\n",
        "cv.logits.token_log_probs(\n",
        "    model.to_tokens(example_prompt),\n",
        "    model(example_prompt)[0].log_softmax(dim=-1),\n",
        "    model.to_string,\n",
        ")\n",
        "# hover on the output to see the result."
      ]
    },
    {
      "cell_type": "code",
      "execution_count": null,
      "id": "37727e6a-8f7c-4416-8bfa-e8d43349895c",
      "metadata": {
        "scrolled": true,
        "id": "37727e6a-8f7c-4416-8bfa-e8d43349895c",
        "outputId": "d377b810-2d7f-4c8d-f323-f0cbae0a0bdf",
        "colab": {
          "referenced_widgets": [
            "b4e25c019ca747959b3c71f1f28916de"
          ]
        }
      },
      "outputs": [
        {
          "data": {
            "application/vnd.jupyter.widget-view+json": {
              "model_id": "b4e25c019ca747959b3c71f1f28916de",
              "version_major": 2,
              "version_minor": 0
            },
            "text/plain": [
              "  0%|          | 0/200 [00:00<?, ?it/s]"
            ]
          },
          "metadata": {},
          "output_type": "display_data"
        },
        {
          "data": {
            "text/html": [
              "<div id=\"circuits-vis-30465fc0-a2e1\" style=\"margin: 15px 0;\"/>\n",
              "    <script crossorigin type=\"module\">\n",
              "    import { render, TokenLogProbs } from \"https://unpkg.com/circuitsvis@1.43.2/dist/cdn/esm.js\";\n",
              "    render(\n",
              "      \"circuits-vis-30465fc0-a2e1\",\n",
              "      TokenLogProbs,\n",
              "      {\"prompt\": [\"<|endoftext|>\", \"Once\", \" upon\", \" a\", \" time\", \",\", \" there\", \" was\", \" a\", \" bird\", \".\", \" She\", \" wanted\", \" to\", \" replace\", \" a\", \" bird\", \" with\", \" something\", \" useful\", \".\", \" So\", \",\", \" she\", \" went\", \"!\", \" \\\"\", \"I\", \" lost\", \" my\", \" furry\", \" wings\", \"!\\\"\", \" She\", \" said\", \",\", \" hopping\", \" around\", \".\", \"\\n\", \"\\n\", \"Suddenly\", \",\", \" she\", \" heard\", \" something\", \".\", \" She\", \" looked\", \" closer\", \" and\", \" saw\", \" a\", \" little\", \" fox\", \".\", \" \\ufffd\", \"\\ufffd\", \"Hello\", \"!\", \" What\", \" are\", \" you\", \" looking\", \" for\", \"?\", \"\\ufffd\", \"\\ufffd\", \" The\", \" fox\", \" said\", \",\", \" \\ufffd\", \"\\ufffd\", \"I\", \" am\", \" lost\", \".\", \" Can\", \" you\", \" help\", \" me\", \" find\", \" my\", \" way\", \"?\", \"\\ufffd\", \"\\ufffd\", \"\\n\", \"\\n\", \"The\", \" fox\", \" said\", \",\", \" \\ufffd\", \"\\ufffd\", \"Of\", \" course\", \"!\", \" I\", \" will\", \" help\", \" you\", \"!\", \" You\", \" can\", \" replace\", \" your\", \" furry\", \" rock\", \" with\", \" lots\", \" of\", \" your\", \" fur\", \".\", \"\\ufffd\", \"\\ufffd\", \" And\", \" so\", \" the\", \" fox\", \" smiled\", \" and\", \" started\", \" looking\", \" around\", \".\", \"\\n\", \"\\n\", \"After\", \" a\", \" while\", \",\", \" the\", \" fox\", \" thanked\", \" the\", \" fox\", \" for\", \" his\", \" help\", \".\", \" The\", \" fox\", \" said\", \",\", \" \\ufffd\", \"\\ufffd\", \"You\", \" are\", \" so\", \" clever\", \".\", \" I\", \" won\", \"\\ufffd\", \"\\ufffd\", \"t\", \" forget\", \" where\", \" you\", \" got\", \" the\", \" hug\", \" from\", \".\", \"\\ufffd\", \"\\ufffd\", \" And\", \" they\", \" both\", \" lived\", \" happily\", \" ever\", \" after\", \".\", \"\\n\", \"Summary\", \":\", \" A\", \" fox\", \" helps\", \" a\", \" lost\", \",\", \" clever\", \" fox\", \" and\", \" becomes\", \" lost\", \" in\", \" the\", \" woods\", \".\", \"\\n\\n\", \"<|endoftext|>\", \" One\", \" day\", \",\", \" he\", \" noticed\", \" something\", \" tiny\", \" that\"], \"topKLogProbs\": [[-0.020237978547811508, -6.104495048522949, -7.070310592651367, -7.073485374450684, -7.1788787841796875, -7.389683723449707, -7.525312423706055, -7.588574409484863, -7.763049125671387, -8.224305152893066], [-0.3724861741065979, -1.8275394439697266, -4.306144714355469, -4.838808059692383, -4.989412307739258, -5.11174201965332, -5.18707275390625, -5.250606536865234, -5.662860870361328, -5.694153785705566], [-0.005904612597078085, -5.495645046234131, -7.522155284881592, -8.207715034484863, -8.449633598327637, -8.907078742980957, -9.54123306274414, -9.691885948181152, -10.111759185791016, -10.492297172546387], [-0.011737688444554806, -6.031055450439453, -7.209379196166992, -7.243837356567383, -7.747934341430664, -7.977015495300293, -8.321720123291016, -8.357276916503906, -8.502368927001953, -8.70148754119873], [-0.18781781196594238, -1.8141682147979736, -5.624236106872559, -6.579651832580566, -7.822258949279785, -8.386686325073242, -8.499086380004883, -8.578034400939941, -8.823790550231934, -8.960549354553223], [-0.10250487178564072, -3.402742624282837, -3.9464762210845947, -5.159370422363281, -5.411174774169922, -6.113496780395508, -6.131930351257324, -6.200324058532715, -6.424910545349121, -7.007171630859375], [-0.13827131688594818, -2.5443363189697266, -3.0506038665771484, -7.775609970092773, -8.049692153930664, -8.075809478759766, -8.10709285736084, -8.183040618896484, -8.868160247802734, -8.878024101257324], [-0.03213004022836685, -3.6293952465057373, -7.695367813110352, -7.812193870544434, -7.8907880783081055, -8.088067054748535, -8.264243125915527, -9.07734203338623, -9.536673545837402, -9.683246612548828], [-1.8430429697036743, -2.4128193855285645, -2.9644923210144043, -3.6159749031066895, -4.061755657196045, -4.09079122543335, -4.2066969871521, -4.358077526092529, -4.626358509063721, -4.680703639984131], [-0.875357985496521, -1.5011018514633179, -2.284492015838623, -2.5049967765808105, -2.941129207611084, -3.3580126762390137, -4.0688796043396, -4.266879558563232, -4.352038860321045, -4.401057720184326], [-0.7095484137535095, -1.5221171379089355, -2.190089702606201, -2.643075466156006, -3.560983180999756, -3.8477091789245605, -4.173486232757568, -5.33228063583374, -5.442622661590576, -5.648913860321045], [-0.6581606268882751, -2.118253231048584, -2.1785483360290527, -2.8515467643737793, -2.9229464530944824, -2.930985927581787, -5.279660701751709, -5.4969611167907715, -5.612374782562256, -5.7349772453308105], [-0.03951636329293251, -4.131610870361328, -5.440542221069336, -5.606410980224609, -5.616781234741211, -6.0144500732421875, -6.47047233581543, -6.724632263183594, -6.775932312011719, -7.287132263183594], [-1.4587531089782715, -2.3092665672302246, -2.7894301414489746, -3.094491481781006, -3.2449183464050293, -3.2671408653259277, -3.753549098968506, -3.864673137664795, -3.8657965660095215, -3.963906764984131], [-0.7374224662780762, -1.7429556846618652, -2.477881908416748, -2.628211498260498, -3.097712993621826, -3.379992961883545, -3.8500990867614746, -4.165290355682373, -4.4150519371032715, -4.565305233001709], [-1.6409411430358887, -2.5023322105407715, -2.786689281463623, -3.5889430046081543, -3.706815242767334, -3.799808979034424, -4.089669704437256, -4.135124683380127, -4.1878485679626465, -4.233779430389404], [-1.2810580730438232, -1.7187755107879639, -2.065657377243042, -2.448378324508667, -2.9499270915985107, -2.9801928997039795, -3.0799357891082764, -3.6220195293426514, -3.954552412033081, -3.9905784130096436], [-0.5542988777160645, -2.221226215362549, -3.2290425300598145, -3.3373513221740723, -3.4576096534729004, -3.592930316925049, -3.939903736114502, -3.966095447540283, -4.57158899307251, -4.792507648468018], [-1.781387209892273, -2.118741989135742, -2.185953140258789, -2.392702102661133, -2.96221923828125, -2.9895858764648438, -3.031970977783203, -3.5455970764160156, -4.019596099853516, -4.054227828979492], [-0.2611504793167114, -3.2240467071533203, -3.5292205810546875, -3.9170475006103516, -3.9703540802001953, -4.07078742980957, -4.144025802612305, -4.22425651550293, -4.256366729736328, -4.447959899902344], [-0.6041048765182495, -1.4940680265426636, -3.0292797088623047, -3.295766830444336, -3.3599376678466797, -4.0637054443359375, -4.276159286499023, -4.304203987121582, -4.421448707580566, -5.040301322937012], [-0.8613137006759644, -0.9072369337081909, -2.777329444885254, -3.1818323135375977, -3.758639335632324, -4.822979927062988, -4.879828453063965, -5.1976518630981445, -5.399327278137207, -6.106342315673828], [-0.1968218833208084, -2.7213447093963623, -3.486637830734253, -3.6160857677459717, -4.580784320831299, -4.916220188140869, -5.180744647979736, -5.563618183135986, -5.602981090545654, -6.344062328338623], [-1.3877593278884888, -2.114933967590332, -2.506697654724121, -2.568964958190918, -2.7374067306518555, -2.770054817199707, -3.309258460998535, -3.412539482116699, -3.72304630279541, -3.82930850982666], [-0.1289062649011612, -3.725688934326172, -3.944347381591797, -3.9495716094970703, -4.586568832397461, -4.588605880737305, -4.618738174438477, -5.484052658081055, -5.536832809448242, -5.997480392456055], [-0.764395534992218, -1.1340453624725342, -2.3778579235076904, -3.648451566696167, -3.92169451713562, -4.570067405700684, -4.713315010070801, -5.409985542297363, -5.434732437133789, -5.611361503601074], [-1.3692134618759155, -1.4497989416122437, -3.1334309577941895, -3.2903389930725098, -3.411634922027588, -3.4136500358581543, -3.7933106422424316, -3.8092446327209473, -3.8962368965148926, -4.0141072273254395], [-0.9816708564758301, -1.845146656036377, -2.0047364234924316, -2.4088425636291504, -2.8047242164611816, -3.296093463897705, -3.730499744415283, -4.144907474517822, -4.619223117828369, -5.0256733894348145], [-0.14800307154655457, -3.518345355987549, -3.833742618560791, -4.234032154083252, -4.460312366485596, -5.0293965339660645, -5.2038655281066895, -5.282913684844971, -5.30974817276001, -5.323856830596924], [-2.539494037628174, -2.8975071907043457, -3.376102924346924, -3.4493794441223145, -3.628296375274658, -3.9465994834899902, -4.013983249664307, -4.13165807723999, -4.148420810699463, -4.187442302703857], [-1.6197471618652344, -2.719388961791992, -2.8408432006835938, -2.959369659423828, -3.4368362426757812, -3.580821990966797, -3.6309146881103516, -3.6593637466430664, -3.670103073120117, -3.9704418182373047], [-0.6799673438072205, -1.6771636009216309, -2.0873465538024902, -3.206601619720459, -3.3186545372009277, -3.839822292327881, -4.493772029876709, -4.503306865692139, -4.61047887802124, -4.7579474449157715], [-0.5709089040756226, -2.032691478729248, -2.2593607902526855, -3.0363574028015137, -3.0963892936706543, -3.4197115898132324, -4.376735210418701, -5.383264064788818, -5.640571117401123, -6.020211696624756], [-1.5073175430297852, -2.081301689147949, -2.5863256454467773, -3.074679374694824, -3.1590280532836914, -3.551600456237793, -3.5559778213500977, -4.001093864440918, -4.0506744384765625, -4.06072998046875], [-1.2418831586837769, -1.632466197013855, -2.0251150131225586, -2.6384057998657227, -3.0096559524536133, -3.2857370376586914, -3.7487869262695312, -3.8000574111938477, -4.009751319885254, -4.049521446228027], [-0.8254421949386597, -2.6092920303344727, -3.012979507446289, -3.738490104675293, -3.7784652709960938, -3.840508460998535, -3.847538948059082, -3.865616798400879, -4.138177871704102, -4.4097747802734375], [-0.774751603603363, -1.9064788818359375, -2.811023712158203, -3.2367916107177734, -3.5111007690429688, -3.604442596435547, -3.607431411743164, -3.8450927734375, -4.293964385986328, -4.41423225402832], [-0.8577724695205688, -1.9952808618545532, -2.475045680999756, -2.542722225189209, -2.9926600456237793, -3.0950770378112793, -3.3454031944274902, -3.7386813163757324, -3.941436290740967, -4.252114772796631], [-0.5751826763153076, -1.6086070537567139, -2.5240161418914795, -3.342369794845581, -3.3840720653533936, -4.014399528503418, -4.404013633728027, -4.950686454772949, -4.990923881530762, -5.071051597595215], [-0.03546081855893135, -4.150249004364014, -5.815684795379639, -6.022974491119385, -6.326522350311279, -6.646994113922119, -6.946690082550049, -6.953885555267334, -7.07246732711792, -7.122949123382568], [-0.6383891701698303, -2.0093741416931152, -2.9075236320495605, -3.349647045135498, -3.6526694297790527, -3.682338237762451, -3.806880474090576, -3.858689785003662, -3.9625277519226074, -4.042506694793701], [-0.0694078728556633, -3.18928861618042, -4.40510892868042, -5.474730968475342, -5.855205059051514, -6.868100643157959, -7.387374401092529, -7.409484386444092, -7.559258937835693, -7.6999125480651855], [-0.6174013614654541, -1.543874979019165, -2.1301348209381104, -3.131998300552368, -3.69350266456604, -4.181407928466797, -4.853385925292969, -5.585947036743164, -5.861639022827148, -5.926926612854004], [-0.9485243558883667, -1.3062914609909058, -2.1075267791748047, -2.4026107788085938, -2.8514938354492188, -4.292787551879883, -4.935529708862305, -4.982738494873047, -5.170446395874023, -5.467985153198242], [-0.1169501319527626, -3.57230281829834, -3.584774971008301, -4.567048072814941, -4.728259086608887, -4.80141544342041, -5.045126914978027, -5.07041072845459, -6.093504905700684, -6.469464302062988], [-0.8417415618896484, -2.7662105560302734, -2.805757522583008, -3.3072566986083984, -3.4458236694335938, -3.7708740234375, -3.8388490676879883, -4.15445613861084, -4.206382751464844, -4.372142791748047], [-0.34324273467063904, -1.6287213563919067, -3.354482650756836, -4.274938583374023, -4.330436706542969, -5.4093523025512695, -5.62432861328125, -5.939212799072266, -6.084468841552734, -6.312280654907227], [-0.9130316972732544, -1.723746418952942, -2.375796318054199, -3.304476737976074, -3.3812150955200195, -3.648257255554199, -3.686121940612793, -4.134873390197754, -4.529732704162598, -4.692168235778809], [-0.7609595060348511, -1.7138174772262573, -2.121797561645508, -2.8040008544921875, -3.177846908569336, -4.002363204956055, -4.294696807861328, -4.327091217041016, -4.423267364501953, -4.760948181152344], [-0.07201692461967468, -3.2583134174346924, -4.071959495544434, -4.901494026184082, -6.287585258483887, -7.4668989181518555, -7.562878608703613, -7.63979434967041, -7.750166893005371, -8.034907341003418], [-0.10321076959371567, -3.865715265274048, -4.2285847663879395, -4.250824451446533, -4.757059574127197, -4.864576816558838, -5.1463799476623535, -5.664511203765869, -5.784750461578369, -5.87820291519165], [-0.24192455410957336, -2.1590940952301025, -3.458902597427368, -4.42594575881958, -4.426027774810791, -4.49168062210083, -4.5518059730529785, -5.1897969245910645, -5.20933198928833, -6.455521106719971], [-1.455412745475769, -1.6272934675216675, -2.2951574325561523, -2.3261213302612305, -3.85561466217041, -4.08326530456543, -4.5078630447387695, -4.5273237228393555, -4.672919273376465, -4.732780456542969], [-2.0172324180603027, -2.1858572959899902, -2.290963649749756, -2.406968593597412, -2.4602293968200684, -2.668433666229248, -3.408170223236084, -3.4892115592956543, -3.851489543914795, -3.9467482566833496], [-0.48675650358200073, -1.5553200244903564, -3.6852638721466064, -4.277325630187988, -4.393141746520996, -4.647866249084473, -4.816847801208496, -4.850996971130371, -4.898953437805176, -4.967160224914551], [-0.8959001302719116, -1.7508310079574585, -1.7694810628890991, -2.128962993621826, -3.004970073699951, -3.792113780975342, -4.3683085441589355, -5.01796293258667, -5.45529317855835, -5.502553462982178], [-0.0037282262928783894, -6.170617580413818, -6.491687297821045, -10.223649024963379, -10.503519058227539, -10.827861785888672, -12.821318626403809, -13.315094947814941, -13.384639739990234, -13.755590438842773], [-1.1178021430969238, -1.7708382606506348, -2.1961560249328613, -2.6184029579162598, -2.7058281898498535, -3.554138660430908, -4.173281192779541, -4.341014385223389, -4.3957905769348145, -4.665045261383057], [-0.4064635932445526, -2.1687545776367188, -2.446369171142578, -2.933849334716797, -3.7351131439208984, -3.7805824279785156, -5.059425354003906, -5.474033355712891, -5.876214981079102, -5.9171142578125], [-0.7258884906768799, -1.400672197341919, -2.8974831104278564, -2.9929935932159424, -3.0906975269317627, -3.495990037918091, -3.8539650440216064, -3.871051073074341, -4.855713844299316, -5.003451347351074], [-0.2835957407951355, -2.7227284908294678, -2.8238580226898193, -3.0522172451019287, -3.749814748764038, -3.9758317470550537, -4.852424144744873, -5.545695781707764, -5.6442484855651855, -5.978366374969482], [-0.00035255891270935535, -8.350332260131836, -10.281011581420898, -10.5, -10.584157943725586, -11.022165298461914, -12.630743026733398, -13.052618026733398, -13.286724090576172, -13.564258575439453], [-0.2529304027557373, -2.126997709274292, -2.6384875774383545, -5.0632829666137695, -5.520760536193848, -5.767701148986816, -5.821927070617676, -5.900012016296387, -6.196402549743652, -6.812506675720215], [-0.08728783577680588, -2.7640323638916016, -5.15117073059082, -5.455617904663086, -6.041816711425781, -6.697282791137695, -6.775577545166016, -7.193359375, -7.413665771484375, -7.821451187133789], [-0.47216227650642395, -1.1609115600585938, -3.976186752319336, -4.518791198730469, -4.79060173034668, -5.246284484863281, -5.711050033569336, -6.190877914428711, -6.356681823730469, -6.721872329711914], [-0.004830595105886459, -6.926159858703613, -7.651913642883301, -7.894200325012207, -7.92397403717041, -7.9979143142700195, -8.143570899963379, -8.344195365905762, -8.39897632598877, -8.788424491882324], [-7.748573807475623e-06, -12.317676544189453, -13.659351348876953, -13.669633865356445, -14.614856719970703, -16.152992248535156, -16.228389739990234, -16.986957550048828, -17.654460906982422, -17.74138641357422], [-1.035416841506958, -1.832413911819458, -1.8433563709259033, -2.657546281814575, -2.811692476272583, -2.9673588275909424, -3.038100481033325, -4.266329765319824, -4.4761762619018555, -4.747309684753418], [-0.6473677754402161, -1.2490770816802979, -2.5208590030670166, -3.1371614933013916, -4.058868885040283, -4.709141254425049, -5.5308003425598145, -5.588169574737549, -6.118893146514893, -6.120535373687744], [-0.9615287780761719, -1.7483787536621094, -2.2069854736328125, -2.9713573455810547, -3.168062210083008, -3.3354148864746094, -4.07655143737793, -4.087360382080078, -4.685892105102539, -4.702367782592773], [-0.2727815806865692, -2.931776285171509, -3.074472665786743, -3.196380853652954, -3.4369051456451416, -4.219362258911133, -5.347867965698242, -5.546234130859375, -5.747035980224609, -5.783538818359375], [-0.16312311589717865, -2.871432304382324, -4.166779518127441, -4.448473930358887, -5.082184791564941, -5.183255195617676, -5.267754554748535, -5.5722856521606445, -5.628890037536621, -5.648053169250488], [-0.0015049570938572288, -6.744470596313477, -8.118770599365234, -11.397397994995117, -13.177845001220703, -13.215560913085938, -13.270086288452148, -13.939167976379395, -14.030583381652832, -14.108650207519531], [-0.12189159542322159, -2.9137234687805176, -4.8604912757873535, -5.0923943519592285, -5.283515453338623, -5.4191365242004395, -5.664072513580322, -5.823703289031982, -6.162863254547119, -6.194579601287842], [-0.7453303933143616, -1.528623104095459, -1.8973536491394043, -3.395251750946045, -3.879210948944092, -3.906524181365967, -4.296945095062256, -4.332713603973389, -4.439147472381592, -4.554049968719482], [-0.2976202070713043, -1.9061769247055054, -4.06942892074585, -4.1284499168396, -4.445146083831787, -4.7137274742126465, -4.907540798187256, -5.7289862632751465, -5.751176357269287, -5.846246242523193], [-0.37934285402297974, -1.935210943222046, -2.358039617538452, -2.8601338863372803, -4.696979522705078, -6.2353363037109375, -7.018665313720703, -7.105718612670898, -7.140893936157227, -7.461894989013672], [-0.8995538949966431, -1.0140520334243774, -2.054760456085205, -3.7950634956359863, -4.9871296882629395, -5.088778018951416, -5.132956027984619, -5.137302875518799, -5.263563632965088, -5.511759281158447], [-0.019094347953796387, -4.112852096557617, -6.273439407348633, -8.734619140625, -9.475625991821289, -9.696170806884766, -9.772136688232422, -10.052206039428711, -10.088741302490234, -10.125617980957031], [-0.035499703139066696, -5.226734161376953, -5.2285614013671875, -5.550653457641602, -6.236612319946289, -6.268516540527344, -6.409860610961914, -6.903604507446289, -6.995342254638672, -7.025003433227539], [-0.04476398974657059, -3.3049416542053223, -6.656015872955322, -7.257185459136963, -7.2835469245910645, -7.3263726234436035, -7.341249942779541, -7.4496541023254395, -7.540207386016846, -8.067127227783203], [-0.14385609328746796, -2.1334877014160156, -5.659721374511719, -5.89732551574707, -6.192596435546875, -6.820098876953125, -7.070985794067383, -7.121805191040039, -7.2895050048828125, -7.377176284790039], [-0.04224367439746857, -4.521792888641357, -4.706460475921631, -5.090245723724365, -6.0484843254089355, -6.305297374725342, -6.315972805023193, -6.3364081382751465, -6.484124660491943, -6.757310390472412], [-0.21296948194503784, -2.588738203048706, -2.9745585918426514, -3.7944705486297607, -4.013969898223877, -5.483702182769775, -5.906446933746338, -6.213047504425049, -6.315243244171143, -6.47075891494751], [-0.18075574934482574, -2.082988977432251, -3.352092981338501, -5.685445785522461, -7.602350234985352, -7.799325942993164, -7.859683990478516, -8.611982345581055, -8.980981826782227, -9.085592269897461], [-0.017742492258548737, -4.500223636627197, -7.02739953994751, -7.117908954620361, -7.628300189971924, -7.7958455085754395, -7.849268436431885, -8.151607513427734, -8.256528854370117, -8.415349960327148], [-2.9801878554280847e-05, -11.610526084899902, -11.743611335754395, -11.831931114196777, -12.440285682678223, -14.726351737976074, -15.793327331542969, -15.986854553222656, -16.23361587524414, -16.428970336914062], [-0.2869439423084259, -1.9984307289123535, -2.4773659706115723, -4.925600528717041, -5.4838547706604, -5.882206439971924, -5.940439701080322, -5.985069751739502, -6.562613010406494, -6.905575275421143], [-0.03188135102391243, -3.627208709716797, -5.691596984863281, -8.44443416595459, -8.627410888671875, -8.845929145812988, -9.351326942443848, -9.515402793884277, -10.24565315246582, -10.261199951171875], [-0.024066340178251266, -5.42763090133667, -5.561063289642334, -6.006028652191162, -6.3193583488464355, -6.477811336517334, -6.681333065032959, -7.354703426361084, -7.493833065032959, -7.746857166290283], [-0.6438527703285217, -1.2577424049377441, -2.1758084297180176, -4.087660312652588, -4.5549702644348145, -4.639740467071533, -5.553276538848877, -5.6964802742004395, -5.92594575881958, -6.054260730743408], [-0.8252776861190796, -1.7929824590682983, -1.8214572668075562, -2.71812105178833, -3.4104199409484863, -3.6940293312072754, -3.920088291168213, -5.222952365875244, -5.300381183624268, -5.3024468421936035], [-0.07979138195514679, -3.029505968093872, -5.456368923187256, -5.510537624359131, -5.840249538421631, -6.09266996383667, -6.15480375289917, -6.281188488006592, -6.50769567489624, -6.831897258758545], [-0.011042791418731213, -4.616393089294434, -7.764203071594238, -8.166060447692871, -9.3587007522583, -10.020140647888184, -10.282425880432129, -10.422234535217285, -11.092474937438965, -11.18331241607666], [-0.0008949803304858506, -7.1245808601379395, -9.417974472045898, -13.611308097839355, -13.759438514709473, -13.822271347045898, -14.12563705444336, -14.816341400146484, -15.065526962280273, -15.215784072875977], [-0.8868102431297302, -1.716806411743164, -1.7997493743896484, -1.8482093811035156, -4.178520202636719, -4.333776473999023, -4.811445236206055, -5.096492767333984, -5.435789108276367, -5.710824012756348], [-6.568216485902667e-05, -11.698641777038574, -11.946669578552246, -11.9866304397583, -12.113890647888184, -12.648881912231445, -12.784090995788574, -13.463027000427246, -13.509516716003418, -13.588115692138672], [-0.6065900325775146, -1.1942212581634521, -2.398895025253296, -3.595182180404663, -4.423318862915039, -6.109527587890625, -6.1883649826049805, -6.779502868652344, -7.00413703918457, -7.063846588134766], [-1.071755290031433, -1.4641159772872925, -2.610844612121582, -2.88242244720459, -2.9241037368774414, -3.1069040298461914, -3.2267866134643555, -3.3404760360717773, -4.031472206115723, -4.255919456481934], [-0.8233931660652161, -1.1084349155426025, -2.5312578678131104, -3.4330637454986572, -3.481712579727173, -3.6354849338531494, -4.352407932281494, -4.640821933746338, -5.171909809112549, -5.27019739151001], [-0.08337226510047913, -4.408819198608398, -4.932186126708984, -5.022680282592773, -5.228052139282227, -5.485513687133789, -5.594078063964844, -5.799980163574219, -5.838127136230469, -5.88322639465332], [-0.019541483372449875, -4.901451587677002, -4.955498218536377, -6.740749835968018, -7.88016939163208, -8.221997261047363, -8.270268440246582, -8.316489219665527, -8.371146202087402, -8.374611854553223], [-0.7491401433944702, -0.839962363243103, -3.19242525100708, -3.66361665725708, -4.668755054473877, -5.713352680206299, -6.35734224319458, -6.9433064460754395, -6.962112903594971, -7.005337238311768], [-0.1968226581811905, -3.1468214988708496, -3.8568358421325684, -3.9017271995544434, -3.9309210777282715, -4.111697673797607, -4.137216091156006, -4.968278408050537, -5.335036754608154, -5.681918621063232], [-0.958946704864502, -1.8810791969299316, -2.2326722145080566, -2.686769962310791, -2.905907154083252, -3.086073398590088, -3.3269639015197754, -3.6889119148254395, -3.780050754547119, -4.0991291999816895], [-2.199031352996826, -2.663745403289795, -2.9207472801208496, -2.9545741081237793, -3.0904479026794434, -3.2413439750671387, -3.2704405784606934, -3.353513240814209, -3.4865221977233887, -3.8133883476257324], [-0.8017451763153076, -1.5441310405731201, -1.9519202709197998, -3.4965293407440186, -4.042977333068848, -4.337803840637207, -4.445733070373535, -4.567229270935059, -4.5894670486450195, -4.644364356994629], [-1.7093043327331543, -1.73396635055542, -2.228583812713623, -3.4400763511657715, -3.5959296226501465, -3.615628719329834, -3.6347479820251465, -3.8337721824645996, -3.8910393714904785, -3.9367785453796387], [-2.1679494380950928, -2.1991593837738037, -2.3697755336761475, -2.458972692489624, -3.4305226802825928, -3.466857671737671, -3.4748265743255615, -3.773475408554077, -3.8347127437591553, -3.9364240169525146], [-0.1781955063343048, -2.587584972381592, -3.8703131675720215, -4.274653911590576, -4.9408698081970215, -5.3389201164245605, -5.49940824508667, -5.540400981903076, -5.658786296844482, -5.702870845794678], [-1.241309642791748, -1.7825884819030762, -1.8082613945007324, -3.0246119499206543, -3.0599284172058105, -3.548898220062256, -3.789191722869873, -3.83931303024292, -3.964799404144287, -3.967677593231201], [-0.0004345426568761468, -8.585569381713867, -10.060546875, -10.07999038696289, -10.226707458496094, -10.746444702148438, -11.600263595581055, -11.722417831420898, -12.19217300415039, -12.362096786499023], [-1.821198582649231, -2.7431745529174805, -3.1991796493530273, -3.321608543395996, -3.4380369186401367, -3.469315528869629, -3.591811180114746, -3.734633445739746, -3.779667854309082, -4.001916885375977], [-2.0918514728546143, -2.297969102859497, -2.5217487812042236, -2.849574327468872, -3.321093797683716, -3.3809540271759033, -3.534013032913208, -3.774245500564575, -4.043513298034668, -4.178729057312012], [-0.4752427041530609, -1.8687916994094849, -3.0902328491210938, -3.2881851196289062, -3.7526798248291016, -4.260363578796387, -4.7098236083984375, -4.814586639404297, -5.188749313354492, -5.261280059814453], [-0.22962722182273865, -3.628854274749756, -3.899911403656006, -4.212234020233154, -4.251195430755615, -4.347270488739014, -4.425057888031006, -4.542710781097412, -4.550570964813232, -4.568276882171631], [-0.00016890530241653323, -9.267415046691895, -9.651190757751465, -13.221818923950195, -14.140347480773926, -14.249855995178223, -14.443398475646973, -14.605298042297363, -15.058728218078613, -15.222014427185059], [-0.5756832957267761, -1.5435521602630615, -2.2849748134613037, -2.756673574447632, -3.743720769882202, -4.317534923553467, -5.085082530975342, -5.871680736541748, -5.966830730438232, -6.574012279510498], [-0.8431614637374878, -1.7614659070968628, -2.1965036392211914, -3.007817268371582, -3.1578874588012695, -3.240605354309082, -3.2531633377075195, -3.4825563430786133, -4.176865577697754, -4.218518257141113], [-0.5169703960418701, -1.3980796337127686, -2.9819133281707764, -3.1187446117401123, -3.6961448192596436, -4.697823524475098, -5.502398490905762, -6.3211870193481445, -6.486575126647949, -6.669560432434082], [-0.19021470844745636, -2.7915425300598145, -3.9549431800842285, -4.0091328620910645, -4.228176593780518, -4.551538944244385, -5.5641045570373535, -5.584993839263916, -5.643944263458252, -5.839203357696533], [-1.6801780462265015, -2.3758187294006348, -2.4037423133850098, -2.7006936073303223, -3.139833927154541, -3.2418160438537598, -3.3221707344055176, -3.6136975288391113, -3.6147961616516113, -3.8888230323791504], [-0.7064315676689148, -1.2514793872833252, -1.7970612049102783, -4.745940208435059, -4.803244590759277, -5.270298957824707, -5.637280464172363, -5.80410099029541, -5.956168174743652, -6.103510856628418], [-0.852445125579834, -1.8071303367614746, -3.167029857635498, -3.336045742034912, -3.483508586883545, -3.5650439262390137, -3.928161144256592, -4.13533353805542, -4.37909460067749, -4.439738750457764], [-1.2935292720794678, -1.9639394283294678, -2.119649648666382, -2.2020013332366943, -3.279863119125366, -3.4241158962249756, -3.540670156478882, -3.679277181625366, -4.01177978515625, -4.112157821655273], [-0.5384460687637329, -1.6127086877822876, -2.5247931480407715, -3.37489652633667, -4.394784450531006, -4.708497524261475, -5.167600154876709, -5.2312846183776855, -5.308419704437256, -5.3626933097839355], [-0.484245240688324, -1.9848613739013672, -2.0814971923828125, -3.6524581909179688, -4.103593826293945, -4.287012100219727, -4.335899353027344, -4.667997360229492, -4.970649719238281, -5.1024169921875], [-0.5211092829704285, -2.1047561168670654, -2.5310256481170654, -2.8283889293670654, -3.618382215499878, -3.8233821392059326, -3.833834409713745, -4.590321063995361, -4.855587482452393, -4.862337589263916], [-0.01556240301579237, -5.589466571807861, -5.82363748550415, -5.9941182136535645, -6.016972064971924, -7.488707065582275, -7.6004509925842285, -7.807135105133057, -7.880411624908447, -8.117206573486328], [-0.6562758684158325, -2.08585262298584, -2.509169578552246, -2.6915578842163086, -3.0816659927368164, -3.501837730407715, -4.039792060852051, -4.397965431213379, -4.557801246643066, -4.570757865905762], [-0.32484516501426697, -2.5469748973846436, -3.2135684490203857, -3.7874324321746826, -4.252663612365723, -4.252718925476074, -4.5010881423950195, -4.5795392990112305, -4.8440141677856445, -5.081839561462402], [-0.6084485650062561, -0.8870893120765686, -3.762688159942627, -5.34060525894165, -5.995914936065674, -6.101912021636963, -6.119181156158447, -6.51212739944458, -6.705814838409424, -6.947094440460205], [-0.021225912496447563, -5.189064979553223, -5.2383012771606445, -6.02114200592041, -6.131436347961426, -6.489449501037598, -7.900969505310059, -8.14948558807373, -8.407204627990723, -8.44678020477295], [-0.44275182485580444, -1.5906438827514648, -2.5257673263549805, -3.790818214416504, -4.0230207443237305, -4.850838661193848, -5.21651554107666, -6.678179740905762, -6.769783973693848, -6.884203910827637], [-0.17826543748378754, -2.5490310192108154, -3.5453174114227295, -4.93697452545166, -5.266278266906738, -5.296448707580566, -5.365460395812988, -6.045256614685059, -6.182995796203613, -6.5499467849731445], [-0.9093111157417297, -2.1204469203948975, -2.569783926010132, -2.985532522201538, -3.0345571041107178, -3.486253499984741, -3.698045492172241, -3.738523244857788, -3.7438600063323975, -4.06519889831543], [-0.027297144755721092, -4.394919395446777, -5.512417793273926, -5.7286481857299805, -6.676796913146973, -7.0515241622924805, -7.154479026794434, -7.633023262023926, -7.952300071716309, -8.008347511291504], [-1.3224283456802368, -1.5143133401870728, -1.7287946939468384, -2.0365262031555176, -3.5393433570861816, -3.702608585357666, -3.927267551422119, -4.13109827041626, -4.369356632232666, -4.598501682281494], [-0.5132232904434204, -1.6081711053848267, -2.1244444847106934, -3.1133341789245605, -3.881042003631592, -6.0493292808532715, -6.338714122772217, -6.583465099334717, -6.617034435272217, -7.049394130706787], [-0.24219200015068054, -2.8465850353240967, -3.1138713359832764, -3.551649808883667, -3.6791350841522217, -4.073379993438721, -4.8313374519348145, -5.184507846832275, -5.357933521270752, -5.393721103668213], [-0.03886092081665993, -4.466148853302002, -5.755476474761963, -5.815739154815674, -6.335175037384033, -6.335266590118408, -6.514963626861572, -6.645134449005127, -7.0410542488098145, -7.124353885650635], [-0.2023741453886032, -1.8199354410171509, -4.456556797027588, -6.295748233795166, -6.637999057769775, -6.733755588531494, -7.24978494644165, -7.461632251739502, -7.531006336212158, -7.883652210235596], [-1.0034809112548828, -1.5772552490234375, -2.266359329223633, -2.4162254333496094, -2.5332870483398438, -3.2223453521728516, -3.3770828247070312, -4.272176742553711, -4.845983505249023, -5.035463333129883], [-0.11743096262216568, -2.907883882522583, -3.985673189163208, -5.150969982147217, -5.542348384857178, -6.065165996551514, -6.0748610496521, -6.399404048919678, -6.629306316375732, -6.649428844451904], [-0.4556601643562317, -2.2948801517486572, -2.4455225467681885, -4.272200107574463, -4.283157825469971, -4.306734561920166, -4.333406925201416, -4.452345371246338, -4.907957553863525, -4.95580530166626], [-0.20583146810531616, -2.4228343963623047, -3.5456809997558594, -3.700490951538086, -4.218233108520508, -5.28834342956543, -5.548982620239258, -5.858610153198242, -6.0928955078125, -6.123065948486328], [-0.012322838418185711, -4.448403835296631, -8.460925102233887, -8.837096214294434, -9.459534645080566, -9.65803050994873, -11.378500938415527, -12.249983787536621, -12.4596529006958, -12.57544994354248], [-0.0004383556661196053, -7.929320812225342, -9.515127182006836, -13.622135162353516, -14.304974555969238, -15.535956382751465, -15.663351058959961, -15.845108032226562, -15.933279037475586, -15.942885398864746], [-0.8989844918251038, -1.944812297821045, -2.2760462760925293, -3.0456995964050293, -3.1452269554138184, -3.4323840141296387, -3.707292079925537, -3.758523464202881, -3.8891406059265137, -4.269582271575928], [-0.3849427103996277, -2.871934652328491, -2.948676824569702, -3.178495168685913, -3.3642194271087646, -3.522691488265991, -4.182490825653076, -4.531663417816162, -4.78122091293335, -4.784549236297607], [-0.6424168348312378, -1.8681343793869019, -2.1204099655151367, -2.577387809753418, -3.8427629470825195, -4.196505546569824, -4.282132148742676, -4.840725898742676, -4.89626407623291, -5.0347185134887695], [-0.7863861918449402, -1.8483483791351318, -2.6539952754974365, -2.876420736312866, -3.1562421321868896, -3.563985586166382, -3.7871854305267334, -3.9493558406829834, -4.179843425750732, -4.184268474578857], [-0.9168408513069153, -1.1359302997589111, -1.7847816944122314, -2.900285005569458, -3.4369442462921143, -5.427474498748779, -6.413106441497803, -6.4729743003845215, -6.475558757781982, -6.632997035980225], [-1.205471396446228, -1.343716025352478, -2.042788028717041, -2.3468575477600098, -3.6479744911193848, -3.716200351715088, -4.147039890289307, -4.228046894073486, -4.6498284339904785, -4.698263645172119], [-1.1638188362121582, -1.9261250495910645, -2.331533908843994, -3.023865222930908, -3.1063199043273926, -3.122215747833252, -3.203556537628174, -3.3579583168029785, -3.846571445465088, -3.9607930183410645], [-0.1636020839214325, -2.152297258377075, -4.709164619445801, -4.934584617614746, -5.1015119552612305, -6.067412376403809, -6.7756147384643555, -6.958540916442871, -7.18302059173584, -7.396209716796875], [-0.0009049849468283355, -7.116164207458496, -9.925639152526855, -11.224535942077637, -11.483235359191895, -12.938425064086914, -13.028840065002441, -13.100824356079102, -13.94343090057373, -13.96496868133545], [-0.0010451575508341193, -7.032920837402344, -9.95102310180664, -10.347660064697266, -10.384048461914062, -10.431781768798828, -11.268518447875977, -12.316690444946289, -13.87520694732666, -14.243721008300781], [-1.3617753982543945, -1.636855125427246, -2.5481061935424805, -2.704718589782715, -2.7982053756713867, -3.0585718154907227, -3.640854835510254, -4.298863410949707, -4.373385429382324, -4.377129554748535], [-1.6777399778366089, -2.058197021484375, -2.4396324157714844, -2.466846466064453, -2.488405227661133, -2.7253189086914062, -3.2143821716308594, -3.2334442138671875, -3.3161678314208984, -3.3258514404296875], [-0.8342990875244141, -1.2868938446044922, -2.062173843383789, -2.1616992950439453, -4.106544494628906, -4.2877655029296875, -5.123884201049805, -6.569055557250977, -6.594392776489258, -6.600719451904297], [-1.802996039390564, -2.1057591438293457, -2.4638161659240723, -2.5136284828186035, -2.767599582672119, -2.787468433380127, -3.0106606483459473, -3.0186448097229004, -3.2462964057922363, -3.6172871589660645], [-1.4840997457504272, -1.9234250783920288, -1.9356721639633179, -2.3783488273620605, -2.4784598350524902, -2.746154308319092, -3.128568172454834, -3.171626567840576, -4.103183269500732, -4.2745585441589355], [-1.2109239101409912, -3.1298158168792725, -3.2298104763031006, -3.6483590602874756, -4.028729438781738, -4.085350036621094, -4.146768569946289, -4.1601152420043945, -4.227193832397461, -4.231410026550293], [-1.0841965675354004, -1.6377472877502441, -2.3571343421936035, -2.4520630836486816, -2.8593106269836426, -3.1485180854797363, -3.9257493019104004, -3.989227771759033, -4.182346820831299, -4.718103885650635], [-0.9239319562911987, -1.8864296674728394, -2.375918388366699, -2.4057302474975586, -3.59523868560791, -3.7806806564331055, -3.9225587844848633, -4.010376930236816, -4.111924171447754, -4.1428327560424805], [-0.20578131079673767, -3.3095390796661377, -3.3552334308624268, -3.722094774246216, -4.649842739105225, -4.881547451019287, -5.205390453338623, -5.411235332489014, -5.44210958480835, -5.560195446014404], [-0.00026055757189169526, -8.330077171325684, -11.050257682800293, -13.137213706970215, -15.137617111206055, -15.405583381652832, -15.490116119384766, -16.22739028930664, -16.305891036987305, -16.404905319213867], [-0.5616722702980042, -1.730010986328125, -1.8619365692138672, -3.1830711364746094, -3.767608642578125, -4.608722686767578, -5.579343795776367, -5.665351867675781, -5.684539794921875, -6.165397644042969], [-1.548364520072937, -1.6493033170700073, -2.060892105102539, -2.2837867736816406, -2.4664974212646484, -2.570423126220703, -2.703968048095703, -2.9640140533447266, -3.414306640625, -4.458438873291016], [-0.46996235847473145, -2.07250714302063, -3.173224687576294, -3.589452028274536, -3.6749699115753174, -3.7384331226348877, -4.038765907287598, -4.0654802322387695, -4.331128120422363, -4.591670036315918], [-0.8010305762290955, -1.9336371421813965, -2.061397075653076, -2.651254177093506, -3.415465831756592, -3.5436530113220215, -3.9188685417175293, -4.085355281829834, -4.3435187339782715, -4.376391887664795], [-0.005788350012153387, -6.681413173675537, -6.820502758026123, -7.375596523284912, -7.491815090179443, -7.648375988006592, -8.536418914794922, -8.54002571105957, -8.700370788574219, -8.830163955688477], [-0.025847729295492172, -4.257070064544678, -5.190858364105225, -6.744216442108154, -7.075572490692139, -7.1462531089782715, -7.64026403427124, -7.693944454193115, -8.345086097717285, -8.472359657287598], [-0.0004674295778386295, -9.059213638305664, -9.834325790405273, -9.875545501708984, -10.400114059448242, -10.49315071105957, -10.92551040649414, -11.075692176818848, -11.177423477172852, -11.436969757080078], [-0.2557610273361206, -1.5869168043136597, -4.796008110046387, -4.801825523376465, -6.8082685470581055, -7.202023506164551, -7.59964656829834, -8.390040397644043, -8.578791618347168, -8.81891918182373], [-0.05022425577044487, -3.4619617462158203, -4.070306777954102, -8.56987190246582, -9.338357925415039, -9.716224670410156, -10.633222579956055, -10.710020065307617, -11.178536415100098, -11.363715171813965], [-0.6516189575195312, -0.7714996337890625, -4.139656066894531, -8.195880889892578, -8.844459533691406, -9.491142272949219, -11.34555435180664, -11.493768692016602, -11.59199333190918, -12.370256423950195], [-4.410734163684538e-06, -13.529501914978027, -14.691832542419434, -14.846965789794922, -14.877542495727539, -15.006176948547363, -15.302400588989258, -15.965120315551758, -16.323816299438477, -16.53965950012207], [-0.031899478286504745, -3.903080940246582, -5.472046852111816, -5.656828880310059, -7.525385856628418, -7.6301774978637695, -7.977801322937012, -8.845203399658203, -9.019669532775879, -9.23701000213623], [-1.1861646175384521, -1.723163366317749, -1.7674481868743896, -1.9370839595794678, -3.2251813411712646, -3.6757524013519287, -4.165674209594727, -4.303920745849609, -4.394491195678711, -4.858800888061523], [-0.4031014144420624, -2.6242241859436035, -3.3876442909240723, -3.45853853225708, -3.849356174468994, -4.062666416168213, -4.252439975738525, -4.531057834625244, -4.626562595367432, -4.65745210647583], [-0.07029131054878235, -3.840078115463257, -3.86942458152771, -4.594194412231445, -5.766658782958984, -5.943309783935547, -6.415470123291016, -6.9092559814453125, -7.531984329223633, -7.754039764404297], [-0.12668484449386597, -3.1712920665740967, -3.973047971725464, -4.2199482917785645, -5.032787799835205, -5.302725315093994, -5.641308307647705, -5.776617527008057, -5.96880578994751, -6.1985764503479], [-0.1969766616821289, -3.0809316635131836, -3.4003000259399414, -3.4238576889038086, -4.322920799255371, -4.565035820007324, -5.290804862976074, -5.3086748123168945, -5.454537391662598, -5.812891960144043], [-1.758662223815918, -2.046055793762207, -2.5154924392700195, -2.5343618392944336, -2.912541389465332, -3.371241569519043, -3.5177154541015625, -3.910588264465332, -4.094667434692383, -4.120942115783691], [-0.022044267505407333, -5.042017936706543, -5.244460105895996, -6.187129020690918, -6.40854549407959, -6.634600639343262, -6.861203193664551, -7.040894508361816, -7.852957725524902, -8.258824348449707], [-1.1343510150909424, -1.2300713062286377, -2.4948437213897705, -2.6296474933624268, -2.9614574909210205, -3.2356388568878174, -3.739691972732544, -3.9050400257110596, -4.597760200500488, -4.613085746765137], [-1.5253831148147583, -1.8457719087600708, -2.1775474548339844, -2.553314208984375, -3.0642471313476562, -3.428255081176758, -3.672384262084961, -3.8752002716064453, -3.9912567138671875, -4.297590255737305], [-1.5997694730758667, -1.9870375394821167, -2.102659225463867, -2.400836944580078, -2.6065921783447266, -3.169771194458008, -3.283618927001953, -3.3032493591308594, -3.3494491577148438, -3.401744842529297], [-0.9696744680404663, -1.4534486532211304, -2.063260555267334, -2.701404094696045, -2.8628439903259277, -3.4223551750183105, -4.31245756149292, -4.375363826751709, -4.493966579437256, -4.652129650115967], [-0.11389243602752686, -2.907027244567871, -3.8833723068237305, -4.719803810119629, -5.40976619720459, -5.4867753982543945, -5.869002342224121, -6.178828239440918, -6.198025703430176, -7.043765068054199], [-0.7533076405525208, -0.8822100758552551, -3.605053186416626, -3.9094736576080322, -4.816792011260986, -5.07720422744751, -5.29528284072876, -5.586313724517822, -5.915722370147705, -6.020130634307861], [-0.4149746000766754, -1.8633617162704468, -2.7913289070129395, -3.6367688179016113, -3.67332124710083, -4.157537937164307, -4.505478382110596, -5.024353504180908, -5.082108020782471, -5.744017124176025], [-0.03884257376194, -4.083287715911865, -4.770900249481201, -5.74359655380249, -5.894139766693115, -6.393142223358154, -6.742534160614014, -6.791606426239014, -7.381066799163818, -7.492307186126709], [-2.4437606043647975e-05, -11.296842575073242, -12.153213500976562, -12.723337173461914, -13.427529335021973, -14.462037086486816, -14.927215576171875, -15.87449836730957, -16.247379302978516, -16.29484748840332], [-1.9073468138230965e-06, -13.249277114868164, -16.34641456604004, -17.480464935302734, -18.416452407836914, -18.95479393005371, -18.96459197998047, -19.066143035888672, -19.285249710083008, -19.410207748413086], [-0.10515090078115463, -3.426415205001831, -4.234686374664307, -4.726236820220947, -5.453012943267822, -5.851121425628662, -6.151443958282471, -6.186854839324951, -6.45482873916626, -6.798909664154053], [-0.07093437016010284, -3.5053138732910156, -4.815240859985352, -5.157569885253906, -5.566926956176758, -5.643762588500977, -5.799838066101074, -6.045230865478516, -6.436532020568848, -6.574808120727539], [-1.6329753398895264, -1.9957005977630615, -2.161118268966675, -2.2831695079803467, -2.9113681316375732, -3.78937029838562, -3.802210569381714, -3.8543498516082764, -4.448482513427734, -4.618812561035156], [-1.9478563070297241, -2.0234313011169434, -2.723909854888916, -3.112422466278076, -3.2186388969421387, -3.244718074798584, -3.2852683067321777, -3.4606165885925293, -3.667555332183838, -3.7952828407287598], [-0.573381781578064, -1.7360252141952515, -2.7166104316711426, -3.257103443145752, -3.705955982208252, -3.8125691413879395, -3.9684834480285645, -4.043243885040283, -4.285969257354736, -4.521023273468018], [-0.8835058808326721, -2.5983705520629883, -2.676182746887207, -3.350489616394043, -3.585270881652832, -3.6242055892944336, -3.811060905456543, -3.982314109802246, -4.162311553955078, -4.1984357833862305], [-1.7097361087799072, -2.7133047580718994, -3.0635416507720947, -3.691429376602173, -3.6967508792877197, -3.8281633853912354, -3.9732916355133057, -4.001073837280273, -4.069135665893555, -4.237358093261719]], \"topKTokens\": [[\"\\n\", \",\", \"Words\", \"Summary\", \"\\n\\n\", \"<|endoftext|>\", \" \", \"Features\", \"Random\", \" the\"], [\" upon\", \" there\", \",\", \" the\", \" she\", \" on\", \" he\", \" day\", \" in\", \" night\"], [\" a\", \" an\", \" the\", \" one\", \" time\", \" some\", \" upon\", \" it\", \" two\", \" something\"], [\" time\", \" day\", \" night\", \" morning\", \" week\", \" Sunday\", \" long\", \" Wednesday\", \" dark\", \" little\"], [\",\", \" there\", \" in\", \" a\", \" was\", \" upon\", \".\", \" on\", \" the\", \" lived\"], [\" there\", \" a\", \" in\", \" two\", \" the\", \" she\", \" it\", \" Jack\", \" he\", \" Sam\"], [\" was\", \" were\", \" lived\", \" are\", \" is\", \"'s\", \",\", \" a\", \" wasn\", \" had\"], [\" a\", \" an\", \" two\", \" one\", \" something\", \" some\", \" the\", \" three\", \" his\", \" Jack\"], [\" little\", \" girl\", \" boy\", \" big\", \" brave\", \" small\", \" man\", \" young\", \" kind\", \" happy\"], [\".\", \" who\", \" named\", \" called\", \" that\", \" and\", \" with\", \",\", \" in\", \"c\"], [\" He\", \" The\", \" It\", \" She\", \" This\", \" His\", \" Every\", \" In\", \" One\", \" Her\"], [\" was\", \" had\", \" wanted\", \" liked\", \" lived\", \" loved\", \" flew\", \" felt\", \" didn\", \" went\"], [\" to\", \" a\", \" something\", \" it\", \" the\", \" an\", \" everyone\", \" her\", \" some\", \" more\"], [\" fly\", \" go\", \" make\", \" find\", \" explore\", \" soar\", \" see\", \" build\", \" get\", \" learn\"], [\" the\", \" her\", \" it\", \" something\", \" a\", \" its\", \" his\", \" some\", \" all\", \" an\"], [\" broken\", \" nest\", \" dead\", \" bird\", \" small\", \" part\", \" feather\", \" little\", \" bad\", \" piece\"], [\" with\", \"'s\", \",\", \".\", \"c\", \" that\", \" so\", \" in\", \" but\", \"house\"], [\" a\", \" something\", \" some\", \" one\", \" the\", \" her\", \" feathers\", \" an\", \" wings\", \" tw\"], [\" else\", \".\", \" new\", \" special\", \" that\", \",\", \" she\", \" better\", \" so\", \" in\"], [\".\", \",\", \"!\", \" -\", \" and\", \" that\", \" for\", \" so\", \" to\", \" in\"], [\" She\", \" So\", \"\\n\", \" The\", \" Every\", \" Her\", \" It\", \" \", \" One\", \" But\"], [\",\", \" she\", \" the\", \" one\", \" every\", \" it\", \" they\", \" her\", \" he\", \" everyday\"], [\" she\", \" the\", \" one\", \" every\", \" her\", \" they\", \" it\", \" he\", \" everyday\", \" Lily\"], [\" went\", \" flew\", \" took\", \" decided\", \" found\", \" asked\", \" searched\", \" looked\", \" set\", \" got\"], [\" to\", \" searching\", \" on\", \" outside\", \" looking\", \" out\", \" and\", \" around\", \" off\", \" for\"], [\"\\n\", \" She\", \" \", \" The\", \" It\", \" Her\", \" Everywhere\", \" But\", \" Every\", \" One\"], [\"I\", \"What\", \"Mom\", \"How\", \"Where\", \"Can\", \"Hello\", \"Let\", \"M\", \"Yes\"], [\" can\", \" need\", \" found\", \" have\", \" want\", \"'m\", \" will\", \" know\", \" think\", \"'ll\"], [\" my\", \" a\", \" the\", \" something\", \" track\", \" some\", \" it\", \" all\", \" things\", \" this\"], [\" nest\", \" feather\", \" way\", \" toy\", \" favorite\", \" needle\", \" friend\", \" home\", \" mom\", \" wings\"], [\" friend\", \" feather\", \" hat\", \" tail\", \" wings\", \" friends\", \" blanket\", \" nest\", \" thing\", \" coat\"], [\",\\\"\", \"!\\\"\", \" and\", \",\", \".\", \".\\\"\", \"!\", \"!\\\",\", \" in\", \"\\\",\"], [\" she\", \"\\n\", \" She\", \" said\", \" \", \" the\", \" The\", \" shouted\", \" But\", \" and\"], [\" said\", \" looked\", \" searched\", \" flew\", \" asked\", \" was\", \" went\", \" thought\", \" took\", \" hopped\"], [\".\", \",\", \" to\", \" happily\", \" with\", \" sadly\", \" as\", \" proudly\", \" goodbye\", \" softly\"], [\" \\\"\", \" looking\", \" and\", \" as\", \" hopping\", \" flying\", \" with\", \" fl\", \" feeling\", \" \\ufffd\"], [\" around\", \" and\", \" over\", \" up\", \" in\", \" away\", \" through\", \" from\", \" into\", \" along\"], [\" and\", \" the\", \" in\", \".\", \" looking\", \",\", \" until\", \" her\", \" with\", \" to\"], [\"\\n\", \" \", \" She\", \" Then\", \" The\", \" Suddenly\", \" \\\"\", \" But\", \" All\", \" Her\"], [\"\\n\", \"The\", \"Suddenly\", \" \", \"She\", \"Then\", \"Summary\", \"<|endoftext|>\", \"Story\", \"Her\"], [\"The\", \"Suddenly\", \"Then\", \"She\", \"Her\", \"Soon\", \"But\", \"So\", \"One\", \"Just\"], [\",\", \" she\", \" the\", \" a\", \" her\", \" it\", \" there\", \" one\", \" something\", \" they\"], [\" she\", \" the\", \" a\", \" something\", \" her\", \" it\", \" there\", \" they\", \" an\", \" another\"], [\" heard\", \" saw\", \" spotted\", \" found\", \" noticed\", \" felt\", \" had\", \" met\", \" came\", \" stumbled\"], [\" a\", \" someone\", \" something\", \" the\", \" her\", \" an\", \" another\", \" some\", \" voices\", \" music\"], [\".\", \" coming\", \" strange\", \"!\", \" in\", \" behind\", \" rust\", \" else\", \" that\", \" from\"], [\" It\", \" She\", \" \\\"\", \" A\", \" The\", \" Someone\", \"\\n\", \" Looking\", \" What\", \" Her\"], [\" looked\", \" followed\", \" saw\", \" stopped\", \" turned\", \" went\", \" was\", \" hopped\", \" heard\", \" asked\"], [\" around\", \" up\", \" down\", \" and\", \" closer\", \" in\", \" everywhere\", \" over\", \" closely\", \" all\"], [\" and\", \".\", \",\", \" to\", \" -\", \"!\", \" at\", \" up\", \" but\", \" in\"], [\" saw\", \" found\", \" noticed\", \" realized\", \" realised\", \" spotted\", \" she\", \" it\", \" there\", \" discovered\"], [\" a\", \" that\", \" it\", \" an\", \" two\", \" the\", \" her\", \" something\", \" another\", \" some\"], [\" little\", \" big\", \" small\", \" tiny\", \" rabbit\", \" beautiful\", \" giant\", \" shiny\", \" man\", \" furry\"], [\" rabbit\", \" girl\", \" boy\", \" bird\", \" bunny\", \" mouse\", \" puppy\", \" frog\", \" furry\", \" creature\"], [\".\", \"!\", \" with\", \" hiding\", \" who\", \" running\", \" pe\", \" in\", \",\", \" trying\"], [\" The\", \" She\", \" It\", \" \\\"\", \"\\n\", \" He\", \" \", \" \\ufffd\", \" But\", \" A\"], [\"\\ufffd\", \"\\ufffd\", \"\\ufffd\", \"What\", \"\\\"\", \"\\ufffd\", \"''\", \"Oh\", \" ''\", \" \\\"'\"], [\"Hello\", \"Hi\", \"What\", \"I\", \"Oh\", \"Hey\", \"Do\", \"Can\", \"Don\", \"It\"], [\",\", \"!\", \" there\", \" little\", \"?\", \" fox\", \" bird\", \"!\\\"\", \".\", \" Mr\"], [\"\\ufffd\", \" What\", \" Is\", \" Can\", \" I\", \" Are\", \" Do\", \" Who\", \" Would\", \" Where\"], [\" are\", \" is\", \"\\ufffd\", \"'s\", \" can\", \" do\", \" have\", \" a\", \" am\", \" did\"], [\" you\", \" your\", \" ya\", \" those\", \" these\", \" the\", \" I\", \" yours\", \" this\", \" we\"], [\" doing\", \" looking\", \"?\", \" trying\", \" searching\", \"?\\\"\", \" up\", \" lost\", \" going\", \" making\"], [\" for\", \" at\", \" so\", \" to\", \" about\", \" around\", \" in\", \" up\", \" all\", \" like\"], [\"?\", \"?\\\"\", \",\", \"?\\\".\", \" is\", \"!\", \".\", \" today\", \"?\\\",\", \" me\"], [\"\\ufffd\", \" Can\", \" Do\", \" What\", \" I\", \" Are\", \" Is\", \" It\", \" Have\", \" Don\"], [\"\\ufffd\", \"\\ufffd\", \"''\", \"\\ufffd\", \"\\ufffd\", \"\\n\", \"\\ufffd\", \"!'\", \".''\", \"\\ufffd\"], [\"\\n\", \" the\", \" The\", \" she\", \" \", \" She\", \" asked\", \" it\", \" said\", \" It\"], [\" fox\", \" bird\", \" little\", \" furry\", \" bunny\", \" rabbit\", \" hairy\", \" girl\", \" clever\", \" animal\"], [\" said\", \" asked\", \" replied\", \" smiled\", \" was\", \" looked\", \" answered\", \" told\", \" turned\", \" explained\"], [\",\", \" nothing\", \" \\ufffd\", \".\", \" with\", \" in\", \" to\", \" \\\"\", \" kindly\", \" hello\"], [\" \\ufffd\", \" \\\"\", \"\\ufffd\", \" looking\", \" hopping\", \" with\", \" in\", \" pointing\", \" \", \" and\"], [\"\\ufffd\", \"\\ufffd\", \"\\ufffd\", \"\\ufffd\", \" ''\", \"What\", \"''\", \"\\\"\", \" \\ufffd\", \"I\"], [\"I\", \"My\", \"Hello\", \"Hi\", \"It\", \"We\", \"A\", \"Oh\", \"You\", \"Follow\"], [\" am\", \"\\ufffd\", \"'m\", \" lost\", \" can\", \" want\", \" was\", \" have\", \" found\", \" need\"], [\" looking\", \" lost\", \" trying\", \" a\", \" searching\", \" the\", \" here\", \" so\", \" an\", \" very\"], [\".\", \" and\", \"!\", \",\", \" in\", \"\\ufffd\", \" at\", \" because\", \" too\", \" by\"], [\" Can\", \" I\", \"\\ufffd\", \" Have\", \" Could\", \" Do\", \" Please\", \" Will\", \" Would\", \" What\"], [\" you\", \" I\", \" we\", \" someone\", \" it\", \"\\ufffd\", \" this\", \" my\", \" your\", \"'t\"], [\" help\", \" give\", \" replace\", \" find\", \" please\", \" show\", \" provide\", \" come\", \" bring\", \" lend\"], [\" me\", \"?\", \" find\", \",\", \"!\", \" my\", \" you\", \" the\", \".\", \" us\"], [\"?\", \" find\", \",\", \" replace\", \" get\", \"?'\", \"?\\\"\", \" please\", \"!\", \" look\"], [\" my\", \" something\", \" it\", \" her\", \" him\", \" a\", \" the\", \"?\", \" your\", \" them\"], [\" way\", \" home\", \" family\", \" nest\", \" mom\", \" friend\", \" house\", \" friends\", \" lost\", \" carrot\"], [\" home\", \" back\", \"?\", \" out\", \"?\\\"\", \" to\", \" around\", \",\", \" in\", \" up\"], [\"\\ufffd\", \" I\", \"\\n\", \" Can\", \" We\", \" It\", \" Just\", \" My\", \" Please\", \" A\"], [\"\\ufffd\", \"\\ufffd\", \"\\ufffd\", \"''\", \"\\ufffd\", \"\\n\", \"\\ufffd\", \"?'\", \"\\ufffd\", \",'\"], [\"\\n\", \" \", \" The\", \" the\", \" asked\", \".\", \" She\", \" So\", \" He\", \" he\"], [\"\\n\", \"The\", \" \", \" The\", \"\\ufffd\", \"Tom\", \"She\", \"So\", \"He\", \"Fox\"], [\"The\", \"So\", \"\\ufffd\", \"Tom\", \"She\", \"L\", \"Lu\", \"M\", \"He\", \"Just\"], [\" fox\", \" bird\", \" little\", \" furry\", \" bunny\", \" rabbit\", \" clever\", \" bear\", \" girl\", \" hairy\"], [\" said\", \" thought\", \" smiled\", \" replied\", \" was\", \" agreed\", \" nodded\", \" looked\", \" told\", \" answered\"], [\",\", \" \\ufffd\", \" yes\", \" he\", \" nothing\", \" she\", \" to\", \" with\", \" kindly\", \" that\"], [\" \\ufffd\", \" \\\"\", \"\\ufffd\", \" \", \"\\n\", \" '\", \" and\", \" looking\", \" with\", \" in\"], [\"\\ufffd\", \"\\ufffd\", \"\\ufffd\", \"\\ufffd\", \" ''\", \"\\\"\", \" \\ufffd\", \"''\", \" ``\", \"I\"], [\"Yes\", \"Sure\", \"I\", \"Of\", \"Don\", \"Follow\", \"Let\", \"No\", \"Oh\", \"My\"], [\" course\", \" Course\", \"\\ufffd\", \" can\", \" thing\", \" I\", \"!\", \" am\", \" help\", \" do\"], [\"!\", \" I\", \",\", \".\", \" you\", \" my\", \" can\", \" of\", \" not\", \" there\"], [\" I\", \" Let\", \" Just\", \" Follow\", \" What\", \" You\", \"\\ufffd\", \" Come\", \" We\", \" But\"], [\" can\", \" will\", \" know\", \"\\ufffd\", \" am\", \" would\", \" have\", \"'ll\", \" think\", \" need\"], [\" help\", \" replace\", \" show\", \" find\", \" follow\", \" take\", \" lead\", \" give\", \" protect\", \" try\"], [\" you\", \".\", \"!\", \" your\", \" look\", \" my\", \" find\", \" the\", \" protect\", \" replace\"], [\"!\", \".\", \" find\", \",\", \" look\", \" replace\", \" and\", \" to\", \" if\", \" too\"], [\"\\ufffd\", \" Let\", \" Follow\", \" I\", \" Come\", \" Just\", \" What\", \" But\", \" We\", \" You\"], [\" can\", \" are\", \" must\", \" have\", \"\\ufffd\", \" need\", \" look\", \" will\", \" just\", \" should\"], [\" use\", \"\\ufffd\", \" replace\", \" follow\", \" help\", \" have\", \" be\", \" find\", \" stay\", \" ride\"], [\" your\", \" the\", \" my\", \" me\", \" anything\", \" all\", \" her\", \" this\", \" it\", \" what\"], [\" wings\", \" lost\", \" nest\", \" old\", \" fur\", \" furry\", \" tail\", \" home\", \" tears\", \" description\"], [\" friend\", \" tail\", \" feathers\", \" fur\", \" wings\", \" heart\", \" hat\", \" body\", \" coat\", \" friends\"], [\" with\", \".\", \"!\", \" in\", \" and\", \" so\", \" if\", \" by\", \" for\", \" into\"], [\" something\", \" this\", \" a\", \" my\", \" the\", \" rocks\", \" some\", \" these\", \" me\", \" your\"], [\" of\", \" and\", \" on\", \" more\", \" to\", \".\", \" in\", \".\\\"\", \" about\", \"!\\\"\"], [\" leaves\", \" grass\", \" rocks\", \" new\", \" love\", \" things\", \" fur\", \" soft\", \" water\", \" dirt\"], [\" wings\", \" tail\", \" paw\", \" new\", \" paws\", \" heart\", \" help\", \" fur\", \" hopping\", \" own\"], [\".\", \"!\", \".\\\"\", \"!\\\"\", \" and\", \",\", \"\\\".\", \" on\", \" so\", \" in\"], [\"\\ufffd\", \" You\", \" I\", \" Let\", \" That\", \" Then\", \" It\", \" Just\", \" Come\", \" But\"], [\"\\ufffd\", \"\\ufffd\", \"\\ufffd\", \"\\ufffd\", \"\\ufffd\", \"\\ufffd\", \" Plant\", \"\\ufffd\", \"\\ufffd\", \"ains\"], [\"\\n\", \" The\", \" \", \" So\", \" She\", \" He\", \" And\", \" Then\", \" They\", \" With\"], [\" so\", \" with\", \" the\", \" they\", \" she\", \" that\", \" he\", \" together\", \" it\", \" sure\"], [\",\", \" the\", \" they\", \" she\", \" he\", \" off\", \" it\", \" on\", \" Tom\", \" was\"], [\" fox\", \" little\", \" bird\", \" furry\", \" clever\", \" two\", \" brave\", \" bear\", \" hairy\", \" kind\"], [\" did\", \" and\", \" went\", \" set\", \" was\", \" said\", \" hopped\", \" thanked\", \" helped\", \" took\"], [\" and\", \".\", \",\", \" at\", \" as\", \" with\", \" again\", \" back\", \" happily\", \" too\"], [\" said\", \" thanked\", \" hopped\", \" hugged\", \" the\", \" ran\", \" went\", \" followed\", \" felt\", \" started\"], [\" to\", \" hopping\", \" searching\", \" looking\", \" digging\", \" replacing\", \" helping\", \" walking\", \" running\", \" working\"], [\" for\", \" around\", \".\", \" again\", \" back\", \" at\", \" even\", \" right\", \" through\", \" after\"], [\".\", \" the\", \" for\", \" to\", \" with\", \" again\", \",\", \" in\", \" him\", \" her\"], [\"\\n\", \" \", \" He\", \" The\", \" After\", \" They\", \" Soon\", \" She\", \" With\", \" Finally\"], [\"\\n\", \"The\", \"Summary\", \" \", \"<|endoftext|>\", \"Soon\", \"They\", \"It\", \"After\", \"He\"], [\"The\", \"After\", \"Soon\", \"Finally\", \"They\", \"He\", \"It\", \"From\", \"And\", \"Together\"], [\" a\", \" some\", \" the\", \" many\", \" looking\", \" searching\", \" they\", \" that\", \" an\", \" finding\"], [\" while\", \" few\", \" long\", \" lot\", \" little\", \" bit\", \" short\", \" moment\", \" fun\", \" very\"], [\",\", \" of\", \" the\", \" they\", \" he\", \" she\", \" a\", \" and\", \" more\", \" though\"], [\" the\", \" they\", \" he\", \" she\", \" it\", \" a\", \" one\", \" Fox\", \" everything\", \" more\"], [\" fox\", \" furry\", \" little\", \" bird\", \" clever\", \" helpful\", \" sun\", \" hairy\", \" rock\", \" kind\"], [\" found\", \" said\", \" spotted\", \" got\", \" came\", \" saw\", \" had\", \" and\", \" noticed\", \" was\"], [\" the\", \" her\", \" him\", \" all\", \" his\", \" them\", \" a\", \" fox\", \" it\", \" both\"], [\" little\", \" bird\", \" furry\", \" fox\", \" rabbit\", \" birds\", \" bunny\", \" bear\", \" sun\", \" helpful\"], [\" and\", \" for\", \".\", \" again\", \",\", \" before\", \" with\", \" once\", \" by\", \" over\"], [\" his\", \" helping\", \" her\", \" the\", \" being\", \" its\", \" replacing\", \" all\", \" a\", \" finding\"], [\" help\", \" kindness\", \" useful\", \" advice\", \" answer\", \" recommendation\", \" kind\", \" support\", \" suggestion\", \" idea\"], [\".\", \" and\", \",\", \" in\", \" before\", \"!\", \" but\", \" once\", \" with\", \" again\"], [\" The\", \" He\", \" Then\", \" She\", \" \\ufffd\", \" From\", \" They\", \" But\", \" Together\", \" As\"], [\" fox\", \" furry\", \" two\", \" bear\", \" little\", \" bunny\", \" sun\", \" fur\", \" hairy\", \" other\"], [\" said\", \" smiled\", \" was\", \" replaced\", \" waved\", \" had\", \" replied\", \" thanked\", \" gave\", \" and\"], [\",\", \" goodbye\", \" \\ufffd\", \" he\", \" to\", \" thank\", \" that\", \" \\\"\", \" good\", \":\"], [\" \\ufffd\", \" \\\"\", \"\\ufffd\", \" \", \" '\", \"\\n\", \" he\", \" the\", \" ''\", \" and\"], [\"\\ufffd\", \"\\ufffd\", \"\\ufffd\", \"\\\"\", \" ''\", \" \\ufffd\", \" \\\"\", \"What\", \"''\", \"That\"], [\"You\", \"It\", \"I\", \"Remember\", \"No\", \"Thank\", \"Now\", \"That\", \"My\", \"Any\"], [\" are\", \" have\", \"'re\", \" were\", \"\\ufffd\", \" can\", \" should\", \" must\", \" may\", \" know\"], [\" very\", \" a\", \" so\", \" welcome\", \" the\", \" my\", \" such\", \" now\", \" always\", \" an\"], [\" kind\", \" clever\", \" useful\", \" smart\", \" intelligent\", \" brave\", \" helpful\", \" wise\", \" welcome\", \" adorable\"], [\"!\", \",\", \".\", \" and\", \" to\", \" for\", \" I\", \"!\\\"\", \" fox\", \" -\"], [\" You\", \" I\", \"\\ufffd\", \" Thank\", \" Now\", \" Can\", \" Here\", \" Let\", \" But\", \" Keep\"], [\" am\", \" will\", \"\\ufffd\", \" know\", \" have\", \" think\", \"'m\", \" can\", \" like\", \" thought\"], [\"\\ufffd\", \"'t\", \"!\", \" a\", \" the\", \" this\", \" something\", \".\", \" one\", \" my\"], [\"\\ufffd\", \"\\ufffd\", \"\\ufffd\", \"\\ufffd\", \"\\ufffd\", \"ap\", \" help\", \"\\ufffd\", \" your\", \" allow\"], [\"t\", \"d\", \"s\", \"ve\", \"re\", \"ll\", \"m\", \"'t\", \" be\", \"n\"], [\" be\", \" forget\", \" replace\", \" give\", \" have\", \" hurt\", \" lose\", \" need\", \" tell\", \" break\"], [\" your\", \" this\", \" my\", \" to\", \" where\", \" about\", \" you\", \"!\", \" what\", \" anything\"], [\" I\", \" you\", \" my\", \" your\", \" the\", \" it\", \" to\", \" everything\", \" he\", \" all\"], [\" put\", \" found\", \" are\", \" live\", \" can\", \" came\", \" need\", \" were\", \" replaced\", \" got\"], [\" your\", \" my\", \" the\", \" to\", \" you\", \" it\", \" a\", \" this\", \" me\", \" that\"], [\" rock\", \" help\", \" fox\", \" big\", \" ac\", \" food\", \" fur\", \" honey\", \" gold\", \" stone\"], [\" from\", \".\", \" and\", \"!\", \" of\", \" you\", \" for\", \",\", \" I\", \"!\\\"\"], [\".\", \"!\", \" now\", \" the\", \" yesterday\", \" then\", \" me\", \".\\\"\", \" -\", \",\"], [\"\\ufffd\", \" You\", \" I\", \" That\", \" Now\", \" Thank\", \" Let\", \" It\", \" The\", \" Then\"], [\"\\ufffd\", \"\\ufffd\", \"\\ufffd\", \"\\ufffd\", \"\\ufffd\", \"\\ufffd\", \"\\n\", \"\\ufffd\", \"\\ufffd\", \"''\"], [\"\\n\", \" The\", \" \", \" And\", \" Then\", \" He\", \" From\", \" So\", \" She\", \".\"], [\" with\", \" they\", \" he\", \" the\", \" so\", \" from\", \" that\", \" then\", \" she\", \" ever\"], [\" both\", \" lived\", \" became\", \" hugged\", \" went\", \" continued\", \" were\", \" all\", \" played\", \" did\"], [\" lived\", \" went\", \" laughed\", \" smiled\", \" happily\", \" hugged\", \" said\", \" walked\", \" enjoyed\", \" ran\"], [\" happily\", \" happy\", \" in\", \" a\", \" together\", \" the\", \" sadly\", \" unh\", \" on\", \" very\"], [\" ever\", \" in\", \" together\", \" on\", \",\", \".\", \" for\", \" with\", \" and\", \" happily\"], [\" after\", \" since\", \" the\", \" replaced\", \" ever\", \" night\", \" on\", \".\", \" day\", \" in\"], [\".\", \"!\", \" in\", \",\", \" with\", \" on\", \" -\", \" that\", \" and\", \" the\"], [\"\\n\", \" The\", \" \", \" They\", \" From\", \"\\n\\n\", \" And\", \"\\ufffd\", \" Together\", \" That\"], [\"<|endoftext|>\", \"Summary\", \"\\n\", \"The\", \" \", \"<\", \"Sum\", \"Story\", \"Features\", \"Words\"], [\":\", \" going\", \" -\", \" that\", \" the\", \" one\", \".\", \" like\", \"-\", \",\"], [\" A\", \" An\", \" Two\", \" The\", \" Tommy\", \" Tom\", \" Three\", \" John\", \" Benny\", \" B\"], [\" clever\", \" little\", \" fox\", \" furry\", \" curious\", \" lost\", \" bunny\", \" bird\", \" smart\", \" hairy\"], [\" helps\", \" loses\", \" finds\", \" asks\", \" goes\", \" and\", \" gets\", \" who\", \" searches\", \" meets\"], [\" a\", \" his\", \" the\", \" replace\", \" an\", \" to\", \" find\", \" two\", \" its\", \" her\"], [\" lost\", \" sad\", \" little\", \" fox\", \" bird\", \" furry\", \" crying\", \" scared\", \" rabbit\", \" friendly\"], [\" fox\", \" and\", \" little\", \" furry\", \" bird\", \" rabbit\", \" bunny\", \",\", \" girl\", \" lost\"], [\" clever\", \" kind\", \" but\", \" furry\", \" lost\", \" and\", \" hungry\", \" friendly\", \" feeling\", \" little\"], [\" fox\", \" bird\", \" rabbit\", \" little\", \" and\", \"ly\", \" bunny\", \" bear\", \" squirrel\", \" girl\"], [\" find\", \" by\", \" in\", \" who\", \",\", \" and\", \" replace\", \" with\", \" out\", \" to\"], [\" they\", \" a\", \" is\", \" the\", \" finds\", \" fox\", \" an\", \" offers\", \" becomes\", \" receives\"], [\" the\", \" a\", \" lost\", \" its\", \" known\", \" even\", \" more\", \" his\", \" friends\", \" useful\"], [\" in\", \" and\", \",\", \" by\", \".\", \" after\", \" but\", \" at\", \" with\", \" until\"], [\" the\", \" a\", \" his\", \" finding\", \" her\", \" an\", \" need\", \" search\", \" its\", \" their\"], [\" forest\", \" woods\", \" big\", \" process\", \" wild\", \" sky\", \" clouds\", \" fox\", \" wood\", \" heat\"], [\".\", \",\", \" after\", \" with\", \" and\", \" by\", \" while\", \" but\", \" when\", \" forever\"], [\"\\n\\n\", \" The\", \"\\n\", \" He\", \" They\", \" A\", \" Together\", \" When\", \" With\", \" After\"], [\"<|endoftext|>\", \"\\n\", \"\\n\\n\", \"<\", \"Summary\", \"The\", \"Story\", \"They\", \"Finally\", \"\\\"\"], [\"\\n\", \",\", \"\\n\\n\", \".\", \" \\\"\", \",\\\"\", \".\\\"\", \":\", \" \", \"<|endoftext|>\"], [\" day\", \" night\", \" morning\", \" sunny\", \" little\", \" hot\", \" brave\", \" evening\", \" of\", \" cold\"], [\",\", \" he\", \" she\", \" the\", \" they\", \" a\", \" when\", \" while\", \" his\", \" it\"], [\" a\", \" the\", \" she\", \" he\", \" they\", \" her\", \" it\", \" while\", \" when\", \" two\"], [\" saw\", \" was\", \" heard\", \" decided\", \" met\", \" found\", \" finds\", \" sees\", \" hears\", \" had\"], [\" a\", \" that\", \" something\", \" he\", \" two\", \" the\", \" an\", \" his\", \" some\", \" it\"], [\" strange\", \" in\", \" shiny\", \" shining\", \" gl\", \" special\", \" spark\", \" was\", \" different\", \" unusual\"], [\" and\", \".\", \" in\", \" to\", \" on\", \" was\", \",\", \" up\", \" like\", \" did\"]], \"correctTokenRank\": [294, 0, 0, 0, 0, 0, 0, 0, 19, 0, 3, 2, 0, 186, 4, 3, 0, 1, 33, 0, 1, 0, 0, 0, 68, 13, 0, 21, 0, 905, 4, 1, 2, 0, 1, 4, 0, 3, 0, 0, 1, 0, 0, 0, 2, 0, 1, 0, 4, 0, 0, 0, 0, 19, 0, 7, 0, 0, 1, 1, 0, 0, 1, 0, 0, 0, 0, 2, 0, 0, 0, 0, 0, 0, 0, 1, 0, 0, 0, 0, 0, 1, 0, 0, 2, 0, 0, 0, 0, 0, 0, 0, 0, 0, 0, 3, 0, 0, 0, 1, 0, 0, 0, 9, 0, 2, 0, 5, 56, 0, 14, 0, 87, 7, 0, 0, 0, 6, 0, 1, 0, 28, 0, 9, 3, 1, 0, 0, 0, 1, 0, 0, 0, 0, 0, 13, 0, 3, 1, 0, 0, 0, 0, 0, 0, 0, 0, 0, 0, 0, 2, 1, 2, 1, 17, 0, 0, 0, 1, 4, 1, 9, 2, 156, 0, 0, 0, 0, 3, 1, 0, 0, 0, 0, 0, 0, 0, 1, 0, 0, 2, 0, 0, 0, 7, 0, 0, 5, 8, 2, 0, 0, 1, 0, 0, 0, 95, 0, 0, 3, 21, 2, 209, 13], \"correctTokenLogProb\": [-11.625460624694824, -0.3724861741065979, -0.005904612597078085, -0.011737688444554806, -0.18781781196594238, -0.10250487178564072, -0.13827131688594818, -0.03213004022836685, -5.191254138946533, -0.875357985496521, -2.643075466156006, -2.1785483360290527, -0.03951636329293251, -8.074886322021484, -3.097712993621826, -3.5889430046081543, -1.2810580730438232, -2.221226215362549, -5.856172561645508, -0.2611504793167114, -1.4940680265426636, -0.8613137006759644, -0.1968218833208084, -1.3877593278884888, -10.776074409484863, -6.081696510314941, -1.3692134618759155, -6.0642876625061035, -0.14800307154655457, -9.983283996582031, -3.4368362426757812, -1.6771636009216309, -2.2593607902526855, -1.5073175430297852, -1.632466197013855, -3.7784652709960938, -0.774751603603363, -2.542722225189209, -0.5751826763153076, -0.03546081855893135, -2.0093741416931152, -0.0694078728556633, -0.6174013614654541, -0.9485243558883667, -3.584774971008301, -0.8417415618896484, -1.6287213563919067, -0.9130316972732544, -3.177846908569336, -0.07201692461967468, -0.10321076959371567, -0.24192455410957336, -1.455412745475769, -4.7579264640808105, -0.48675650358200073, -5.01796293258667, -0.0037282262928783894, -1.1178021430969238, -2.1687545776367188, -1.400672197341919, -0.2835957407951355, -0.00035255891270935535, -2.126997709274292, -0.08728783577680588, -0.47216227650642395, -0.004830595105886459, -7.748573807475623e-06, -1.8433563709259033, -0.6473677754402161, -0.9615287780761719, -0.2727815806865692, -0.16312311589717865, -0.0015049570938572288, -0.12189159542322159, -0.7453303933143616, -1.9061769247055054, -0.37934285402297974, -0.8995538949966431, -0.019094347953796387, -0.035499703139066696, -0.04476398974657059, -2.1334877014160156, -0.04224367439746857, -0.21296948194503784, -3.352092981338501, -0.017742492258548737, -2.9801878554280847e-05, -0.2869439423084259, -0.03188135102391243, -0.024066340178251266, -0.6438527703285217, -0.8252776861190796, -0.07979138195514679, -0.011042791418731213, -0.0008949803304858506, -1.8482093811035156, -6.568216485902667e-05, -0.6065900325775146, -1.071755290031433, -1.1084349155426025, -0.08337226510047913, -0.019541483372449875, -0.7491401433944702, -5.681918621063232, -0.958946704864502, -2.9207472801208496, -0.8017451763153076, -3.615628719329834, -6.283646583557129, -0.1781955063343048, -4.924350261688232, -0.0004345426568761468, -6.451676368713379, -3.774245500564575, -0.4752427041530609, -0.22962722182273865, -0.00016890530241653323, -5.085082530975342, -0.8431614637374878, -1.3980796337127686, -0.19021470844745636, -5.131741046905518, -0.7064315676689148, -4.439738750457764, -2.2020013332366943, -1.6127086877822876, -0.484245240688324, -0.5211092829704285, -0.01556240301579237, -2.08585262298584, -0.32484516501426697, -0.6084485650062561, -0.021225912496447563, -0.44275182485580444, -0.17826543748378754, -4.289270401000977, -0.027297144755721092, -2.0365262031555176, -1.6081711053848267, -0.24219200015068054, -0.03886092081665993, -0.2023741453886032, -1.0034809112548828, -0.11743096262216568, -0.4556601643562317, -0.20583146810531616, -0.012322838418185711, -0.0004383556661196053, -0.8989844918251038, -0.3849427103996277, -2.1204099655151367, -1.8483483791351318, -1.7847816944122314, -1.343716025352478, -5.044750690460205, -0.1636020839214325, -0.0009049849468283355, -0.0010451575508341193, -1.636855125427246, -2.488405227661133, -1.2868938446044922, -3.6172871589660645, -1.9356721639633179, -7.535482406616211, -1.0841965675354004, -0.9239319562911987, -0.20578131079673767, -0.00026055757189169526, -3.1830711364746094, -1.6493033170700073, -0.46996235847473145, -0.8010305762290955, -0.005788350012153387, -0.025847729295492172, -0.0004674295778386295, -0.2557610273361206, -0.05022425577044487, -0.7714996337890625, -4.410734163684538e-06, -0.031899478286504745, -1.7674481868743896, -0.4031014144420624, -0.07029131054878235, -0.12668484449386597, -5.3086748123168945, -1.758662223815918, -0.022044267505407333, -3.2356388568878174, -3.9912567138671875, -2.102659225463867, -0.9696744680404663, -0.11389243602752686, -0.8822100758552551, -0.4149746000766754, -0.03884257376194, -2.4437606043647975e-05, -23.003992080688477, -0.10515090078115463, -0.07093437016010284, -2.2831695079803467, -4.858923435211182, -2.7166104316711426, -8.802302360534668, -4.465035438537598]}\n",
              "    )\n",
              "    </script>"
            ],
            "text/plain": [
              "<circuitsvis.utils.render.RenderedHTML at 0x7fea75717c40>"
            ]
          },
          "execution_count": 11,
          "metadata": {},
          "output_type": "execute_result"
        }
      ],
      "source": [
        "example_prompt = model.generate(\n",
        "    \"Once upon a time\",\n",
        "    stop_at_eos=False,  # avoids a bug on MPS\n",
        "    temperature=1,\n",
        "    verbose=True,\n",
        "    max_new_tokens=200,\n",
        ")\n",
        "logits, cache = model.run_with_cache(example_prompt)\n",
        "cv.logits.token_log_probs(\n",
        "    model.to_tokens(example_prompt),\n",
        "    model(example_prompt)[0].log_softmax(dim=-1),\n",
        "    model.to_string,\n",
        ")"
      ]
    },
    {
      "cell_type": "code",
      "execution_count": null,
      "id": "a09cea3e-92c7-483a-9710-a78402274cf5",
      "metadata": {
        "scrolled": true,
        "id": "a09cea3e-92c7-483a-9710-a78402274cf5",
        "outputId": "e084d3e0-cde1-4652-c31e-441e041cdda0",
        "colab": {
          "referenced_widgets": [
            "54a57f693f914fa8b143bc2b0f1f9733"
          ]
        }
      },
      "outputs": [
        {
          "name": "stdout",
          "output_type": "stream",
          "text": [
            "Run name: 16384-L1-5-LR-5e-05-Tokens-1.229e+08\n",
            "n_tokens_per_buffer (millions): 0.524288\n",
            "Lower bound: n_contexts_per_buffer (millions): 0.001024\n",
            "Total training steps: 30000\n",
            "Total wandb updates: 1000\n",
            "n_tokens_per_feature_sampling_window (millions): 2097.152\n",
            "n_tokens_per_dead_feature_window (millions): 2097.152\n",
            "We will reset the sparsity calculation 30 times.\n",
            "Number tokens in sparsity calculation window: 4.10e+06\n",
            "Loaded pretrained model tiny-stories-1L-21M into HookedTransformer\n"
          ]
        },
        {
          "data": {
            "application/vnd.jupyter.widget-view+json": {
              "model_id": "54a57f693f914fa8b143bc2b0f1f9733",
              "version_major": 2,
              "version_minor": 0
            },
            "text/plain": [
              "Downloading readme:   0%|          | 0.00/415 [00:00<?, ?B/s]"
            ]
          },
          "metadata": {},
          "output_type": "display_data"
        },
        {
          "name": "stderr",
          "output_type": "stream",
          "text": [
            "Training SAE:   0%|                                                                                          | 0/122880000 [00:00<?, ?it/s]\n",
            "Estimating norm scaling factor:   0%|                                                                             | 0/1000 [00:00<?, ?it/s]\u001b[A\n",
            "Estimating norm scaling factor:   0%|                                                                   | 1/1000 [00:14<3:53:59, 14.05s/it]\u001b[A\n",
            "Estimating norm scaling factor:   0%|▎                                                                    | 4/1000 [00:14<45:54,  2.77s/it]\u001b[A\n",
            "Estimating norm scaling factor:   1%|▋                                                                   | 11/1000 [00:14<12:29,  1.32it/s]\u001b[A\n",
            "Estimating norm scaling factor:   2%|█▏                                                                  | 18/1000 [00:14<06:11,  2.64it/s]\u001b[A\n",
            "Estimating norm scaling factor:   3%|█▊                                                                  | 26/1000 [00:14<03:27,  4.70it/s]\u001b[A\n",
            "Estimating norm scaling factor:   3%|██▎                                                                 | 34/1000 [00:14<02:09,  7.45it/s]\u001b[A\n",
            "Estimating norm scaling factor:   4%|██▊                                                                 | 42/1000 [00:14<01:27, 11.00it/s]\u001b[A\n",
            "Estimating norm scaling factor:   5%|███▍                                                                | 50/1000 [00:15<01:01, 15.48it/s]\u001b[A\n",
            "Estimating norm scaling factor:   6%|███▉                                                                | 58/1000 [00:15<00:45, 20.92it/s]\u001b[A\n",
            "Estimating norm scaling factor:   7%|████▍                                                               | 66/1000 [00:22<04:57,  3.14it/s]\u001b[A\n",
            "Estimating norm scaling factor:   7%|████▉                                                               | 73/1000 [00:22<03:35,  4.30it/s]\u001b[A\n",
            "Estimating norm scaling factor:   8%|█████▎                                                              | 79/1000 [00:22<02:43,  5.65it/s]\u001b[A\n",
            "Estimating norm scaling factor:   8%|█████▊                                                              | 85/1000 [00:22<02:03,  7.42it/s]\u001b[A\n",
            "Estimating norm scaling factor:   9%|██████▏                                                             | 91/1000 [00:22<01:33,  9.69it/s]\u001b[A\n",
            "Estimating norm scaling factor:  10%|██████▋                                                             | 98/1000 [00:22<01:07, 13.27it/s]\u001b[A\n",
            "Estimating norm scaling factor:  11%|███████                                                            | 106/1000 [00:23<00:48, 18.50it/s]\u001b[A\n",
            "Estimating norm scaling factor:  11%|███████▋                                                           | 114/1000 [00:23<00:35, 24.66it/s]\u001b[A\n",
            "Estimating norm scaling factor:  12%|████████                                                           | 121/1000 [00:23<00:36, 24.06it/s]\u001b[A\n",
            "Estimating norm scaling factor:  13%|████████▋                                                          | 129/1000 [00:30<04:31,  3.20it/s]\u001b[A\n",
            "Estimating norm scaling factor:  14%|█████████▏                                                         | 137/1000 [00:30<03:08,  4.59it/s]\u001b[A\n",
            "Estimating norm scaling factor:  14%|█████████▋                                                         | 145/1000 [00:30<02:11,  6.48it/s]\u001b[A\n",
            "Estimating norm scaling factor:  15%|██████████▎                                                        | 153/1000 [00:30<01:33,  9.02it/s]\u001b[A\n",
            "Estimating norm scaling factor:  16%|██████████▊                                                        | 161/1000 [00:30<01:07, 12.35it/s]\u001b[A\n",
            "Estimating norm scaling factor:  17%|███████████▎                                                       | 168/1000 [00:31<00:52, 15.89it/s]\u001b[A\n",
            "Estimating norm scaling factor:  18%|███████████▋                                                       | 175/1000 [00:31<00:40, 20.12it/s]\u001b[A\n",
            "Estimating norm scaling factor:  18%|████████████▏                                                      | 182/1000 [00:31<00:32, 24.87it/s]\u001b[A\n",
            "Estimating norm scaling factor:  19%|████████████▋                                                      | 189/1000 [00:31<00:26, 30.35it/s]\u001b[A\n",
            "Estimating norm scaling factor:  20%|█████████████▏                                                     | 196/1000 [00:38<04:14,  3.16it/s]\u001b[A\n",
            "Estimating norm scaling factor:  20%|█████████████▌                                                     | 203/1000 [00:38<03:01,  4.40it/s]\u001b[A\n",
            "Estimating norm scaling factor:  21%|██████████████                                                     | 210/1000 [00:38<02:10,  6.07it/s]\u001b[A\n",
            "Estimating norm scaling factor:  22%|██████████████▌                                                    | 217/1000 [00:38<01:34,  8.32it/s]\u001b[A\n",
            "Estimating norm scaling factor:  22%|██████████████▉                                                    | 223/1000 [00:38<01:12, 10.79it/s]\u001b[A\n",
            "Estimating norm scaling factor:  23%|███████████████▍                                                   | 230/1000 [00:38<00:53, 14.51it/s]\u001b[A\n",
            "Estimating norm scaling factor:  24%|███████████████▉                                                   | 237/1000 [00:39<00:51, 14.83it/s]\u001b[A\n",
            "Estimating norm scaling factor:  24%|████████████████▎                                                  | 244/1000 [00:39<00:38, 19.43it/s]\u001b[A\n",
            "Estimating norm scaling factor:  25%|████████████████▊                                                  | 251/1000 [00:39<00:30, 24.76it/s]\u001b[A\n",
            "Estimating norm scaling factor:  26%|█████████████████▏                                                 | 257/1000 [00:46<04:21,  2.84it/s]\u001b[A\n",
            "Estimating norm scaling factor:  26%|█████████████████▊                                                 | 265/1000 [00:46<02:53,  4.23it/s]\u001b[A\n",
            "Estimating norm scaling factor:  27%|██████████████████▎                                                | 273/1000 [00:46<01:58,  6.12it/s]\u001b[A\n",
            "Estimating norm scaling factor:  28%|██████████████████▊                                                | 280/1000 [00:47<01:26,  8.32it/s]\u001b[A\n",
            "Estimating norm scaling factor:  29%|███████████████████▎                                               | 288/1000 [00:47<01:01, 11.67it/s]\u001b[A\n",
            "Estimating norm scaling factor:  30%|███████████████████▊                                               | 296/1000 [00:47<00:44, 15.93it/s]\u001b[A\n",
            "Estimating norm scaling factor:  30%|████████████████████▎                                              | 304/1000 [00:47<00:32, 21.19it/s]\u001b[A\n",
            "Estimating norm scaling factor:  31%|████████████████████▉                                              | 312/1000 [00:47<00:25, 27.33it/s]\u001b[A\n",
            "Estimating norm scaling factor:  32%|█████████████████████▍                                             | 320/1000 [00:47<00:19, 34.17it/s]\u001b[A\n",
            "Estimating norm scaling factor:  33%|█████████████████████▉                                             | 328/1000 [00:54<03:18,  3.39it/s]\u001b[A\n",
            "Estimating norm scaling factor:  34%|██████████████████████▍                                            | 335/1000 [00:54<02:24,  4.59it/s]\u001b[A\n",
            "Estimating norm scaling factor:  34%|██████████████████████▉                                            | 342/1000 [00:55<01:45,  6.22it/s]\u001b[A\n",
            "Estimating norm scaling factor:  35%|███████████████████████▍                                           | 350/1000 [00:55<01:14,  8.74it/s]\u001b[A\n",
            "Estimating norm scaling factor:  36%|███████████████████████▉                                           | 357/1000 [00:55<01:02, 10.31it/s]\u001b[A\n",
            "Estimating norm scaling factor:  36%|████████████████████████▍                                          | 365/1000 [00:55<00:44, 14.13it/s]\u001b[A\n",
            "Estimating norm scaling factor:  37%|████████████████████████▉                                          | 372/1000 [00:55<00:34, 18.24it/s]\u001b[A\n",
            "Estimating norm scaling factor:  38%|█████████████████████████▍                                         | 380/1000 [00:55<00:25, 23.99it/s]\u001b[A\n",
            "Estimating norm scaling factor:  39%|█████████████████████████▉                                         | 387/1000 [01:02<03:11,  3.21it/s]\u001b[A\n",
            "Estimating norm scaling factor:  39%|██████████████████████████▍                                        | 394/1000 [01:02<02:17,  4.42it/s]\u001b[A\n",
            "Estimating norm scaling factor:  40%|██████████████████████████▊                                        | 401/1000 [01:02<01:38,  6.05it/s]\u001b[A\n",
            "Estimating norm scaling factor:  41%|███████████████████████████▎                                       | 407/1000 [01:03<01:14,  7.92it/s]\u001b[A\n",
            "Estimating norm scaling factor:  41%|███████████████████████████▋                                       | 414/1000 [01:03<00:54, 10.79it/s]\u001b[A\n",
            "Estimating norm scaling factor:  42%|████████████████████████████▏                                      | 420/1000 [01:03<00:41, 13.82it/s]\u001b[A\n",
            "Estimating norm scaling factor:  43%|████████████████████████████▌                                      | 426/1000 [01:03<00:32, 17.48it/s]\u001b[A\n",
            "Estimating norm scaling factor:  43%|████████████████████████████▉                                      | 432/1000 [01:03<00:26, 21.19it/s]\u001b[A\n",
            "Estimating norm scaling factor:  44%|█████████████████████████████▎                                     | 438/1000 [01:03<00:21, 25.81it/s]\u001b[A\n",
            "Estimating norm scaling factor:  44%|█████████████████████████████▋                                     | 444/1000 [01:03<00:18, 30.74it/s]\u001b[A\n",
            "Estimating norm scaling factor:  45%|██████████████████████████████▏                                    | 450/1000 [01:11<03:29,  2.62it/s]\u001b[A\n",
            "Estimating norm scaling factor:  46%|██████████████████████████████▋                                    | 458/1000 [01:11<02:14,  4.02it/s]\u001b[A\n",
            "Estimating norm scaling factor:  47%|███████████████████████████████▏                                   | 466/1000 [01:11<01:30,  5.93it/s]\u001b[A\n",
            "Estimating norm scaling factor:  47%|███████████████████████████████▊                                   | 474/1000 [01:11<01:01,  8.50it/s]\u001b[A\n",
            "Estimating norm scaling factor:  48%|████████████████████████████████▏                                  | 481/1000 [01:11<00:49, 10.39it/s]\u001b[A\n",
            "Estimating norm scaling factor:  49%|████████████████████████████████▊                                  | 489/1000 [01:11<00:35, 14.40it/s]\u001b[A\n",
            "Estimating norm scaling factor:  50%|█████████████████████████████████▎                                 | 497/1000 [01:11<00:25, 19.39it/s]\u001b[A\n",
            "Estimating norm scaling factor:  50%|█████████████████████████████████▊                                 | 505/1000 [01:11<00:19, 25.33it/s]\u001b[A\n",
            "Estimating norm scaling factor:  51%|██████████████████████████████████▎                                | 513/1000 [01:19<02:29,  3.26it/s]\u001b[A\n",
            "Estimating norm scaling factor:  52%|██████████████████████████████████▉                                | 521/1000 [01:19<01:44,  4.60it/s]\u001b[A\n",
            "Estimating norm scaling factor:  53%|███████████████████████████████████▍                               | 529/1000 [01:19<01:13,  6.44it/s]\u001b[A\n",
            "Estimating norm scaling factor:  54%|███████████████████████████████████▉                               | 536/1000 [01:19<00:54,  8.57it/s]\u001b[A\n",
            "Estimating norm scaling factor:  54%|████████████████████████████████████▍                              | 543/1000 [01:19<00:40, 11.38it/s]\u001b[A\n",
            "Estimating norm scaling factor:  55%|████████████████████████████████████▉                              | 551/1000 [01:19<00:28, 15.56it/s]\u001b[A\n",
            "Estimating norm scaling factor:  56%|█████████████████████████████████████▍                             | 559/1000 [01:19<00:21, 20.64it/s]\u001b[A\n",
            "Estimating norm scaling factor:  57%|█████████████████████████████████████▉                             | 567/1000 [01:19<00:16, 26.52it/s]\u001b[A\n",
            "Estimating norm scaling factor:  57%|██████████████████████████████████████▌                            | 575/1000 [01:20<00:12, 33.16it/s]\u001b[A\n",
            "Estimating norm scaling factor:  58%|███████████████████████████████████████                            | 583/1000 [01:27<02:02,  3.41it/s]\u001b[A\n",
            "Estimating norm scaling factor:  59%|███████████████████████████████████████▍                           | 589/1000 [01:27<01:32,  4.44it/s]\u001b[A\n",
            "Estimating norm scaling factor:  60%|███████████████████████████████████████▊                           | 595/1000 [01:27<01:14,  5.43it/s]\u001b[A\n",
            "Estimating norm scaling factor:  60%|████████████████████████████████████████▎                          | 602/1000 [01:27<00:52,  7.51it/s]\u001b[A\n",
            "Estimating norm scaling factor:  61%|████████████████████████████████████████▊                          | 610/1000 [01:27<00:36, 10.66it/s]\u001b[A\n",
            "Estimating norm scaling factor:  62%|█████████████████████████████████████████▍                         | 618/1000 [01:28<00:26, 14.66it/s]\u001b[A\n",
            "Estimating norm scaling factor:  63%|█████████████████████████████████████████▉                         | 626/1000 [01:28<00:19, 19.58it/s]\u001b[A\n",
            "Estimating norm scaling factor:  63%|██████████████████████████████████████████▍                        | 634/1000 [01:28<00:14, 25.53it/s]\u001b[A\n",
            "Estimating norm scaling factor:  64%|██████████████████████████████████████████▉                        | 641/1000 [01:35<01:52,  3.20it/s]\u001b[A\n",
            "Estimating norm scaling factor:  65%|███████████████████████████████████████████▍                       | 649/1000 [01:35<01:16,  4.57it/s]\u001b[A\n",
            "Estimating norm scaling factor:  66%|████████████████████████████████████████████                       | 657/1000 [01:35<00:53,  6.45it/s]\u001b[A\n",
            "Estimating norm scaling factor:  66%|████████████████████████████████████████████▌                      | 665/1000 [01:35<00:37,  8.97it/s]\u001b[A\n",
            "Estimating norm scaling factor:  67%|█████████████████████████████████████████████                      | 673/1000 [01:35<00:26, 12.29it/s]\u001b[A\n",
            "Estimating norm scaling factor:  68%|█████████████████████████████████████████████▋                     | 681/1000 [01:35<00:19, 16.53it/s]\u001b[A\n",
            "Estimating norm scaling factor:  69%|██████████████████████████████████████████████▏                    | 689/1000 [01:36<00:14, 21.73it/s]\u001b[A\n",
            "Estimating norm scaling factor:  70%|██████████████████████████████████████████████▋                    | 697/1000 [01:36<00:10, 27.82it/s]\u001b[A\n",
            "Estimating norm scaling factor:  70%|███████████████████████████████████████████████▏                   | 705/1000 [01:43<01:28,  3.34it/s]\u001b[A\n",
            "Estimating norm scaling factor:  71%|███████████████████████████████████████████████▋                   | 712/1000 [01:43<01:03,  4.51it/s]\u001b[A\n",
            "Estimating norm scaling factor:  72%|████████████████████████████████████████████████                   | 718/1000 [01:44<00:52,  5.34it/s]\u001b[A\n",
            "Estimating norm scaling factor:  73%|████████████████████████████████████████████████▋                  | 726/1000 [01:44<00:35,  7.62it/s]\u001b[A\n",
            "Estimating norm scaling factor:  73%|█████████████████████████████████████████████████                  | 732/1000 [01:44<00:27,  9.79it/s]\u001b[A\n",
            "Estimating norm scaling factor:  74%|█████████████████████████████████████████████████▌                 | 740/1000 [01:44<00:18, 13.71it/s]\u001b[A\n",
            "Estimating norm scaling factor:  75%|██████████████████████████████████████████████████                 | 748/1000 [01:44<00:13, 18.58it/s]\u001b[A\n",
            "Estimating norm scaling factor:  76%|██████████████████████████████████████████████████▋                | 756/1000 [01:44<00:09, 24.44it/s]\u001b[A\n",
            "Estimating norm scaling factor:  76%|███████████████████████████████████████████████████                | 763/1000 [01:44<00:08, 29.29it/s]\u001b[A\n",
            "Estimating norm scaling factor:  77%|███████████████████████████████████████████████████▌               | 770/1000 [01:52<01:21,  2.82it/s]\u001b[A\n",
            "Estimating norm scaling factor:  78%|████████████████████████████████████████████████████               | 777/1000 [01:52<00:57,  3.91it/s]\u001b[A\n",
            "Estimating norm scaling factor:  78%|████████████████████████████████████████████████████▌              | 784/1000 [01:52<00:39,  5.40it/s]\u001b[A\n",
            "Estimating norm scaling factor:  79%|█████████████████████████████████████████████████████              | 792/1000 [01:53<00:26,  7.71it/s]\u001b[A\n",
            "Estimating norm scaling factor:  80%|█████████████████████████████████████████████████████▌             | 799/1000 [01:53<00:19, 10.35it/s]\u001b[A\n",
            "Estimating norm scaling factor:  81%|██████████████████████████████████████████████████████             | 806/1000 [01:53<00:14, 13.75it/s]\u001b[A\n",
            "Estimating norm scaling factor:  81%|██████████████████████████████████████████████████████▌            | 814/1000 [01:53<00:09, 18.65it/s]\u001b[A\n",
            "Estimating norm scaling factor:  82%|███████████████████████████████████████████████████████            | 822/1000 [01:53<00:07, 24.33it/s]\u001b[A\n",
            "Estimating norm scaling factor:  83%|███████████████████████████████████████████████████████▌           | 830/1000 [01:53<00:05, 30.60it/s]\u001b[A\n",
            "Estimating norm scaling factor:  84%|████████████████████████████████████████████████████████           | 837/1000 [02:01<00:52,  3.08it/s]\u001b[A\n",
            "Estimating norm scaling factor:  84%|████████████████████████████████████████████████████████▌          | 844/1000 [02:01<00:36,  4.23it/s]\u001b[A\n",
            "Estimating norm scaling factor:  85%|████████████████████████████████████████████████████████▉          | 850/1000 [02:01<00:26,  5.57it/s]\u001b[A\n",
            "Estimating norm scaling factor:  86%|█████████████████████████████████████████████████████████▎         | 856/1000 [02:01<00:19,  7.37it/s]\u001b[A\n",
            "Estimating norm scaling factor:  86%|█████████████████████████████████████████████████████████▊         | 862/1000 [02:01<00:14,  9.73it/s]\u001b[A\n",
            "Estimating norm scaling factor:  87%|██████████████████████████████████████████████████████████▏        | 869/1000 [02:01<00:09, 13.36it/s]\u001b[A\n",
            "Estimating norm scaling factor:  88%|██████████████████████████████████████████████████████████▊        | 877/1000 [02:01<00:06, 18.62it/s]\u001b[A\n",
            "Estimating norm scaling factor:  88%|███████████████████████████████████████████████████████████▎       | 885/1000 [02:01<00:04, 24.76it/s]\u001b[A\n",
            "Estimating norm scaling factor:  89%|███████████████████████████████████████████████████████████▊       | 893/1000 [02:01<00:03, 31.68it/s]\u001b[A\n",
            "Estimating norm scaling factor:  90%|████████████████████████████████████████████████████████████▎      | 901/1000 [02:09<00:30,  3.28it/s]\u001b[A\n",
            "Estimating norm scaling factor:  91%|████████████████████████████████████████████████████████████▊      | 907/1000 [02:09<00:21,  4.29it/s]\u001b[A\n",
            "Estimating norm scaling factor:  91%|█████████████████████████████████████████████████████████████▏     | 913/1000 [02:09<00:15,  5.66it/s]\u001b[A\n",
            "Estimating norm scaling factor:  92%|█████████████████████████████████████████████████████████████▌     | 919/1000 [02:09<00:10,  7.51it/s]\u001b[A\n",
            "Estimating norm scaling factor:  92%|█████████████████████████████████████████████████████████████▉     | 925/1000 [02:09<00:07,  9.94it/s]\u001b[A\n",
            "Estimating norm scaling factor:  93%|██████████████████████████████████████████████████████████████▍    | 932/1000 [02:09<00:04, 13.60it/s]\u001b[A\n",
            "Estimating norm scaling factor:  94%|██████████████████████████████████████████████████████████████▊    | 938/1000 [02:09<00:03, 17.29it/s]\u001b[A\n",
            "Estimating norm scaling factor:  94%|███████████████████████████████████████████████████████████████▏   | 944/1000 [02:09<00:02, 21.71it/s]\u001b[A\n",
            "Estimating norm scaling factor:  95%|███████████████████████████████████████████████████████████████▋   | 950/1000 [02:10<00:01, 26.62it/s]\u001b[A\n",
            "Estimating norm scaling factor:  96%|████████████████████████████████████████████████████████████████   | 956/1000 [02:10<00:02, 17.31it/s]\u001b[A\n",
            "Estimating norm scaling factor:  96%|████████████████████████████████████████████████████████████████▍  | 961/1000 [02:17<00:16,  2.43it/s]\u001b[A\n",
            "Estimating norm scaling factor:  97%|████████████████████████████████████████████████████████████████▊  | 968/1000 [02:17<00:08,  3.62it/s]\u001b[A\n",
            "Estimating norm scaling factor:  98%|█████████████████████████████████████████████████████████████████▍ | 976/1000 [02:18<00:04,  5.50it/s]\u001b[A\n",
            "Estimating norm scaling factor:  98%|█████████████████████████████████████████████████████████████████▉ | 984/1000 [02:18<00:01,  8.02it/s]\u001b[A\n",
            "Estimating norm scaling factor:  99%|██████████████████████████████████████████████████████████████████▍| 992/1000 [02:18<00:00, 11.34it/s]\u001b[A\n",
            "Estimating norm scaling factor: 100%|██████████████████████████████████████████████████████████████████| 1000/1000 [02:18<00:00,  7.23it/s]\u001b[A\n",
            "30000| MSE Loss 202.787 | L1 161.568: 100%|█████████████████████████████████████████████| 122880000/122880000 [1:42:09<00:00, 20046.31it/s]\n"
          ]
        }
      ],
      "source": [
        "total_training_steps = 30_000\n",
        "batch_size = 4096\n",
        "total_training_tokens = total_training_steps * batch_size\n",
        "\n",
        "lr_warm_up_steps = 0\n",
        "lr_decay_steps = total_training_steps // 5  # 20% of training\n",
        "l1_warm_up_steps = total_training_steps // 20  # 5% of training\n",
        "\n",
        "cfg = LanguageModelSAERunnerConfig(\n",
        "    # Data Generating Function (Model + Training Distibuion)\n",
        "    model_name=\"tiny-stories-1L-21M\",  # our model (more options here: https://neelnanda-io.github.io/TransformerLens/generated/model_properties_table.html)\n",
        "    hook_name=\"blocks.0.hook_mlp_out\",  # A valid hook point (see more details here: https://neelnanda-io.github.io/TransformerLens/generated/demos/Main_Demo.html#Hook-Points)\n",
        "    hook_layer=0,  # Only one layer in the model.\n",
        "    d_in=1024,  # the width of the mlp output.\n",
        "    dataset_path=\"apollo-research/roneneldan-TinyStories-tokenizer-gpt2\",  # this is a tokenized language dataset on Huggingface for the Tiny Stories corpus.\n",
        "    is_dataset_tokenized=True,\n",
        "    streaming=True,  # we could pre-download the token dataset if it was small.\n",
        "    # SAE Parameters\n",
        "    mse_loss_normalization=None,  # We won't normalize the mse loss,\n",
        "    expansion_factor=16,  # the width of the SAE. Larger will result in better stats but slower training.\n",
        "    b_dec_init_method=\"zeros\",  # The geometric median can be used to initialize the decoder weights.\n",
        "    apply_b_dec_to_input=False,  # We won't apply the decoder weights to the input.\n",
        "    normalize_sae_decoder=False,\n",
        "    scale_sparsity_penalty_by_decoder_norm=True,\n",
        "    decoder_heuristic_init=True,\n",
        "    init_encoder_as_decoder_transpose=True,\n",
        "    normalize_activations=\"expected_average_only_in\",\n",
        "    # Training Parameters\n",
        "    lr=5e-5,  # lower the better, we'll go fairly high to speed up the tutorial.\n",
        "    adam_beta1=0.9,  # adam params (default, but once upon a time we experimented with these.)\n",
        "    adam_beta2=0.999,\n",
        "    lr_scheduler_name=\"constant\",  # constant learning rate with warmup. Could be better schedules out there.\n",
        "    lr_warm_up_steps=lr_warm_up_steps,  # this can help avoid too many dead features initially.\n",
        "    lr_decay_steps=lr_decay_steps,  # this will help us avoid overfitting.\n",
        "    l1_coefficient=5,  # will control how sparse the feature activations are\n",
        "    l1_warm_up_steps=l1_warm_up_steps,  # this can help avoid too many dead features initially.\n",
        "    lp_norm=1.0,  # the L1 penalty (and not a Lp for p < 1)\n",
        "    train_batch_size_tokens=batch_size,\n",
        "    context_size=512,  # will control the lenght of the prompts we feed to the model. Larger is better but slower. so for the tutorial we'll use a short one.\n",
        "    # Activation Store Parameters\n",
        "    n_batches_in_buffer=64,  # controls how many activations we store / shuffle.\n",
        "    training_tokens=total_training_tokens,  # 100 million tokens is quite a few, but we want to see good stats. Get a coffee, come back.\n",
        "    store_batch_size_prompts=16,\n",
        "    # Resampling protocol\n",
        "    use_ghost_grads=False,  # we don't use ghost grads anymore.\n",
        "    feature_sampling_window=1000,  # this controls our reporting of feature sparsity stats\n",
        "    dead_feature_window=1000,  # would effect resampling or ghost grads if we were using it.\n",
        "    dead_feature_threshold=1e-4,  # would effect resampling or ghost grads if we were using it.\n",
        "    # WANDB\n",
        "    log_to_wandb=False,  # always use wandb unless you are just testing code.\n",
        "    wandb_project=\"sae_lens_tutorial\",\n",
        "    wandb_log_frequency=30,\n",
        "    eval_every_n_wandb_logs=20,\n",
        "    # Misc\n",
        "    device=device,\n",
        "    seed=42,\n",
        "    n_checkpoints=0,\n",
        "    checkpoint_path=\"checkpoints\",\n",
        "    dtype=\"float32\"\n",
        ")\n",
        "# look at the next cell to see some instruction for what to do while this is running.\n",
        "sparse_autoencoder = SAETrainingRunner(cfg).run()"
      ]
    },
    {
      "cell_type": "code",
      "execution_count": null,
      "id": "5e1838ff-6607-4c92-8a34-30f14ab56061",
      "metadata": {
        "id": "5e1838ff-6607-4c92-8a34-30f14ab56061",
        "outputId": "15ff0733-b675-4512-d1af-344e05b35018"
      },
      "outputs": [
        {
          "data": {
            "text/plain": [
              "TrainingSAE(\n",
              "  (activation_fn): ReLU()\n",
              "  (hook_sae_input): HookPoint()\n",
              "  (hook_sae_acts_pre): HookPoint()\n",
              "  (hook_sae_acts_post): HookPoint()\n",
              "  (hook_sae_output): HookPoint()\n",
              "  (hook_sae_recons): HookPoint()\n",
              "  (hook_sae_error): HookPoint()\n",
              ")"
            ]
          },
          "execution_count": 13,
          "metadata": {},
          "output_type": "execute_result"
        }
      ],
      "source": [
        "sparse_autoencoder"
      ]
    },
    {
      "cell_type": "code",
      "execution_count": null,
      "id": "90c1ed28-4f69-412f-82e0-a6f27a47120b",
      "metadata": {
        "id": "90c1ed28-4f69-412f-82e0-a6f27a47120b"
      },
      "outputs": [],
      "source": [
        "sparse_autoencoder.save_model('final_sae')"
      ]
    },
    {
      "cell_type": "markdown",
      "id": "7023339e-918c-4594-bb93-115612f06e52",
      "metadata": {
        "jp-MarkdownHeadingCollapsed": true,
        "id": "7023339e-918c-4594-bb93-115612f06e52"
      },
      "source": [
        "## Uploading SAE to Huggingface (Won't run on Colab, Ignore)"
      ]
    },
    {
      "cell_type": "code",
      "execution_count": null,
      "id": "a33cbf33-bdaa-4f1f-a2b3-610c0173a27d",
      "metadata": {
        "id": "a33cbf33-bdaa-4f1f-a2b3-610c0173a27d"
      },
      "outputs": [],
      "source": [
        "from sae_lens import SAE, upload_saes_to_huggingface"
      ]
    },
    {
      "cell_type": "code",
      "execution_count": null,
      "id": "23896949-d769-4a40-9c06-5cb50e4b9c00",
      "metadata": {
        "id": "23896949-d769-4a40-9c06-5cb50e4b9c00",
        "colab": {
          "base_uri": "https://localhost:8080/",
          "height": 280
        },
        "outputId": "b67be516-c8a6-43b2-f6d9-cacdc28a64f0"
      },
      "outputs": [
        {
          "output_type": "error",
          "ename": "FileNotFoundError",
          "evalue": "[Errno 2] No such file or directory: 'final_sae/cfg.json'",
          "traceback": [
            "\u001b[0;31m---------------------------------------------------------------------------\u001b[0m",
            "\u001b[0;31mFileNotFoundError\u001b[0m                         Traceback (most recent call last)",
            "\u001b[0;32m<ipython-input-78-d43b6d6e3980>\u001b[0m in \u001b[0;36m<cell line: 2>\u001b[0;34m()\u001b[0m\n\u001b[1;32m      1\u001b[0m \u001b[0;31m# checking if model loads successfully from local filesystem\u001b[0m\u001b[0;34m\u001b[0m\u001b[0;34m\u001b[0m\u001b[0m\n\u001b[0;32m----> 2\u001b[0;31m \u001b[0msae_trained\u001b[0m \u001b[0;34m=\u001b[0m \u001b[0mSAE\u001b[0m\u001b[0;34m.\u001b[0m\u001b[0mload_from_pretrained\u001b[0m\u001b[0;34m(\u001b[0m\u001b[0;34m'final_sae'\u001b[0m\u001b[0;34m)\u001b[0m\u001b[0;34m\u001b[0m\u001b[0;34m\u001b[0m\u001b[0m\n\u001b[0m",
            "\u001b[0;32m/usr/local/lib/python3.10/dist-packages/sae_lens/sae.py\u001b[0m in \u001b[0;36mload_from_pretrained\u001b[0;34m(cls, path, device, dtype)\u001b[0m\n\u001b[1;32m    605\u001b[0m         \u001b[0;31m# get the config\u001b[0m\u001b[0;34m\u001b[0m\u001b[0;34m\u001b[0m\u001b[0m\n\u001b[1;32m    606\u001b[0m         \u001b[0mconfig_path\u001b[0m \u001b[0;34m=\u001b[0m \u001b[0mos\u001b[0m\u001b[0;34m.\u001b[0m\u001b[0mpath\u001b[0m\u001b[0;34m.\u001b[0m\u001b[0mjoin\u001b[0m\u001b[0;34m(\u001b[0m\u001b[0mpath\u001b[0m\u001b[0;34m,\u001b[0m \u001b[0mSAE_CFG_PATH\u001b[0m\u001b[0;34m)\u001b[0m\u001b[0;34m\u001b[0m\u001b[0;34m\u001b[0m\u001b[0m\n\u001b[0;32m--> 607\u001b[0;31m         \u001b[0;32mwith\u001b[0m \u001b[0mopen\u001b[0m\u001b[0;34m(\u001b[0m\u001b[0mconfig_path\u001b[0m\u001b[0;34m,\u001b[0m \u001b[0;34m\"r\"\u001b[0m\u001b[0;34m)\u001b[0m \u001b[0;32mas\u001b[0m \u001b[0mf\u001b[0m\u001b[0;34m:\u001b[0m\u001b[0;34m\u001b[0m\u001b[0;34m\u001b[0m\u001b[0m\n\u001b[0m\u001b[1;32m    608\u001b[0m             \u001b[0mcfg_dict\u001b[0m \u001b[0;34m=\u001b[0m \u001b[0mjson\u001b[0m\u001b[0;34m.\u001b[0m\u001b[0mload\u001b[0m\u001b[0;34m(\u001b[0m\u001b[0mf\u001b[0m\u001b[0;34m)\u001b[0m\u001b[0;34m\u001b[0m\u001b[0;34m\u001b[0m\u001b[0m\n\u001b[1;32m    609\u001b[0m         \u001b[0mcfg_dict\u001b[0m \u001b[0;34m=\u001b[0m \u001b[0mhandle_config_defaulting\u001b[0m\u001b[0;34m(\u001b[0m\u001b[0mcfg_dict\u001b[0m\u001b[0;34m)\u001b[0m\u001b[0;34m\u001b[0m\u001b[0;34m\u001b[0m\u001b[0m\n",
            "\u001b[0;31mFileNotFoundError\u001b[0m: [Errno 2] No such file or directory: 'final_sae/cfg.json'"
          ]
        }
      ],
      "source": [
        "# checking if model loads successfully from local filesystem\n",
        "sae_trained = SAE.load_from_pretrained('final_sae')"
      ]
    },
    {
      "cell_type": "code",
      "execution_count": null,
      "id": "aac68566-e00f-4fca-b6ad-aeb647d74b26",
      "metadata": {
        "id": "aac68566-e00f-4fca-b6ad-aeb647d74b26",
        "outputId": "f96d47de-48d4-4e1a-8b55-309153dc3dcc"
      },
      "outputs": [
        {
          "data": {
            "text/plain": [
              "SAE(\n",
              "  (activation_fn): ReLU()\n",
              "  (hook_sae_input): HookPoint()\n",
              "  (hook_sae_acts_pre): HookPoint()\n",
              "  (hook_sae_acts_post): HookPoint()\n",
              "  (hook_sae_output): HookPoint()\n",
              "  (hook_sae_recons): HookPoint()\n",
              "  (hook_sae_error): HookPoint()\n",
              ")"
            ]
          },
          "execution_count": 26,
          "metadata": {},
          "output_type": "execute_result"
        }
      ],
      "source": [
        "sae_trained"
      ]
    },
    {
      "cell_type": "code",
      "execution_count": null,
      "id": "18c4e3d6-abdd-4b42-9d8e-04cdf9f5a00c",
      "metadata": {
        "id": "18c4e3d6-abdd-4b42-9d8e-04cdf9f5a00c",
        "outputId": "4abee1e4-d971-4b40-8ec4-c5919e30f283",
        "colab": {
          "referenced_widgets": [
            "ed2e403e73604ca0b76eb93978f6ba84"
          ]
        }
      },
      "outputs": [
        {
          "data": {
            "application/vnd.jupyter.widget-view+json": {
              "model_id": "ed2e403e73604ca0b76eb93978f6ba84",
              "version_major": 2,
              "version_minor": 0
            },
            "text/plain": [
              "Uploading SAEs:   0%|          | 0/1 [00:00<?, ?it/s]"
            ]
          },
          "metadata": {},
          "output_type": "display_data"
        },
        {
          "name": "stderr",
          "output_type": "stream",
          "text": [
            "No files have been modified since last commit. Skipping to prevent empty commit.\n"
          ]
        },
        {
          "name": "stdout",
          "output_type": "stream",
          "text": [
            "README.md already exists in the repo, skipping upload\n"
          ]
        }
      ],
      "source": [
        "sae_dict = {\n",
        "    'blocks.0.hook_mlp_out':'final_sae'\n",
        "}\n",
        "\n",
        "upload_saes_to_huggingface(\n",
        "    sae_dict,\n",
        "    hf_repo_id=\"pratikdoshi/sparse-autoencoders-1\",\n",
        ")"
      ]
    },
    {
      "cell_type": "markdown",
      "id": "f68f0a2b-965c-4fb0-a4bd-52fec6a5a56b",
      "metadata": {
        "id": "f68f0a2b-965c-4fb0-a4bd-52fec6a5a56b"
      },
      "source": [
        "## Computing SAE Activations"
      ]
    },
    {
      "cell_type": "code",
      "execution_count": null,
      "id": "29707553-4e5e-4d2e-b7bd-58ac26ab499b",
      "metadata": {
        "id": "29707553-4e5e-4d2e-b7bd-58ac26ab499b"
      },
      "outputs": [],
      "source": [
        "from sae_lens import SAE\n",
        "\n",
        "sae_trained, cfg_dict, sparsity = SAE.from_pretrained(\"pratikdoshi/sparse-autoencoders-1\", \"blocks.0.hook_mlp_out\")"
      ]
    },
    {
      "cell_type": "code",
      "execution_count": null,
      "id": "275d5855-d83f-41dc-a2f6-f4de8ba08f6c",
      "metadata": {
        "id": "275d5855-d83f-41dc-a2f6-f4de8ba08f6c"
      },
      "outputs": [],
      "source": [
        "with torch.no_grad():\n",
        "    sae_activations = sae_trained.encode(activations)"
      ]
    },
    {
      "cell_type": "code",
      "execution_count": null,
      "id": "6e0cb876-ff4d-477f-ab03-a7ff61d6c4fb",
      "metadata": {
        "id": "6e0cb876-ff4d-477f-ab03-a7ff61d6c4fb",
        "outputId": "209fdff2-2697-4718-d77f-9f5897e0bd4c",
        "colab": {
          "base_uri": "https://localhost:8080/"
        }
      },
      "outputs": [
        {
          "output_type": "stream",
          "name": "stdout",
          "text": [
            "Original MLP Activations: torch.Size([312, 1024])\n",
            "SAE Activations: torch.Size([312, 16384])\n"
          ]
        }
      ],
      "source": [
        "print('Original MLP Activations:',activations.shape) #312 samples * 1024 embedding dimension\n",
        "print('SAE Activations:',sae_activations.shape) #312 samples * 16384 embedding dimension"
      ]
    },
    {
      "cell_type": "markdown",
      "id": "bcc989a4-9156-4784-a46f-584b57cfb057",
      "metadata": {
        "id": "bcc989a4-9156-4784-a46f-584b57cfb057"
      },
      "source": [
        "## Using Linear Classifier to Probe Gender"
      ]
    },
    {
      "cell_type": "code",
      "execution_count": null,
      "id": "5d67f866-fd1e-45f5-94a0-bc56deec7f15",
      "metadata": {
        "id": "5d67f866-fd1e-45f5-94a0-bc56deec7f15"
      },
      "outputs": [],
      "source": [
        "import warnings\n",
        "\n",
        "# Suppress ConvergenceWarning\n",
        "warnings.filterwarnings(\"ignore\", category=UserWarning)\n",
        "warnings.filterwarnings(\"ignore\", category=FutureWarning)\n",
        "warnings.filterwarnings(\"ignore\", category=RuntimeWarning)"
      ]
    },
    {
      "cell_type": "code",
      "execution_count": null,
      "id": "5a5b1ff7-d16e-45fd-86c9-7d14f0796bf4",
      "metadata": {
        "id": "5a5b1ff7-d16e-45fd-86c9-7d14f0796bf4"
      },
      "outputs": [],
      "source": [
        "from sklearn.svm import LinearSVC\n",
        "from sklearn.metrics import accuracy_score\n",
        "\n",
        "def train_linear_classifier(X_train, y_train, X_test, y_test, print_result=True):\n",
        "    # Initialize the linear classifier\n",
        "    linear_clf = LinearSVC()\n",
        "\n",
        "    # Train the classifier\n",
        "    linear_clf.fit(X_train, y_train)\n",
        "\n",
        "    # Make predictions\n",
        "    y_pred_train = linear_clf.predict(X_train)\n",
        "    y_pred_test = linear_clf.predict(X_test)\n",
        "\n",
        "    # Evaluate accuracy\n",
        "    train_accuracy = accuracy_score(y_train, y_pred_train)\n",
        "    test_accuracy = accuracy_score(y_test, y_pred_test)\n",
        "\n",
        "    if print_result:\n",
        "        print(f\"Train Accuracy: {train_accuracy:.4f}\")\n",
        "        print(f\"Test Accuracy: {test_accuracy:.4f}\")\n",
        "\n",
        "    return linear_clf, train_accuracy, test_accuracy\n"
      ]
    },
    {
      "cell_type": "code",
      "execution_count": null,
      "id": "ce238623-b6b5-4365-94cd-2b8e79fcf91f",
      "metadata": {
        "id": "ce238623-b6b5-4365-94cd-2b8e79fcf91f"
      },
      "outputs": [],
      "source": [
        "# Configurable Parameter\n",
        "test_split = 0.25\n",
        "torch.manual_seed(1024)\n",
        "\n",
        "# generate the indices for training and testing samples\n",
        "test_split = int(activations.shape[0] * test_split)\n",
        "shuffled_indices = torch.randperm(activations.shape[0])\n",
        "\n",
        "# creating a second pair of shuffled indices for a control group to check if the probe memorized the labels\n",
        "# This paper discussed the rationale for the same: https://arxiv.org/abs/1909.03368\n",
        "shuffled_indices_control = torch.randperm(activations.shape[0])\n",
        "\n",
        "\n",
        "test_indices = shuffled_indices[:test_split]\n",
        "train_indices = shuffled_indices[test_split:]\n",
        "test_indices_control = shuffled_indices_control[:test_split]\n",
        "train_indices_control = shuffled_indices_control[test_split:]\n",
        "\n",
        "# encode the target variable\n",
        "encoded_gender = pd.get_dummies(gendered_data['Gender'])['Male'].astype(float)\n",
        "\n",
        "#split the datasets\n",
        "train_activations = activations[train_indices,:]\n",
        "train_sae_activations = sae_activations[train_indices,:]\n",
        "train_gender = encoded_gender.iloc[train_indices]\n",
        "train_gender_control = encoded_gender.iloc[train_indices_control]\n",
        "\n",
        "test_activations = activations[test_indices,:]\n",
        "test_sae_activations = sae_activations[test_indices,:]\n",
        "test_gender = encoded_gender.iloc[test_indices]\n",
        "test_gender_control = encoded_gender.iloc[test_indices_control]"
      ]
    },
    {
      "cell_type": "code",
      "execution_count": null,
      "id": "57cb9909-6b26-43c0-9858-7dde58533ea9",
      "metadata": {
        "id": "57cb9909-6b26-43c0-9858-7dde58533ea9",
        "outputId": "53802e4b-58c0-4797-c7d9-9783ba5dae67",
        "colab": {
          "base_uri": "https://localhost:8080/"
        }
      },
      "outputs": [
        {
          "output_type": "stream",
          "name": "stdout",
          "text": [
            "Control Task: Probe Performance on Raw Activations\n",
            "Train Accuracy: 1.0000\n",
            "Test Accuracy: 0.4487\n",
            "_______________\n",
            "Control Task: Probe Performance on SAE Activations\n",
            "Train Accuracy: 0.9060\n",
            "Test Accuracy: 0.4615\n",
            "_______________\n",
            "Linguisitic Task: Probe Performance on Raw Activations\n",
            "Train Accuracy: 1.0000\n",
            "Test Accuracy: 0.7051\n",
            "_______________\n",
            "Linguisitic Task: Probe Performance on SAE Activations\n",
            "Train Accuracy: 0.9402\n",
            "Test Accuracy: 0.4744\n",
            "_______________\n",
            "Selectivity of Raw Activitations: 0.25641025641025644\n",
            "Selectivity of SAE Activitations: 0.012820512820512775\n"
          ]
        }
      ],
      "source": [
        "print('Control Task: Probe Performance on Raw Activations')\n",
        "# control, activations\n",
        "linear_probe_activations_control, train_acc_activations_control, test_acc_activations_control  = train_linear_classifier(train_activations, train_gender_control, test_activations, test_gender_control)\n",
        "\n",
        "print('_'*15)\n",
        "#control, sae\n",
        "print('Control Task: Probe Performance on SAE Activations')\n",
        "linear_probe_sae_control, train_acc_sae_control, test_acc_sae_control = train_linear_classifier(train_sae_activations, train_gender_control, test_sae_activations, test_gender_control)\n",
        "\n",
        "print('_'*15)\n",
        "\n",
        "print('Linguisitic Task: Probe Performance on Raw Activations')\n",
        "linear_probe_activations, train_acc_activations, test_acc_activations = train_linear_classifier(train_activations, train_gender, test_activations, test_gender)\n",
        "\n",
        "print('_'*15)\n",
        "\n",
        "print('Linguisitic Task: Probe Performance on SAE Activations')\n",
        "linear_probe_sae, train_acc_sae, test_acc_sae = train_linear_classifier(train_sae_activations, train_gender, test_sae_activations, test_gender)\n",
        "\n",
        "print('_'*15)\n",
        "\n",
        "print('Selectivity of Raw Activitations:',test_acc_activations - test_acc_activations_control)\n",
        "print('Selectivity of SAE Activitations:',test_acc_sae - test_acc_sae_control)"
      ]
    },
    {
      "cell_type": "code",
      "execution_count": null,
      "id": "d8967f5e-7d80-423a-a65d-712af8e16349",
      "metadata": {
        "id": "d8967f5e-7d80-423a-a65d-712af8e16349"
      },
      "outputs": [],
      "source": [
        "# Analysing the selectivity variance\n",
        "from tqdm import tqdm\n",
        "\n",
        "def selectivity_variance(iterations = 5):\n",
        "    selectivity_sae = []\n",
        "    selectivity_activations = []\n",
        "\n",
        "    linear_probe_activations, train_acc_activations, test_acc_activations = train_linear_classifier(train_activations, train_gender, test_activations, test_gender, print_result=False)\n",
        "    linear_probe_sae, train_acc_sae, test_acc_sae = train_linear_classifier(train_sae_activations, train_gender, test_sae_activations, test_gender, print_result=False)\n",
        "    for i in tqdm(range(iterations)):\n",
        "        torch.manual_seed(1024 + i)\n",
        "\n",
        "        shuffled_indices_control = torch.randperm(activations.shape[0])\n",
        "        test_indices_control = shuffled_indices_control[:test_split]\n",
        "        train_indices_control = shuffled_indices_control[test_split:]\n",
        "        test_gender_control = encoded_gender.iloc[test_indices_control]\n",
        "        train_gender_control = encoded_gender.iloc[train_indices_control]\n",
        "\n",
        "        linear_probe_activations_control, train_acc_activations_control, test_acc_activations_control  = train_linear_classifier(train_activations, train_gender_control, test_activations, test_gender_control, print_result=False)\n",
        "\n",
        "        linear_probe_sae_control, train_acc_sae_control, test_acc_sae_control = train_linear_classifier(train_sae_activations, train_gender_control, test_sae_activations, test_gender_control, print_result=False)\n",
        "\n",
        "        selectivity_activations.append(test_acc_activations - test_acc_activations_control)\n",
        "        selectivity_sae.append(test_acc_sae - test_acc_sae_control)\n",
        "    return selectivity_activations, selectivity_sae"
      ]
    },
    {
      "cell_type": "code",
      "execution_count": null,
      "id": "8fb5e051-e8f5-4c34-bdaf-f7fbfa0d523f",
      "metadata": {
        "scrolled": true,
        "id": "8fb5e051-e8f5-4c34-bdaf-f7fbfa0d523f",
        "colab": {
          "base_uri": "https://localhost:8080/"
        },
        "collapsed": true,
        "outputId": "66922011-88ed-427e-b390-1a1ca90b8b4b"
      },
      "outputs": [
        {
          "output_type": "stream",
          "name": "stderr",
          "text": [
            "100%|██████████| 100/100 [01:27<00:00,  1.15it/s]\n"
          ]
        }
      ],
      "source": [
        "selectivity_activations, selectivity_sae = selectivity_variance(iterations = 100)"
      ]
    },
    {
      "cell_type": "code",
      "execution_count": null,
      "id": "3c9772d8-dd2c-478e-9fc6-b6ce28b2c6e7",
      "metadata": {
        "id": "3c9772d8-dd2c-478e-9fc6-b6ce28b2c6e7",
        "outputId": "e2bed43b-4255-486c-a6d7-79f232bc4591",
        "colab": {
          "base_uri": "https://localhost:8080/",
          "height": 489
        }
      },
      "outputs": [
        {
          "output_type": "execute_result",
          "data": {
            "text/plain": [
              "<matplotlib.legend.Legend at 0x77fb2320abc0>"
            ]
          },
          "metadata": {},
          "execution_count": 88
        },
        {
          "output_type": "display_data",
          "data": {
            "text/plain": [
              "<Figure size 640x480 with 1 Axes>"
            ],
            "image/png": "[encoded data removed]"
          },
          "metadata": {}
        }
      ],
      "source": [
        "plt.title('SAE vs MLP: Selectivity Comparison')\n",
        "plt.hist(selectivity_activations,label='Selectivity of MLP Activations',alpha = 0.5, lw=3, color= 'b')\n",
        "plt.hist(selectivity_sae,label='Selectivity of SAE Activations',alpha = 0.5, lw=3, color= 'r')\n",
        "plt.xlabel('Selectivity Score')\n",
        "plt.ylabel('Frequency')\n",
        "plt.legend()"
      ]
    },
    {
      "cell_type": "markdown",
      "id": "afac7e41-bccd-489a-9705-dcb21f636b3a",
      "metadata": {
        "id": "afac7e41-bccd-489a-9705-dcb21f636b3a"
      },
      "source": [
        "## Using Logistic Regression to Assess Statistical Significance in Predicting Gender Label: Logistic Regression Failed to Converge"
      ]
    },
    {
      "cell_type": "code",
      "execution_count": null,
      "id": "0bdbdf5f-0429-4c32-bf9d-aa332c4c816a",
      "metadata": {
        "id": "0bdbdf5f-0429-4c32-bf9d-aa332c4c816a"
      },
      "outputs": [],
      "source": [
        "import statsmodels.api as sm\n",
        "from sklearn.metrics import roc_auc_score\n",
        "\n",
        "def train_logistic_regression_sm(X_train, y_train, X_test=None, y_test=None):\n",
        "    # Add a constant (bias) term to the training set\n",
        "    X_train = sm.add_constant(X_train)\n",
        "\n",
        "    # Fit the logistic regression model\n",
        "    model = sm.Logit(y_train, X_train)\n",
        "    result = model.fit()\n",
        "\n",
        "    # Print the summary\n",
        "    print(result.summary())\n",
        "\n",
        "    # Compute training predictions: predicted probabilities\n",
        "    y_train_pred_prob = result.predict(X_train)\n",
        "\n",
        "    # Calculate training AUC\n",
        "    train_auc = roc_auc_score(y_train, y_train_pred_prob)\n",
        "    print(f\"\\nTraining AUC: {train_auc:.4f}\")\n",
        "    test_auc = None\n",
        "    # If test data is provided, calculate test AUC as well\n",
        "    if X_test is not None and y_test is not None:\n",
        "        # Add a constant (bias) term to the test set\n",
        "        X_test = sm.add_constant(X_test)\n",
        "\n",
        "        # Compute test predictions: predicted probabilities\n",
        "        y_test_pred_prob = result.predict(X_test)\n",
        "\n",
        "        # Calculate test AUC\n",
        "        test_auc = roc_auc_score(y_test, y_test_pred_prob)\n",
        "        print(f\"Testing AUC: {test_auc:.4f}\")\n",
        "\n",
        "    # Print coefficients, standard errors, t-stats, and p-values\n",
        "    #print(\"\\nCoefficients:\\n\", result.params)\n",
        "    #print(\"\\nStandard Errors:\\n\", result.bse)\n",
        "    #print(\"\\nT-Statistics:\\n\", result.tvalues)\n",
        "    #print(\"\\nP-Values:\\n\", result.pvalues)\n",
        "\n",
        "    return result, train_auc, test_auc"
      ]
    },
    {
      "cell_type": "code",
      "execution_count": null,
      "id": "9a59205c-1c13-4d05-9fa6-ad10b9cf2149",
      "metadata": {
        "scrolled": true,
        "collapsed": true,
        "id": "9a59205c-1c13-4d05-9fa6-ad10b9cf2149",
        "outputId": "5a9dc0c3-60f6-4b57-9055-94d066e4b40b",
        "colab": {
          "base_uri": "https://localhost:8080/",
          "height": 426
        }
      },
      "outputs": [
        {
          "output_type": "stream",
          "name": "stdout",
          "text": [
            "Control Task: Logistic Regression on Raw Activations\n",
            "Warning: Maximum number of iterations has been exceeded.\n",
            "         Current function value: inf\n",
            "         Iterations: 35\n"
          ]
        },
        {
          "output_type": "error",
          "ename": "LinAlgError",
          "evalue": "Singular matrix",
          "traceback": [
            "\u001b[0;31m---------------------------------------------------------------------------\u001b[0m",
            "\u001b[0;31mLinAlgError\u001b[0m                               Traceback (most recent call last)",
            "\u001b[0;32m<ipython-input-90-23e05af33c2d>\u001b[0m in \u001b[0;36m<cell line: 3>\u001b[0;34m()\u001b[0m\n\u001b[1;32m      1\u001b[0m \u001b[0mprint\u001b[0m\u001b[0;34m(\u001b[0m\u001b[0;34m'Control Task: Logistic Regression on Raw Activations'\u001b[0m\u001b[0;34m)\u001b[0m\u001b[0;34m\u001b[0m\u001b[0;34m\u001b[0m\u001b[0m\n\u001b[1;32m      2\u001b[0m \u001b[0;31m# control, activations\u001b[0m\u001b[0;34m\u001b[0m\u001b[0;34m\u001b[0m\u001b[0m\n\u001b[0;32m----> 3\u001b[0;31m \u001b[0mlogreg_activations_control\u001b[0m\u001b[0;34m,\u001b[0m \u001b[0mtrain_auc_activations_control\u001b[0m\u001b[0;34m,\u001b[0m \u001b[0mtest_auc_activations_control\u001b[0m  \u001b[0;34m=\u001b[0m \u001b[0mtrain_logistic_regression_sm\u001b[0m\u001b[0;34m(\u001b[0m\u001b[0mtrain_activations\u001b[0m\u001b[0;34m,\u001b[0m \u001b[0mtrain_gender_control\u001b[0m\u001b[0;34m,\u001b[0m \u001b[0mtest_activations\u001b[0m\u001b[0;34m,\u001b[0m \u001b[0mtest_gender_control\u001b[0m\u001b[0;34m)\u001b[0m\u001b[0;34m\u001b[0m\u001b[0;34m\u001b[0m\u001b[0m\n\u001b[0m\u001b[1;32m      4\u001b[0m \u001b[0;34m\u001b[0m\u001b[0m\n\u001b[1;32m      5\u001b[0m \u001b[0mprint\u001b[0m\u001b[0;34m(\u001b[0m\u001b[0;34m'_'\u001b[0m\u001b[0;34m*\u001b[0m\u001b[0;36m15\u001b[0m\u001b[0;34m)\u001b[0m\u001b[0;34m\u001b[0m\u001b[0;34m\u001b[0m\u001b[0m\n",
            "\u001b[0;32m<ipython-input-89-c877df3fb349>\u001b[0m in \u001b[0;36mtrain_logistic_regression_sm\u001b[0;34m(X_train, y_train, X_test, y_test)\u001b[0m\n\u001b[1;32m      8\u001b[0m     \u001b[0;31m# Fit the logistic regression model\u001b[0m\u001b[0;34m\u001b[0m\u001b[0;34m\u001b[0m\u001b[0m\n\u001b[1;32m      9\u001b[0m     \u001b[0mmodel\u001b[0m \u001b[0;34m=\u001b[0m \u001b[0msm\u001b[0m\u001b[0;34m.\u001b[0m\u001b[0mLogit\u001b[0m\u001b[0;34m(\u001b[0m\u001b[0my_train\u001b[0m\u001b[0;34m,\u001b[0m \u001b[0mX_train\u001b[0m\u001b[0;34m)\u001b[0m\u001b[0;34m\u001b[0m\u001b[0;34m\u001b[0m\u001b[0m\n\u001b[0;32m---> 10\u001b[0;31m     \u001b[0mresult\u001b[0m \u001b[0;34m=\u001b[0m \u001b[0mmodel\u001b[0m\u001b[0;34m.\u001b[0m\u001b[0mfit\u001b[0m\u001b[0;34m(\u001b[0m\u001b[0;34m)\u001b[0m\u001b[0;34m\u001b[0m\u001b[0;34m\u001b[0m\u001b[0m\n\u001b[0m\u001b[1;32m     11\u001b[0m \u001b[0;34m\u001b[0m\u001b[0m\n\u001b[1;32m     12\u001b[0m     \u001b[0;31m# Print the summary\u001b[0m\u001b[0;34m\u001b[0m\u001b[0;34m\u001b[0m\u001b[0m\n",
            "\u001b[0;32m/usr/local/lib/python3.10/dist-packages/statsmodels/discrete/discrete_model.py\u001b[0m in \u001b[0;36mfit\u001b[0;34m(self, start_params, method, maxiter, full_output, disp, callback, **kwargs)\u001b[0m\n\u001b[1;32m   2599\u001b[0m     def fit(self, start_params=None, method='newton', maxiter=35,\n\u001b[1;32m   2600\u001b[0m             full_output=1, disp=1, callback=None, **kwargs):\n\u001b[0;32m-> 2601\u001b[0;31m         bnryfit = super().fit(start_params=start_params,\n\u001b[0m\u001b[1;32m   2602\u001b[0m                               \u001b[0mmethod\u001b[0m\u001b[0;34m=\u001b[0m\u001b[0mmethod\u001b[0m\u001b[0;34m,\u001b[0m\u001b[0;34m\u001b[0m\u001b[0;34m\u001b[0m\u001b[0m\n\u001b[1;32m   2603\u001b[0m                               \u001b[0mmaxiter\u001b[0m\u001b[0;34m=\u001b[0m\u001b[0mmaxiter\u001b[0m\u001b[0;34m,\u001b[0m\u001b[0;34m\u001b[0m\u001b[0;34m\u001b[0m\u001b[0m\n",
            "\u001b[0;32m/usr/local/lib/python3.10/dist-packages/statsmodels/discrete/discrete_model.py\u001b[0m in \u001b[0;36mfit\u001b[0;34m(self, start_params, method, maxiter, full_output, disp, callback, **kwargs)\u001b[0m\n\u001b[1;32m    241\u001b[0m             \u001b[0;32mpass\u001b[0m  \u001b[0;31m# TODO: make a function factory to have multiple call-backs\u001b[0m\u001b[0;34m\u001b[0m\u001b[0;34m\u001b[0m\u001b[0m\n\u001b[1;32m    242\u001b[0m \u001b[0;34m\u001b[0m\u001b[0m\n\u001b[0;32m--> 243\u001b[0;31m         mlefit = super().fit(start_params=start_params,\n\u001b[0m\u001b[1;32m    244\u001b[0m                              \u001b[0mmethod\u001b[0m\u001b[0;34m=\u001b[0m\u001b[0mmethod\u001b[0m\u001b[0;34m,\u001b[0m\u001b[0;34m\u001b[0m\u001b[0;34m\u001b[0m\u001b[0m\n\u001b[1;32m    245\u001b[0m                              \u001b[0mmaxiter\u001b[0m\u001b[0;34m=\u001b[0m\u001b[0mmaxiter\u001b[0m\u001b[0;34m,\u001b[0m\u001b[0;34m\u001b[0m\u001b[0;34m\u001b[0m\u001b[0m\n",
            "\u001b[0;32m/usr/local/lib/python3.10/dist-packages/statsmodels/base/model.py\u001b[0m in \u001b[0;36mfit\u001b[0;34m(self, start_params, method, maxiter, full_output, disp, fargs, callback, retall, skip_hessian, **kwargs)\u001b[0m\n\u001b[1;32m    580\u001b[0m             \u001b[0mHinv\u001b[0m \u001b[0;34m=\u001b[0m \u001b[0mcov_params_func\u001b[0m\u001b[0;34m(\u001b[0m\u001b[0mself\u001b[0m\u001b[0;34m,\u001b[0m \u001b[0mxopt\u001b[0m\u001b[0;34m,\u001b[0m \u001b[0mretvals\u001b[0m\u001b[0;34m)\u001b[0m\u001b[0;34m\u001b[0m\u001b[0;34m\u001b[0m\u001b[0m\n\u001b[1;32m    581\u001b[0m         \u001b[0;32melif\u001b[0m \u001b[0mmethod\u001b[0m \u001b[0;34m==\u001b[0m \u001b[0;34m'newton'\u001b[0m \u001b[0;32mand\u001b[0m \u001b[0mfull_output\u001b[0m\u001b[0;34m:\u001b[0m\u001b[0;34m\u001b[0m\u001b[0;34m\u001b[0m\u001b[0m\n\u001b[0;32m--> 582\u001b[0;31m             \u001b[0mHinv\u001b[0m \u001b[0;34m=\u001b[0m \u001b[0mnp\u001b[0m\u001b[0;34m.\u001b[0m\u001b[0mlinalg\u001b[0m\u001b[0;34m.\u001b[0m\u001b[0minv\u001b[0m\u001b[0;34m(\u001b[0m\u001b[0;34m-\u001b[0m\u001b[0mretvals\u001b[0m\u001b[0;34m[\u001b[0m\u001b[0;34m'Hessian'\u001b[0m\u001b[0;34m]\u001b[0m\u001b[0;34m)\u001b[0m \u001b[0;34m/\u001b[0m \u001b[0mnobs\u001b[0m\u001b[0;34m\u001b[0m\u001b[0;34m\u001b[0m\u001b[0m\n\u001b[0m\u001b[1;32m    583\u001b[0m         \u001b[0;32melif\u001b[0m \u001b[0;32mnot\u001b[0m \u001b[0mskip_hessian\u001b[0m\u001b[0;34m:\u001b[0m\u001b[0;34m\u001b[0m\u001b[0;34m\u001b[0m\u001b[0m\n\u001b[1;32m    584\u001b[0m             \u001b[0mH\u001b[0m \u001b[0;34m=\u001b[0m \u001b[0;34m-\u001b[0m\u001b[0;36m1\u001b[0m \u001b[0;34m*\u001b[0m \u001b[0mself\u001b[0m\u001b[0;34m.\u001b[0m\u001b[0mhessian\u001b[0m\u001b[0;34m(\u001b[0m\u001b[0mxopt\u001b[0m\u001b[0;34m)\u001b[0m\u001b[0;34m\u001b[0m\u001b[0;34m\u001b[0m\u001b[0m\n",
            "\u001b[0;32m/usr/local/lib/python3.10/dist-packages/numpy/linalg/linalg.py\u001b[0m in \u001b[0;36minv\u001b[0;34m(a)\u001b[0m\n\u001b[1;32m    559\u001b[0m     \u001b[0msignature\u001b[0m \u001b[0;34m=\u001b[0m \u001b[0;34m'D->D'\u001b[0m \u001b[0;32mif\u001b[0m \u001b[0misComplexType\u001b[0m\u001b[0;34m(\u001b[0m\u001b[0mt\u001b[0m\u001b[0;34m)\u001b[0m \u001b[0;32melse\u001b[0m \u001b[0;34m'd->d'\u001b[0m\u001b[0;34m\u001b[0m\u001b[0;34m\u001b[0m\u001b[0m\n\u001b[1;32m    560\u001b[0m     \u001b[0mextobj\u001b[0m \u001b[0;34m=\u001b[0m \u001b[0mget_linalg_error_extobj\u001b[0m\u001b[0;34m(\u001b[0m\u001b[0m_raise_linalgerror_singular\u001b[0m\u001b[0;34m)\u001b[0m\u001b[0;34m\u001b[0m\u001b[0;34m\u001b[0m\u001b[0m\n\u001b[0;32m--> 561\u001b[0;31m     \u001b[0mainv\u001b[0m \u001b[0;34m=\u001b[0m \u001b[0m_umath_linalg\u001b[0m\u001b[0;34m.\u001b[0m\u001b[0minv\u001b[0m\u001b[0;34m(\u001b[0m\u001b[0ma\u001b[0m\u001b[0;34m,\u001b[0m \u001b[0msignature\u001b[0m\u001b[0;34m=\u001b[0m\u001b[0msignature\u001b[0m\u001b[0;34m,\u001b[0m \u001b[0mextobj\u001b[0m\u001b[0;34m=\u001b[0m\u001b[0mextobj\u001b[0m\u001b[0;34m)\u001b[0m\u001b[0;34m\u001b[0m\u001b[0;34m\u001b[0m\u001b[0m\n\u001b[0m\u001b[1;32m    562\u001b[0m     \u001b[0;32mreturn\u001b[0m \u001b[0mwrap\u001b[0m\u001b[0;34m(\u001b[0m\u001b[0mainv\u001b[0m\u001b[0;34m.\u001b[0m\u001b[0mastype\u001b[0m\u001b[0;34m(\u001b[0m\u001b[0mresult_t\u001b[0m\u001b[0;34m,\u001b[0m \u001b[0mcopy\u001b[0m\u001b[0;34m=\u001b[0m\u001b[0;32mFalse\u001b[0m\u001b[0;34m)\u001b[0m\u001b[0;34m)\u001b[0m\u001b[0;34m\u001b[0m\u001b[0;34m\u001b[0m\u001b[0m\n\u001b[1;32m    563\u001b[0m \u001b[0;34m\u001b[0m\u001b[0m\n",
            "\u001b[0;32m/usr/local/lib/python3.10/dist-packages/numpy/linalg/linalg.py\u001b[0m in \u001b[0;36m_raise_linalgerror_singular\u001b[0;34m(err, flag)\u001b[0m\n\u001b[1;32m    110\u001b[0m \u001b[0;34m\u001b[0m\u001b[0m\n\u001b[1;32m    111\u001b[0m \u001b[0;32mdef\u001b[0m \u001b[0m_raise_linalgerror_singular\u001b[0m\u001b[0;34m(\u001b[0m\u001b[0merr\u001b[0m\u001b[0;34m,\u001b[0m \u001b[0mflag\u001b[0m\u001b[0;34m)\u001b[0m\u001b[0;34m:\u001b[0m\u001b[0;34m\u001b[0m\u001b[0;34m\u001b[0m\u001b[0m\n\u001b[0;32m--> 112\u001b[0;31m     \u001b[0;32mraise\u001b[0m \u001b[0mLinAlgError\u001b[0m\u001b[0;34m(\u001b[0m\u001b[0;34m\"Singular matrix\"\u001b[0m\u001b[0;34m)\u001b[0m\u001b[0;34m\u001b[0m\u001b[0;34m\u001b[0m\u001b[0m\n\u001b[0m\u001b[1;32m    113\u001b[0m \u001b[0;34m\u001b[0m\u001b[0m\n\u001b[1;32m    114\u001b[0m \u001b[0;32mdef\u001b[0m \u001b[0m_raise_linalgerror_nonposdef\u001b[0m\u001b[0;34m(\u001b[0m\u001b[0merr\u001b[0m\u001b[0;34m,\u001b[0m \u001b[0mflag\u001b[0m\u001b[0;34m)\u001b[0m\u001b[0;34m:\u001b[0m\u001b[0;34m\u001b[0m\u001b[0;34m\u001b[0m\u001b[0m\n",
            "\u001b[0;31mLinAlgError\u001b[0m: Singular matrix"
          ]
        }
      ],
      "source": [
        "print('Control Task: Logistic Regression on Raw Activations')\n",
        "# control, activations\n",
        "logreg_activations_control, train_auc_activations_control, test_auc_activations_control  = train_logistic_regression_sm(train_activations, train_gender_control, test_activations, test_gender_control)\n",
        "\n",
        "print('_'*15)\n",
        "#control, sae\n",
        "print('Control Task: Logistic Regression on SAE Activations')\n",
        "logreg_sae_control, train_auc_sae_control, test_auc_sae_control = train_logistic_regression_sm(train_sae_activations, train_gender_control, test_sae_activations, test_gender_control)\n",
        "\n",
        "print('_'*15)\n",
        "\n",
        "print('Linguisitic Task: Logistic Regression on Raw Activations')\n",
        "logreg_activations, train_auc_activations, test_auc_activations = train_logistic_regression_sm(train_activations, train_gender, test_activations, test_gender)\n",
        "\n",
        "print('_'*15)\n",
        "\n",
        "print('Linguisitic Task: Logistic Regression on SAE Activations')\n",
        "logreg_sae, train_auc_sae, test_auc_sae = train_logistic_regression_sm(train_sae_activations, train_gender, test_sae_activations, test_gender)"
      ]
    },
    {
      "cell_type": "markdown",
      "id": "ffea212e-8cf3-4b32-86a4-5e10f37375f1",
      "metadata": {
        "id": "ffea212e-8cf3-4b32-86a4-5e10f37375f1"
      },
      "source": [
        "## Neuron-wise 2 sample t-test: Checking whether SAE's activations better shown gender differences as compared to MLP activations"
      ]
    },
    {
      "cell_type": "code",
      "execution_count": null,
      "id": "65f81a8b-7aff-49cf-92ad-a06bf56b7890",
      "metadata": {
        "id": "65f81a8b-7aff-49cf-92ad-a06bf56b7890"
      },
      "outputs": [],
      "source": [
        "male_indices = encoded_gender[encoded_gender == 1.0].index\n",
        "female_indices = encoded_gender[encoded_gender == 0].index"
      ]
    },
    {
      "cell_type": "code",
      "execution_count": null,
      "id": "6832f1ab-a3e7-4f9f-b959-3338721e4597",
      "metadata": {
        "id": "6832f1ab-a3e7-4f9f-b959-3338721e4597"
      },
      "outputs": [],
      "source": [
        "male_activations = activations[male_indices,:]\n",
        "female_activations = activations[female_indices,:]\n",
        "\n",
        "male_sae_activations = sae_activations[male_indices,:]\n",
        "female_sae_activations = sae_activations[female_indices,:]"
      ]
    },
    {
      "cell_type": "code",
      "execution_count": null,
      "id": "c4379bac-865d-49f8-8c29-250f3cf46dd1",
      "metadata": {
        "id": "c4379bac-865d-49f8-8c29-250f3cf46dd1"
      },
      "outputs": [],
      "source": [
        "import numpy as np\n",
        "from scipy.stats import t as t_dist\n",
        "\n",
        "def compute_t_stat(male_activations, female_activations):\n",
        "    male_activations = np.array(male_activations)\n",
        "    female_activations = np.array(female_activations)\n",
        "\n",
        "    mean_male = male_activations.mean(axis = 0)\n",
        "    mean_female = female_activations.mean(axis = 0)\n",
        "\n",
        "    std_male = male_activations.std(axis = 0, ddof = 1)\n",
        "    std_female = female_activations.std(axis = 0, ddof = 1)\n",
        "\n",
        "    n1, n2 = male_activations.shape[0], female_activations.shape[0]\n",
        "\n",
        "    pool_var = ((std_male**2 / n1) + (std_female**2 / n2))\n",
        "    d_dof = ((std_male**2 / n1 + std_female**2 / n2) ** 2) / \\\n",
        "         (( (std_male**2 / n1) ** 2 / (n1 - 1) ) + ( (std_female**2 / n2) ** 2 / (n2 - 1) ))\n",
        "\n",
        "    t_stat = (mean_male - mean_female) / np.sqrt(pool_var)\n",
        "    print(t_stat.shape)\n",
        "    p_value = 2 * (1 - t_dist.cdf(np.abs(t_stat), d_dof))\n",
        "\n",
        "    return t_stat, p_value"
      ]
    },
    {
      "cell_type": "code",
      "execution_count": null,
      "id": "52159539-6899-4adc-bd3b-65b84fa2be39",
      "metadata": {
        "id": "52159539-6899-4adc-bd3b-65b84fa2be39",
        "outputId": "dce5fdee-1ecc-4abd-c575-ed92ba656348",
        "colab": {
          "base_uri": "https://localhost:8080/"
        }
      },
      "outputs": [
        {
          "output_type": "stream",
          "name": "stdout",
          "text": [
            "(1024,)\n",
            "(16384,)\n"
          ]
        }
      ],
      "source": [
        "activation_t_stat, activation_p_value = compute_t_stat(male_activations, female_activations)\n",
        "sae_t_stat, sae_p_value = compute_t_stat(male_sae_activations, female_sae_activations)"
      ]
    },
    {
      "cell_type": "code",
      "execution_count": null,
      "id": "e41f36e9-6808-47e8-b1c4-4f65c9d6447c",
      "metadata": {
        "id": "e41f36e9-6808-47e8-b1c4-4f65c9d6447c"
      },
      "outputs": [],
      "source": [
        "significance_level = 0.99999 #99.999% significance\n",
        "\n",
        "#Converting to series to preserve the index\n",
        "activation_p_value = pd.Series(activation_p_value)\n",
        "sae_p_value = pd.Series(sae_p_value)\n",
        "\n",
        "significant_activations = activation_p_value[activation_p_value < (1 - significance_level)]\n",
        "significant_sae = sae_p_value[sae_p_value < (1 - significance_level)]\n",
        "\n",
        "activation_t_stat = pd.Series(np.abs(activation_t_stat)).sort_values(ascending=False)\n",
        "sae_t_stat = pd.Series(np.abs(sae_t_stat)).sort_values(ascending=False)"
      ]
    },
    {
      "cell_type": "code",
      "execution_count": null,
      "id": "41b1c13d-b0e4-4b17-9844-1f3a8235ff6d",
      "metadata": {
        "id": "41b1c13d-b0e4-4b17-9844-1f3a8235ff6d",
        "outputId": "fc8ce1bd-0f3c-4ced-d954-ad9452ebf9af",
        "colab": {
          "base_uri": "https://localhost:8080/"
        }
      },
      "outputs": [
        {
          "output_type": "stream",
          "name": "stdout",
          "text": [
            "Significant MLP neurons: 9\n",
            "Significant MLP neurons: [222, 337, 363, 606, 717, 851, 901, 912, 928]\n",
            "Significant SAE neurons: 2\n",
            "Significant SAE neurons: [2900, 4223]\n"
          ]
        }
      ],
      "source": [
        "print('Significant MLP neurons:',significant_activations.shape[0])\n",
        "print('Significant MLP neurons:',list(significant_activations.index))\n",
        "print('Significant SAE neurons:',significant_sae.shape[0])\n",
        "print('Significant SAE neurons:',list(significant_sae.index))"
      ]
    },
    {
      "cell_type": "code",
      "source": [
        "#zooming at significant p-values\n",
        "hist_sae_limit = 0.01\n",
        "hist_p_value_activations = activation_p_value[activation_p_value < hist_sae_limit]\n",
        "hist_p_value_sae = sae_p_value[sae_p_value < hist_sae_limit]\n",
        "\n",
        "\n",
        "fig, axs = plt.subplots(3, 1, figsize=(8,10))  # 2 rows, 1 column\n",
        "\n",
        "\n",
        "# MLP Activations\n",
        "axs[0].hist(hist_p_value_activations, bins=10, color='blue', alpha=0.5, lw=3)\n",
        "#axs[0].set_xlim(0, 0.05)\n",
        "axs[0].set_title('p-vaue distribution: MLP Activations')\n",
        "axs[0].set_xlabel('p-value')\n",
        "axs[0].set_ylabel('Frequency')\n",
        "\n",
        "# SAE Activations\n",
        "axs[1].hist(hist_p_value_sae, color='green', bins=10, alpha=0.5, lw=3)\n",
        "#axs[1].set_xlim(0, 0.05)\n",
        "axs[1].set_title('p-vaue distribution: SAE Activations')\n",
        "axs[1].set_xlabel('p-value')\n",
        "axs[1].set_ylabel('Frequency')\n",
        "\n",
        "#Superimposed\n",
        "axs[2].hist(hist_p_value_activations, bins=10, color='blue', alpha=0.5, lw=3,label='MLP Activations')\n",
        "axs[2].hist(hist_p_value_sae, color='green', bins=10, alpha=0.5, lw=3, label='SAE Activations')\n",
        "#axs[1].set_xlim(0, 0.05)\n",
        "axs[2].set_title('Distributions Superimposed')\n",
        "axs[2].set_xlabel('p-value')\n",
        "axs[2].set_ylabel('Frequency')\n",
        "axs[2].legend()\n",
        "\n",
        "# Adjust the layout to prevent overlap\n",
        "plt.tight_layout()\n",
        "\n",
        "# Display the plot\n",
        "plt.show()"
      ],
      "metadata": {
        "colab": {
          "base_uri": "https://localhost:8080/",
          "height": 1000
        },
        "id": "6kndG7-IvGAR",
        "outputId": "1735dafe-47a1-4fd4-fe6b-912da0a8e490"
      },
      "id": "6kndG7-IvGAR",
      "execution_count": null,
      "outputs": [
        {
          "output_type": "display_data",
          "data": {
            "text/plain": [
              "<Figure size 800x1000 with 3 Axes>"
            ],
            "image/png": "[encoded data removed]"
          },
          "metadata": {}
        }
      ]
    },
    {
      "cell_type": "markdown",
      "id": "bf2074cd-3ae6-4a13-aeae-81bd8f1a72aa",
      "metadata": {
        "id": "bf2074cd-3ae6-4a13-aeae-81bd8f1a72aa"
      },
      "source": [
        "## References"
      ]
    },
    {
      "cell_type": "markdown",
      "id": "6ac854e7-abe8-40fc-a4f4-86de34b0a0aa",
      "metadata": {
        "id": "6ac854e7-abe8-40fc-a4f4-86de34b0a0aa"
      },
      "source": [
        "1. Basics of Superposition and Sparse Autoencoders: [ARENA SAE tutorial](https://arena3-chapter1-transformer-interp.streamlit.app/[1.4]_Superposition_&_SAEs), [Exercise Solutions](https://colab.research.google.com/drive/1mHKZpkhYAr0WWAQo2Y6pXL08yNfJHOVx?usp=sharing#scrollTo=AWGU8wAn5DS1) and section 4 of [A Primer on the Inner Workings of Transformer-based Language Models](https://arxiv.org/abs/2405.00208)\n",
        "2. Training a Sparse AutoEncoder: [jloom's tutorial](https://colab.research.google.com/github/jbloomAus/SAELens/blob/main/tutorials/training_a_sparse_autoencoder.ipynb).\n",
        "3. Code for capturing MLP activations (and other boiler plate code): [ChatGPT](https://chatgpt.com/share/f30f9817-6d10-44bd-947a-b851c014921b)\n",
        "4. Boiler plate code to train Linear Probes, Logistic Regression and 2 Sample t-test: [ChatGPT](https://chatgpt.com/share/bd78e941-9384-4080-a520-4528ae22574f).\n",
        "5. Motivation for using Linear Probing techniques: [Redundancy and Concept Analysis for Code-trained Language Models](https://arxiv.org/abs/2305.00875)\n",
        "6. [Privileged vs non-privileged bases in machine learning](https://harrisonpim.com/blog/privileged-vs-non-privileged-bases-in-machine-learning)"
      ]
    },
    {
      "cell_type": "code",
      "source": [],
      "metadata": {
        "id": "qr8axVcEytQ-"
      },
      "id": "qr8axVcEytQ-",
      "execution_count": null,
      "outputs": []
    }
  ],
  "metadata": {
    "kernelspec": {
      "display_name": "Python 3 (ipykernel)",
      "language": "python",
      "name": "python3"
    },
    "language_info": {
      "codemirror_mode": {
        "name": "ipython",
        "version": 3
      },
      "file_extension": ".py",
      "mimetype": "text/x-python",
      "name": "python",
      "nbconvert_exporter": "python",
      "pygments_lexer": "ipython3",
      "version": "3.10.13"
    },
    "colab": {
      "provenance": []
    }
  },
  "nbformat": 4,
  "nbformat_minor": 5
}