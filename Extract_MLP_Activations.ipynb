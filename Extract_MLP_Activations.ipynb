{
 "cells": [
  {
   "cell_type": "code",
   "execution_count": 1,
   "id": "cc62698a-fa96-4fb6-8e7e-5046fc2136ec",
   "metadata": {},
   "outputs": [],
   "source": [
    "import transformer_lens\n",
    "import torch\n",
    "import pandas as pd"
   ]
  },
  {
   "cell_type": "markdown",
   "id": "70685bc7-ac1b-4332-9daa-bbc63a502bea",
   "metadata": {},
   "source": [
    "## Loading the Annotated Dataset"
   ]
  },
  {
   "cell_type": "code",
   "execution_count": 2,
   "id": "c34f9266-24c4-49a5-a924-4dc0d2d07d27",
   "metadata": {},
   "outputs": [
    {
     "data": {
      "text/html": [
       "<div>\n",
       "<style scoped>\n",
       "    .dataframe tbody tr th:only-of-type {\n",
       "        vertical-align: middle;\n",
       "    }\n",
       "\n",
       "    .dataframe tbody tr th {\n",
       "        vertical-align: top;\n",
       "    }\n",
       "\n",
       "    .dataframe thead th {\n",
       "        text-align: right;\n",
       "    }\n",
       "</style>\n",
       "<table border=\"1\" class=\"dataframe\">\n",
       "  <thead>\n",
       "    <tr style=\"text-align: right;\">\n",
       "      <th></th>\n",
       "      <th>Word</th>\n",
       "      <th>Gender</th>\n",
       "      <th>Category</th>\n",
       "    </tr>\n",
       "  </thead>\n",
       "  <tbody>\n",
       "    <tr>\n",
       "      <th>0</th>\n",
       "      <td>Abigail</td>\n",
       "      <td>Female</td>\n",
       "      <td>Name</td>\n",
       "    </tr>\n",
       "    <tr>\n",
       "      <th>1</th>\n",
       "      <td>Adeline</td>\n",
       "      <td>Female</td>\n",
       "      <td>Name</td>\n",
       "    </tr>\n",
       "    <tr>\n",
       "      <th>2</th>\n",
       "      <td>Admiral</td>\n",
       "      <td>Male</td>\n",
       "      <td>Common Noun</td>\n",
       "    </tr>\n",
       "    <tr>\n",
       "      <th>3</th>\n",
       "      <td>Adventuress</td>\n",
       "      <td>Female</td>\n",
       "      <td>Common Noun</td>\n",
       "    </tr>\n",
       "    <tr>\n",
       "      <th>4</th>\n",
       "      <td>Alethea</td>\n",
       "      <td>Female</td>\n",
       "      <td>Name</td>\n",
       "    </tr>\n",
       "  </tbody>\n",
       "</table>\n",
       "</div>"
      ],
      "text/plain": [
       "          Word  Gender     Category\n",
       "0      Abigail  Female         Name\n",
       "1      Adeline  Female         Name\n",
       "2      Admiral    Male  Common Noun\n",
       "3  Adventuress  Female  Common Noun\n",
       "4      Alethea  Female         Name"
      ]
     },
     "execution_count": 2,
     "metadata": {},
     "output_type": "execute_result"
    }
   ],
   "source": [
    "gendered_data = pd.read_csv('gender_data.csv')\n",
    "gendered_data.head()"
   ]
  },
  {
   "cell_type": "code",
   "execution_count": 3,
   "id": "f84a9211-ca61-4f4a-8ac4-cba4d28cd5b7",
   "metadata": {},
   "outputs": [
    {
     "data": {
      "text/plain": [
       "(312, 3)"
      ]
     },
     "execution_count": 3,
     "metadata": {},
     "output_type": "execute_result"
    }
   ],
   "source": [
    "gendered_data.shape"
   ]
  },
  {
   "cell_type": "markdown",
   "id": "3cb26211-e358-40e7-9cbf-82ef1fe1dbce",
   "metadata": {},
   "source": [
    "## Loading Pre-trained Model"
   ]
  },
  {
   "cell_type": "code",
   "execution_count": 4,
   "id": "82110dbd-6847-437d-a222-b2bf1e58fb6b",
   "metadata": {},
   "outputs": [
    {
     "name": "stderr",
     "output_type": "stream",
     "text": [
      "/opt/conda/lib/python3.10/site-packages/transformers/tokenization_utils_base.py:1601: FutureWarning: `clean_up_tokenization_spaces` was not set. It will be set to `True` by default. This behavior will be depracted in transformers v4.45, and will be then set to `False` by default. For more details check this issue: https://github.com/huggingface/transformers/issues/31884\n",
      "  warnings.warn(\n"
     ]
    },
    {
     "name": "stdout",
     "output_type": "stream",
     "text": [
      "Loaded pretrained model tiny-stories-1L-21M into HookedTransformer\n"
     ]
    }
   ],
   "source": [
    "# Load the pre-trained \"tiny-stories-1L-21M\" model\n",
    "model_name = \"tiny-stories-1L-21M\"  # Replace this with the actual model name\n",
    "model = transformer_lens.HookedTransformer.from_pretrained(model_name)"
   ]
  },
  {
   "cell_type": "code",
   "execution_count": 5,
   "id": "c3553478-26da-475b-8d5b-c294e2196024",
   "metadata": {},
   "outputs": [
    {
     "data": {
      "text/plain": [
       "'Once upon a time, there was a girl named Lucy. She was very pretty and loved to play with her toys. One day, she went to the park with her mommy.\\n\\nAt the park, Lucy saw a big, tall tree. She wanted to'"
      ]
     },
     "metadata": {},
     "output_type": "display_data"
    },
    {
     "data": {
      "text/plain": [
       "'Once upon a time, there was a little girl named Lucy. She was three years old and loved to explore. One day, she went for a walk in the woods.\\n\\nAs she was walking, she saw something sparkly in the grass. It was a'"
      ]
     },
     "metadata": {},
     "output_type": "display_data"
    },
    {
     "data": {
      "text/plain": [
       "\"Once upon a time, there was a boy named Sam. Sam was three years old and loved to play with his toys. Every day he would go to his room and do his homework.\\n\\nOne day, Sam's mom asked him to clean his room. Sam\""
      ]
     },
     "metadata": {},
     "output_type": "display_data"
    },
    {
     "data": {
      "text/plain": [
       "'Once upon a time, there was a girl named Lucy. She was three years old and loved to explore. One day, she decided to go on a journey.\\n\\nAs she walked through the forest, she saw something that made her stop and look. It was'"
      ]
     },
     "metadata": {},
     "output_type": "display_data"
    },
    {
     "data": {
      "text/plain": [
       "'Once upon a time, there was a big bird. He was a very happy bird and he loved to fly. One day, he saw a big, juicy apple on the ground. He wanted to eat it, but it was too high up. So, he flew'"
      ]
     },
     "metadata": {},
     "output_type": "display_data"
    }
   ],
   "source": [
    "# here we use generate to get 10 completeions with temperature 1. Feel free to play with the prompt to make it more interesting.\n",
    "for i in range(5):\n",
    "    display(\n",
    "        model.generate(\n",
    "            \"Once upon a time\",\n",
    "            stop_at_eos=False,  # avoids a bug on MPS\n",
    "            temperature=0.5,\n",
    "            verbose=False,\n",
    "            max_new_tokens=50,\n",
    "        )\n",
    "    )"
   ]
  },
  {
   "cell_type": "markdown",
   "id": "46dd43c8-ab27-4cee-b11f-49f423a1bf4f",
   "metadata": {},
   "source": [
    "## Tokenizing the prompts and Setting Up Hooks"
   ]
  },
  {
   "cell_type": "code",
   "execution_count": 6,
   "id": "b28e2487-e0b8-47ca-a451-6f2db051a4db",
   "metadata": {},
   "outputs": [
    {
     "data": {
      "text/plain": [
       "torch.Size([312, 4])"
      ]
     },
     "execution_count": 6,
     "metadata": {},
     "output_type": "execute_result"
    }
   ],
   "source": [
    "prompts = list(gendered_data['Word'])\n",
    "batch_tokens = model.tokenizer(prompts, return_tensors=\"pt\", padding=True)['input_ids']\n",
    "batch_tokens.shape # batch dimension, time dimension"
   ]
  },
  {
   "cell_type": "code",
   "execution_count": 7,
   "id": "144a0d90-e262-4886-8e34-97ebbc7d801b",
   "metadata": {},
   "outputs": [],
   "source": [
    "mlp_activations = []\n",
    "def capture_mlp_activations(module, ip, output):\n",
    "    #print(ip)\n",
    "    mlp_activations.append(output.detach().cpu())\n",
    "\n",
    "# Register hooks to capture MLP activations at each layer\n",
    "# Assuming the MLP layers are named \"mlp\" in the model (adjust if necessary)\n",
    "for layer_index in range(model.cfg.n_layers):\n",
    "    model.blocks[layer_index].mlp.register_forward_hook(capture_mlp_activations)"
   ]
  },
  {
   "cell_type": "markdown",
   "id": "f3ce3491-37f3-4ab4-a9aa-15dc17310bbc",
   "metadata": {},
   "source": [
    "## Model Token Context Testing"
   ]
  },
  {
   "cell_type": "code",
   "execution_count": 8,
   "id": "14ca1eeb-f2c2-45cf-8a81-d2142f0092a1",
   "metadata": {},
   "outputs": [],
   "source": [
    "eg_token = batch_tokens[0]"
   ]
  },
  {
   "cell_type": "code",
   "execution_count": 9,
   "id": "fd5e5198-acae-4416-a6da-d6ad39a49780",
   "metadata": {},
   "outputs": [],
   "source": [
    "token_vectors = []\n",
    "mlp_activations = []"
   ]
  },
  {
   "cell_type": "code",
   "execution_count": 10,
   "id": "f8a956a0-59d0-4069-873a-acfc602edaf7",
   "metadata": {},
   "outputs": [
    {
     "data": {
      "text/plain": [
       "tensor([[ 4826],\n",
       "        [  328],\n",
       "        [  603],\n",
       "        [50256]])"
      ]
     },
     "execution_count": 10,
     "metadata": {},
     "output_type": "execute_result"
    }
   ],
   "source": [
    "no_context_embedding = eg_token.reshape(len(eg_token),-1)\n",
    "no_context_embedding"
   ]
  },
  {
   "cell_type": "code",
   "execution_count": 11,
   "id": "e6f43d7d-f052-4085-b4a8-26a7226ebb61",
   "metadata": {},
   "outputs": [],
   "source": [
    "with torch.no_grad():\n",
    "    model(no_context_embedding)"
   ]
  },
  {
   "cell_type": "code",
   "execution_count": 16,
   "id": "657b87b7-6666-4aa9-8e46-71746190e89f",
   "metadata": {},
   "outputs": [
    {
     "name": "stdout",
     "output_type": "stream",
     "text": [
      "torch.Size([4, 1, 1024])\n",
      "torch.Size([4, 1024])\n"
     ]
    }
   ],
   "source": [
    "print(mlp_activations[0].shape)\n",
    "exp1 = mlp_activations[0].squeeze(1)\n",
    "print(exp1.shape) # batch * sample * embedding dimensions"
   ]
  },
  {
   "cell_type": "code",
   "execution_count": 19,
   "id": "c6a2e826-15ea-46d3-a7f1-13200a67eacd",
   "metadata": {},
   "outputs": [],
   "source": []
  },
  {
   "cell_type": "code",
   "execution_count": 20,
   "id": "fb107279-f2fd-4a54-9467-7668b1352ec9",
   "metadata": {},
   "outputs": [],
   "source": []
  },
  {
   "cell_type": "code",
   "execution_count": 21,
   "id": "f65ed8eb-2fd1-4f5a-8498-7b9765046674",
   "metadata": {},
   "outputs": [
    {
     "name": "stdout",
     "output_type": "stream",
     "text": [
      "[]\n",
      "[tensor([[[-0.4515,  0.4032, -0.1441,  ...,  0.1154,  0.5834,  0.2643],\n",
      "         [ 0.3742,  0.0929, -0.2444,  ...,  0.3709,  1.2639,  0.4193],\n",
      "         [ 0.0167,  0.6710, -0.4912,  ...,  0.0497,  1.1304,  0.1132],\n",
      "         [-0.8192,  0.3767, -0.4370,  ...,  0.0478,  0.3139, -0.1156]]])]\n"
     ]
    }
   ],
   "source": [
    "context_embedding = eg_token.clone()\n",
    "mlp_activations = []\n",
    "print(mlp_activations)\n",
    "with torch.no_grad():\n",
    "    model(context_embedding)\n",
    "print(mlp_activations)"
   ]
  },
  {
   "cell_type": "code",
   "execution_count": 26,
   "id": "2d5084e2-7e68-4d4d-86c7-53db2b107e11",
   "metadata": {},
   "outputs": [
    {
     "name": "stdout",
     "output_type": "stream",
     "text": [
      "torch.Size([1, 4, 1024])\n",
      "torch.Size([4, 1024])\n"
     ]
    }
   ],
   "source": [
    "print(mlp_activations[0].shape)\n",
    "exp2 = mlp_activations[0].squeeze(0)\n",
    "print(exp2.shape) # batch * sample * embedding dimensions"
   ]
  },
  {
   "cell_type": "code",
   "execution_count": 29,
   "id": "07d405ad-847a-4acf-8bf9-2426f4e61f50",
   "metadata": {},
   "outputs": [
    {
     "name": "stdout",
     "output_type": "stream",
     "text": [
      "Without Previous Token Context: tensor([-1.8401, -0.4987,  0.7532,  ..., -0.8744,  0.6383, -0.2679])\n",
      "With Previous Token Context: tensor([-0.8192,  0.3767, -0.4370,  ...,  0.0478,  0.3139, -0.1156])\n"
     ]
    }
   ],
   "source": [
    "print('Without Previous Token Context:',exp1[-1])\n",
    "print('With Previous Token Context:',exp2[-1])"
   ]
  },
  {
   "cell_type": "markdown",
   "id": "59a95fe4-2599-4829-aa07-528807a1b65b",
   "metadata": {},
   "source": [
    "## Computing Activations for Gendered Words"
   ]
  },
  {
   "cell_type": "code",
   "execution_count": 38,
   "id": "22308769-0b9e-4ee1-9228-7fe36b8e514c",
   "metadata": {},
   "outputs": [
    {
     "name": "stdout",
     "output_type": "stream",
     "text": [
      "Layer 0 MLP activations: torch.Size([312, 4, 1024])\n",
      "Final Activations: torch.Size([312, 1024])\n"
     ]
    }
   ],
   "source": [
    "#Forward pass over the model to capture MLP activations\n",
    "mlp_activations = []\n",
    "with torch.no_grad():\n",
    "    model(batch_tokens)\n",
    "\n",
    "# Print out the collected MLP activations\n",
    "for i, activation in enumerate(mlp_activations):\n",
    "    print(f\"Layer {i} MLP activations: {activation.shape}\")\n",
    "\n",
    "activations = torch.mean(mlp_activations[0],dim=1)\n",
    "print('Final Activations:', activations.shape)"
   ]
  },
  {
   "cell_type": "code",
   "execution_count": null,
   "id": "edfb5580-99d5-4d36-b551-4d8de1688b04",
   "metadata": {},
   "outputs": [],
   "source": []
  }
 ],
 "metadata": {
  "kernelspec": {
   "display_name": "Python 3 (ipykernel)",
   "language": "python",
   "name": "python3"
  },
  "language_info": {
   "codemirror_mode": {
    "name": "ipython",
    "version": 3
   },
   "file_extension": ".py",
   "mimetype": "text/x-python",
   "name": "python",
   "nbconvert_exporter": "python",
   "pygments_lexer": "ipython3",
   "version": "3.10.13"
  }
 },
 "nbformat": 4,
 "nbformat_minor": 5
}
